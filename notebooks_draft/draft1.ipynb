{
 "cells": [
  {
   "cell_type": "code",
   "execution_count": 71,
   "metadata": {},
   "outputs": [],
   "source": [
    "import pandas as pd"
   ]
  },
  {
   "cell_type": "code",
   "execution_count": 72,
   "metadata": {},
   "outputs": [
    {
     "data": {
      "text/html": [
       "<div>\n",
       "<style scoped>\n",
       "    .dataframe tbody tr th:only-of-type {\n",
       "        vertical-align: middle;\n",
       "    }\n",
       "\n",
       "    .dataframe tbody tr th {\n",
       "        vertical-align: top;\n",
       "    }\n",
       "\n",
       "    .dataframe thead th {\n",
       "        text-align: right;\n",
       "    }\n",
       "</style>\n",
       "<table border=\"1\" class=\"dataframe\">\n",
       "  <thead>\n",
       "    <tr style=\"text-align: right;\">\n",
       "      <th></th>\n",
       "      <th>Resources</th>\n",
       "      <th>Category</th>\n",
       "    </tr>\n",
       "  </thead>\n",
       "  <tbody>\n",
       "    <tr>\n",
       "      <th>0</th>\n",
       "      <td>https://www.epa.gov/watersense/fix-leak-week\\n</td>\n",
       "      <td>Water</td>\n",
       "    </tr>\n",
       "    <tr>\n",
       "      <th>1</th>\n",
       "      <td>https://www.epa.gov/watersense/statistics-and-...</td>\n",
       "      <td>Water</td>\n",
       "    </tr>\n",
       "    <tr>\n",
       "      <th>2</th>\n",
       "      <td>https://www.nidwater.com/5-facts-you-need-to-k...</td>\n",
       "      <td>Water</td>\n",
       "    </tr>\n",
       "    <tr>\n",
       "      <th>3</th>\n",
       "      <td>https://parade.com/1192402/jessicasager/earth-...</td>\n",
       "      <td>History</td>\n",
       "    </tr>\n",
       "    <tr>\n",
       "      <th>4</th>\n",
       "      <td>https://www.intermountainhistories.org/tours/s...</td>\n",
       "      <td>History</td>\n",
       "    </tr>\n",
       "    <tr>\n",
       "      <th>...</th>\n",
       "      <td>...</td>\n",
       "      <td>...</td>\n",
       "    </tr>\n",
       "    <tr>\n",
       "      <th>101</th>\n",
       "      <td>https://sitn.hms.harvard.edu/uncategorized/201...</td>\n",
       "      <td>Water</td>\n",
       "    </tr>\n",
       "    <tr>\n",
       "      <th>102</th>\n",
       "      <td>https://astrobiology.nasa.gov/education/alp/wa...</td>\n",
       "      <td>Water</td>\n",
       "    </tr>\n",
       "    <tr>\n",
       "      <th>103</th>\n",
       "      <td>https://www.maine.gov/dacf/php/gotpests/otherc...</td>\n",
       "      <td>WIldlife</td>\n",
       "    </tr>\n",
       "    <tr>\n",
       "      <th>104</th>\n",
       "      <td>https://www.nmhealth.org/publication/view/guid...</td>\n",
       "      <td>WIldlife</td>\n",
       "    </tr>\n",
       "    <tr>\n",
       "      <th>105</th>\n",
       "      <td>https://batweek.org/bats-are-important-fascina...</td>\n",
       "      <td>WIldlife</td>\n",
       "    </tr>\n",
       "  </tbody>\n",
       "</table>\n",
       "<p>106 rows × 2 columns</p>\n",
       "</div>"
      ],
      "text/plain": [
       "                                             Resources  Category\n",
       "0       https://www.epa.gov/watersense/fix-leak-week\\n     Water\n",
       "1    https://www.epa.gov/watersense/statistics-and-...     Water\n",
       "2    https://www.nidwater.com/5-facts-you-need-to-k...     Water\n",
       "3    https://parade.com/1192402/jessicasager/earth-...   History\n",
       "4    https://www.intermountainhistories.org/tours/s...   History\n",
       "..                                                 ...       ...\n",
       "101  https://sitn.hms.harvard.edu/uncategorized/201...     Water\n",
       "102  https://astrobiology.nasa.gov/education/alp/wa...     Water\n",
       "103  https://www.maine.gov/dacf/php/gotpests/otherc...  WIldlife\n",
       "104  https://www.nmhealth.org/publication/view/guid...  WIldlife\n",
       "105  https://batweek.org/bats-are-important-fascina...  WIldlife\n",
       "\n",
       "[106 rows x 2 columns]"
      ]
     },
     "execution_count": 72,
     "metadata": {},
     "output_type": "execute_result"
    }
   ],
   "source": [
    "df = pd.read_csv(\"resources.csv\")\n",
    "df"
   ]
  },
  {
   "cell_type": "code",
   "execution_count": 73,
   "metadata": {},
   "outputs": [
    {
     "data": {
      "text/html": [
       "<div>\n",
       "<style scoped>\n",
       "    .dataframe tbody tr th:only-of-type {\n",
       "        vertical-align: middle;\n",
       "    }\n",
       "\n",
       "    .dataframe tbody tr th {\n",
       "        vertical-align: top;\n",
       "    }\n",
       "\n",
       "    .dataframe thead th {\n",
       "        text-align: right;\n",
       "    }\n",
       "</style>\n",
       "<table border=\"1\" class=\"dataframe\">\n",
       "  <thead>\n",
       "    <tr style=\"text-align: right;\">\n",
       "      <th></th>\n",
       "      <th>Resources</th>\n",
       "      <th>Category</th>\n",
       "    </tr>\n",
       "  </thead>\n",
       "  <tbody>\n",
       "    <tr>\n",
       "      <th>0</th>\n",
       "      <td>https://www.epa.gov/watersense/fix-leak-week</td>\n",
       "      <td>Water</td>\n",
       "    </tr>\n",
       "    <tr>\n",
       "      <th>1</th>\n",
       "      <td>https://www.epa.gov/watersense/statistics-and-...</td>\n",
       "      <td>Water</td>\n",
       "    </tr>\n",
       "    <tr>\n",
       "      <th>2</th>\n",
       "      <td>https://www.nidwater.com/5-facts-you-need-to-k...</td>\n",
       "      <td>Water</td>\n",
       "    </tr>\n",
       "    <tr>\n",
       "      <th>3</th>\n",
       "      <td>https://parade.com/1192402/jessicasager/earth-...</td>\n",
       "      <td>History</td>\n",
       "    </tr>\n",
       "    <tr>\n",
       "      <th>4</th>\n",
       "      <td>https://www.intermountainhistories.org/tours/s...</td>\n",
       "      <td>History</td>\n",
       "    </tr>\n",
       "    <tr>\n",
       "      <th>...</th>\n",
       "      <td>...</td>\n",
       "      <td>...</td>\n",
       "    </tr>\n",
       "    <tr>\n",
       "      <th>101</th>\n",
       "      <td>https://sitn.hms.harvard.edu/uncategorized/201...</td>\n",
       "      <td>Water</td>\n",
       "    </tr>\n",
       "    <tr>\n",
       "      <th>102</th>\n",
       "      <td>https://astrobiology.nasa.gov/education/alp/wa...</td>\n",
       "      <td>Water</td>\n",
       "    </tr>\n",
       "    <tr>\n",
       "      <th>103</th>\n",
       "      <td>https://www.maine.gov/dacf/php/gotpests/otherc...</td>\n",
       "      <td>WIldlife</td>\n",
       "    </tr>\n",
       "    <tr>\n",
       "      <th>104</th>\n",
       "      <td>https://www.nmhealth.org/publication/view/guid...</td>\n",
       "      <td>WIldlife</td>\n",
       "    </tr>\n",
       "    <tr>\n",
       "      <th>105</th>\n",
       "      <td>https://batweek.org/bats-are-important-fascina...</td>\n",
       "      <td>WIldlife</td>\n",
       "    </tr>\n",
       "  </tbody>\n",
       "</table>\n",
       "<p>106 rows × 2 columns</p>\n",
       "</div>"
      ],
      "text/plain": [
       "                                             Resources  Category\n",
       "0         https://www.epa.gov/watersense/fix-leak-week     Water\n",
       "1    https://www.epa.gov/watersense/statistics-and-...     Water\n",
       "2    https://www.nidwater.com/5-facts-you-need-to-k...     Water\n",
       "3    https://parade.com/1192402/jessicasager/earth-...   History\n",
       "4    https://www.intermountainhistories.org/tours/s...   History\n",
       "..                                                 ...       ...\n",
       "101  https://sitn.hms.harvard.edu/uncategorized/201...     Water\n",
       "102  https://astrobiology.nasa.gov/education/alp/wa...     Water\n",
       "103  https://www.maine.gov/dacf/php/gotpests/otherc...  WIldlife\n",
       "104  https://www.nmhealth.org/publication/view/guid...  WIldlife\n",
       "105  https://batweek.org/bats-are-important-fascina...  WIldlife\n",
       "\n",
       "[106 rows x 2 columns]"
      ]
     },
     "execution_count": 73,
     "metadata": {},
     "output_type": "execute_result"
    }
   ],
   "source": [
    "# remove the trailing spaces or '\\n' from df\n",
    "df.replace('\\n', '', regex=True, inplace=True)\n",
    "df.replace(' ', '', regex=True, inplace=True)\n",
    "df"
   ]
  },
  {
   "cell_type": "code",
   "execution_count": 74,
   "metadata": {},
   "outputs": [
    {
     "data": {
      "text/plain": [
       "'https://www.un.org/esa/dsd/csd/csd_aboucsd.shtml'"
      ]
     },
     "execution_count": 74,
     "metadata": {},
     "output_type": "execute_result"
    }
   ],
   "source": [
    "# Pick a random row from df\n",
    "df.sample(1)['Resources'].iloc[0]"
   ]
  },
  {
   "cell_type": "code",
   "execution_count": 75,
   "metadata": {},
   "outputs": [
    {
     "data": {
      "text/plain": [
       "6"
      ]
     },
     "execution_count": 75,
     "metadata": {},
     "output_type": "execute_result"
    }
   ],
   "source": [
    "# pick a randow row where the column 'Category' is 'Water' in df\n",
    "len(df.loc[df['Category'] == 'Water'])\n",
    "# df.loc[df['Category'] == 'Energy'].sample(1)['Resources'].iloc[0]\n"
   ]
  },
  {
   "cell_type": "code",
   "execution_count": 76,
   "metadata": {},
   "outputs": [],
   "source": [
    "import nest_asyncio\n",
    "from langchain_community.document_loaders import AsyncChromiumLoader\n",
    "\n",
    "nest_asyncio.apply()\n",
    "\n",
    "\n",
    "url = df.sample(1)['Resources'].iloc[0]\n",
    "loader = AsyncChromiumLoader([url])\n",
    "docs = loader.load()\n"
   ]
  },
  {
   "cell_type": "code",
   "execution_count": 77,
   "metadata": {},
   "outputs": [
    {
     "data": {
      "text/plain": [
       "'https://www.epa.gov/watersense/fix-leak-week'"
      ]
     },
     "execution_count": 77,
     "metadata": {},
     "output_type": "execute_result"
    }
   ],
   "source": [
    "url"
   ]
  },
  {
   "cell_type": "code",
   "execution_count": 78,
   "metadata": {},
   "outputs": [],
   "source": [
    "from langchain_community.document_transformers import BeautifulSoupTransformer\n",
    "\n",
    "bs_transformer = BeautifulSoupTransformer()\n",
    "docs_transformed1 = bs_transformer.transform_documents(docs,       \n",
    "        unwanted_tags=[\"script\", \"style\", \"footer\", \"header\", \"nav\", \"form\", \"noscript\"],\n",
    "        remove_lines=True,\n",
    "        remove_comments=True)\n"
   ]
  },
  {
   "cell_type": "code",
   "execution_count": 79,
   "metadata": {},
   "outputs": [
    {
     "name": "stdout",
     "output_type": "stream",
     "text": [
      "Skip to main content (#main)           Official websites use .gov  A .gov website belongs to an official government organization in the United States.        Secure .gov websites use HTTPS  A lock ( Lock A locked padlock ) or https:// means you’ve safely connected to the .gov website. Share sensitive information only on official, secure websites.               WaterSense    Contact Us (/watersense/forms/contact-us-about-watersense)       Fix a Leak Week         Leaks Can Run, but They Can't Hide  Are you ready to chase down leaks? Household leaks can waste nearly 1 trillion gallons of water annually nationwide, so each year we hunt down the drips during Fix a Leak Week. Mark your calendars for EPA's annual Fix a Leak Week, March 18 through 24, 2024 —but remember that you can find and fix leaks inside and outside your home to save valuable water and money all year long.  From family fun runs to leak detection contests to WaterSense demonstrations, Fix a Leak Week events happen from coast to coast and are all geared to teach you how to find and fix household leaks. See our Event map (#Events) at the bottom of this page to find events near you and view past events!  Learn how to find and fix leaks during Fix a Leak Week. It's as easy as 1-2-3.   Related Information   Check our our animated video with Flo (https://youtu.be/JFUr__lDERo) Exit EPA’s website  Educational resources (/watersense/watersense-kids)    On This Page:  Checking for Leaks (#Checking%20for%20Leaks)  Toilet Leaks (#Toilet%20Leaks)  Faucet Leaks (#Faucet%20Leaks)  Showerhead Leaks (#Showerhead%20Leaks)  Outdoor Leaks (#Outdoor%20Leaks)  In the Workplace (#In%20The%20Workplace)  Leaks Still Flowing? (#Leaks%20Still%20Flowing?)  Partner Events (#Events)  Checking for Leaks     The average household's leaks can account for nearly 10,000 gallons of water wasted every year and ten percent of homes have leaks that waste 90 gallons or more per day. Common types of leaks found in the home are worn toilet flappers, dripping faucets, and other leaking valves. These types of leaks are often easy to fix, requiring only a few tools and hardware that can pay for themselves in water savings. Fixing easily corrected household water leaks can save homeowners about 10 percent on their water bills.  To check for leaks in your home, you first need to determine whether you're wasting water and then identify the source of the leak. Here are some tips for finding leaks:  Take a look at your water usage during a colder month, such as January or February. If a family of four exceeds 12,000 gallons per month, there are serious leaks.  Check your water meter before and after a two-hour period when no water is being used. If the meter changes at all, you probably have a leak.  Identify toilet leaks by placing a drop of food coloring in the toilet tank. If any color shows up in the bowl after 10 minutes, you have a leak. (Be sure to flush immediately after the experiment to avoid staining the tank.)  Examine faucet gaskets and pipe fittings for any water on the outside of the pipe to check for surface leaks.  Use our checklist to keep track of your search for leaks: Detect and Chase Down Leaks at Home Checklist (/sites/production/files/2017-02/documents/ws-ourwater-detect-and-chase-down-leaks-checklist.pdf)  (2 pp, 2 MB, About PDF (/home/pdf-files) ) | En Español (PDF) (/sites/production/files/2019-03/documents/ws-falw-checklist_spanish_508.pdf)  (2 pp, yy K, About PDF (/home/pdf-files) )  WaterSense partners have guides and videos that you might find helpful in finding and fixing leaks. Arizona Municipal Water User's Association has a great Smart Home Water Guide (http://www.smarthomewaterguide.org/) Exit EPA’s website .  Regional Water Providers Consortium in Oregon has a number of videos on detecting household leaks (http://www.conserveh2o.org/how-to-videos-water-conservation) Exit EPA’s website .  Thornton Water in Colorado provides tips and tricks to find hidden water waste (https://www.youtube.com/watch?v=Wn4QWwIEbf0) Exit EPA’s website indoors and outdoors.   Toilet Leaks  Old or worn-out toilet flappers (e.g., valve seal) can cause leaks. This simple rubber device holds water in the tank, then releases water into the bowl when the toilet is flushed. Because the rubber can wear out, the flapper should be checked periodically and replaced at least every five years to ensure  a good seal and avoid leaks. An old or worn flapper can cause your toilet to flush on its own or silently leak thousands of gallons a year. Replacing a flapper is a quick and easy fix that will save water and money. If you need more help, you can also consult your local hardware store, home improvement, retailer, or a licensed plumber.  Here are some online resources from WaterSense partners:  WaterSense Bath Hack #3 shows how easy it is to Replace Your Leaky Toilet Flapper (https://youtu.be/TPeViXIgOPE) Exit EPA’s website .  Moulton Niguel Water District in California has a great series of \"Potty Talk\" videos (https://www.mnwd.com/fix-a-leak/) Exit EPA’s website that walk through everything you need to know about finding and fixing toilet leaks.  Spartanburg Water in South Carolina has a useful video tutorial on detecting leaky toilets. (https://www.youtube.com/watch?v=2lS3GhmF1p0) Exit EPA’s website  Concord General Services has a dye test video on how to detect a toilet leak. (https://www.youtube.com/watch?v=yT8FYDB43a0) Exit EPA’s website  The Regional Water Providers Consortium has a step-by-step video on how to fix a leaky toilet. (https://www.regionalh2o.org/file/fixing-toilet-leak) Exit EPA’s website  Two major manufacturers of flappers also have websites that can help you diagnose problems and find the right flapper to fit your needs: Korky's Toilet Troubleshooting Guide (https://www.korky.com/toilet-help/troubleshooting-guide) Exit EPA’s website and Fluidmaster's Toilet Repair Guide (https://www.fluidmaster.com/toilet-problems/) Exit EPA’s website .  Tip: Bring the old flapper (or a picture of it) to the hardware store to make sure you buy a new flapper that fits your toilet model. Pay attention to the width of the flapper and whether it has a foam float on it that may also need to be replaced. You can also check the owner's manual, if you have it, or the manufacturer's website for information on replacement parts.  Faucet Leaks    Old and worn faucet washers and gaskets frequently cause leaks in faucets. A leaky faucet that drips at the rate of one drip per second can waste more than 3,000 gallons per year. That's the amount of water needed to take more than 180 showers! Many tutorials are available online for how to fix a wide variety of faucets. Here are a few examples from our partners:  AWWA's Drip Calculator (https://drinktap.org/Water-Info/Water-Conservation/Drip-Calculator) Exit EPA’s website helps you see how drips add up to gallons wasted.  Lowe's How to Fix a Dripping or Leaky Double Handle Faucet (https://www.youtube.com/watch?v=DX-OLwqFdHI) Exit EPA’s website .  Lowe's How to Fix a Dripping or Leaky Single Handle Faucet (https://www.youtube.com/watch?v=uHUCdqbZbEY) Exit EPA’s website .  The Home Depot How to Fix a Leaky Bathtub Faucet (https://youtu.be/hX7qJJl9-8w) Exit EPA’s website .  WaterSense Bath Hack #2 shows you How to Replace your Faucet Aerator (https://youtu.be/fFQiIU_zJ5U) Exit EPA’s website .  Tip: Don't forget to turn off the water line before you start!  Showerhead Leaks  A showerhead leaking at 10 drips per minute wastes more than 500 gallons per year. That's the amount of water it takes to wash 60 loads of dishes in your dishwasher. Some leaky showerheads can be fixed by making sure there is a tight connection between the showerhead and the pipe stem and by using pipe tape to secure it. Pipe tape, also called Teflon tape, is available at most hardware stores, is easy to apply, and can help control leaks. For more complicated valve leaks in showers that drip when not in use, contact an experienced handyperson or licensed plumber.  This WaterSense Showerhead Bath Hack #1 video (https://youtu.be/5osCKFzSbxI) Exit EPA’s website shows how easy it is to add teflon tape and replace your showerhead.  Tip: It's also a good idea to check and, if needed, replace the washer or \"o\" ring inside the showerhead while making this repair.  Outdoor Leaks  If you have an in-ground irrigation system, check it each spring before use to make sure it wasn’t damaged by frost or freezing. An irrigation system that has a leak 1/32nd of an inch in diameter (about the thickness of a dime) can waste about 6,300 gallons of water per month. If you need help, hire an irrigation professional certified by a WaterSense labeled program (/water-sense/irrigation-pro) to inspect it for you. These professionals have passed a certification program focused on water efficiency. They will not only help you detect and correct leaks in the system, but also maximize its efficiency.  The Region of Peel in Ontario has a good overview for how to check for sprinkler system leaks (https://www.youtube.com/watch?v=CHuLk0rsnQ4) Exit EPA’s website .  The Salt River Project in Arizona has good tips on how to determine if you have a pool leak (https://www.youtube.com/watch?v=QlQ2ZzKSquk) Exit EPA’s website .  Our Sprinkler Spruce Up (/watersense/sprinkler-spruce-up) materials include a checklist to help you do a check of your irrigation system.  Tip: Don't forget garden hoses!  Check your garden hose for leaks at its connection to the spigot. If it leaks while you run your hose, replace the nylon or rubber hose washer and ensure a tight connection to the spigot using pipe tape and a wrench.   In the Workplace  Leaks don’t just happen at home. You should be on the lookout for leaks even when you are at work. Here are some ways to help find and fix leaks in your workplace.  If you see a leak–in the restroom, pantry, or outdoors–report it to your maintenance staff.  Organize a Fix a Leak Week event in your facility to challenge employees and tenants to find leaks and report water waste. You may even be able to get your local water utility to help.  Post signs in restrooms and pantries to encourage everyone to look for leaks and report problems. Include information on who they should contact. WaterSense developed some graphic tools you can use to communicate with employees on the need to report leaks.   (https://www.epa.gov/sites/default/files/2020-03/watersense-falw-commercialtools.zip) Fix a Leak Week Commercial Resources (zip) (https://www.epa.gov/sites/default/files/2020-03/watersense-falw-commercialtools.zip)    Spread the word about saving water to all tenants, as well as cleaning, housekeeping, maintenance, landscaping staff, and contractors.  Use our checklists to keep track of areas to check for leaks: Fight Leaks and Water Waste in your Facility Checklist (/sites/production/files/2019-02/documents/ws-falw-commercial-checklist.pdf) (2 pp, 638 K, About PDF (/home/pdf-files) ) and    (https://www.epa.gov/system/files/documents/2023-09/ws-stop-look-andlistenfor-leaks.pdf) Stop, Look, and Listen for Leaks! (pdf) (https://www.epa.gov/system/files/documents/2023-09/ws-stop-look-andlistenfor-leaks.pdf)  (485 KB)   Interested in knowing more about how to fight leaks and water waste in commercial buildings? We have advice to help you get started (/watersense/getting-started) .  Leaks Still Flowing?  If you've already determined you have leaks and you find these step-by-step solutions aren't enough to stop them, it might be time to replace your leaking fixtures. When you consult with a plumbing professional, and look for the WaterSense label when considering a new toilet, faucet, or showerhead, you could increase your home's water efficiency. See a complete list of WaterSense labeled products (/water-sense/product-search) .  WaterSense Partner Fix a Leak Week Events     WaterSense partners across the U.S. and Canada joined EPA in the annual Fix a Leak Week by donning their leak detective hats and grabbing their sleuthing gear (dye tabs, wrench and leak checklist) to find and fix common household leaks. Leaks were detected and fixed in bathrooms – toilets, showerheads and faucets, outside at spigots and in many other locations around the house. These leaks were found by vigilant leak detectives across the country. Check out our Event Map to see what events happened near you and click below to see photos and read about some of the events in our 2019 Campaign Summary (/sites/production/files/2019-07/documents/ws-2019-falw-summary.pdf) or summaries from earlier years (/watersense/fix-leak-week-campaign-summaries) .          WaterSense Home (/watersense)    About WaterSense (/watersense/about-watersense)    WaterSense Products (/watersense/watersense-products)    WaterSense for Kids (/watersense/watersense-kids)    Our Water (/watersense/our-water)    How We Use Water (/watersense/how-we-use-water)    Start Saving (/watersense/start-saving)    Fix a Leak (/watersense/fix-leak-week)    Save with Us (/watersense/save-us)      Outdoors (/watersense/outdoors)    Homes (/watersense/homes)    Commercial Buildings (/watersense/commercial-buildings)    WaterSense Partners (/watersense/watersense-partners)    Specifications and Certifications (/watersense/specifications-and-certifications)         Contact Us (/watersense/forms/contact-us-about-watersense) to ask a question, provide feedback, or report a problem.  Last updated on September 25, 2023       (#top)    (#top)\n"
     ]
    }
   ],
   "source": [
    "print(docs_transformed1[0].page_content)"
   ]
  },
  {
   "cell_type": "code",
   "execution_count": 80,
   "metadata": {},
   "outputs": [
    {
     "data": {
      "text/plain": [
       "Document(page_content='Skip to main content (#main)           Official websites use .gov  A .gov website belongs to an official government organization in the United States.        Secure .gov websites use HTTPS  A lock ( Lock A locked padlock ) or https:// means you’ve safely connected to the .gov website. Share sensitive information only on official, secure websites.               WaterSense    Contact Us (/watersense/forms/contact-us-about-watersense)       Fix a Leak Week         Leaks Can Run, but They Can\\'t Hide  Are you ready to chase down leaks? Household leaks can waste nearly\\xa01 trillion gallons of water annually nationwide, so each year we hunt down the drips during Fix a Leak Week. Mark your calendars for EPA\\'s annual Fix a Leak Week, March 18 through 24, 2024 —but remember that you can find and fix leaks inside and outside your home to save valuable water and money all year long.  From family fun runs to leak detection contests to WaterSense demonstrations, Fix a Leak Week events happen from coast to coast and are all geared to teach you how to find and fix household leaks. See our Event map (#Events) at the bottom of this page\\xa0to\\xa0find events near you and view past events!  Learn how to find and fix leaks during Fix a Leak Week. It\\'s as easy as 1-2-3.   Related Information   Check our our animated video with Flo (https://youtu.be/JFUr__lDERo) Exit EPA’s website  Educational resources (/watersense/watersense-kids)    On This Page:  Checking for Leaks (#Checking%20for%20Leaks)  Toilet\\xa0Leaks (#Toilet%20Leaks)  Faucet Leaks (#Faucet%20Leaks)  Showerhead Leaks (#Showerhead%20Leaks)  Outdoor Leaks (#Outdoor%20Leaks)  In the Workplace (#In%20The%20Workplace)  Leaks Still Flowing? (#Leaks%20Still%20Flowing?)  Partner Events (#Events)  Checking for Leaks     The average household\\'s leaks can account for nearly\\xa010,000 gallons of water wasted every year and ten percent of homes have leaks that waste 90 gallons or more per day. Common types of leaks found in the home are worn toilet flappers, dripping faucets, and other leaking valves. These types of leaks are often easy to fix, requiring only a few tools and hardware that can pay for themselves in water savings. Fixing easily corrected household water leaks can save homeowners about 10 percent on their water bills.  To check for leaks in your home, you first need to determine whether you\\'re wasting water and then identify the source of the leak. Here are some tips for finding leaks:  Take a look at your water usage during a colder month, such as January or February. If a family of four exceeds 12,000 gallons per month, there are serious leaks.  Check your water meter before and after a two-hour period when no water is being used. If the meter changes at all, you probably have a leak.  Identify toilet leaks by placing a drop of food coloring in the toilet tank. If any color shows up in the bowl after 10 minutes, you have a leak. (Be sure to flush immediately after the experiment to avoid staining the tank.)  Examine faucet gaskets and pipe fittings for any water on the outside of the pipe to check for surface leaks.  Use our checklist to keep track of your search for leaks: Detect and Chase Down Leaks at Home Checklist (/sites/production/files/2017-02/documents/ws-ourwater-detect-and-chase-down-leaks-checklist.pdf)  (2 pp, 2\\xa0MB, About PDF (/home/pdf-files) ) | En Español (PDF) (/sites/production/files/2019-03/documents/ws-falw-checklist_spanish_508.pdf)  (2\\xa0pp, yy K, About PDF (/home/pdf-files) )  WaterSense partners have guides and videos that you might find helpful in finding and fixing leaks. Arizona Municipal Water User\\'s Association has a great Smart Home Water Guide (http://www.smarthomewaterguide.org/) Exit EPA’s website .  Regional Water Providers Consortium in Oregon\\xa0has a number of videos on detecting household leaks (http://www.conserveh2o.org/how-to-videos-water-conservation) Exit EPA’s website .  Thornton Water in Colorado provides tips and tricks to find hidden water waste (https://www.youtube.com/watch?v=Wn4QWwIEbf0) Exit EPA’s website indoors and outdoors.   Toilet Leaks  Old or worn-out toilet flappers (e.g., valve seal) can cause leaks. This simple rubber device holds water in the tank, then releases water into the bowl when the toilet is flushed. Because the rubber can wear out, the flapper should be checked periodically and replaced at least every five years to ensure\\xa0 a good seal and avoid leaks. An old or worn flapper can cause your toilet to flush on its own or silently leak thousands of gallons a year. Replacing a flapper is a quick and easy fix that will save water and money. If you need more help, you can also consult your local hardware store, home improvement, retailer, or a licensed plumber.\\xa0 Here are some online resources from WaterSense partners:  WaterSense Bath Hack #3 shows how easy it is to Replace Your Leaky Toilet Flapper (https://youtu.be/TPeViXIgOPE) Exit EPA’s website .  Moulton Niguel Water District in California has a great series of \"Potty Talk\" videos (https://www.mnwd.com/fix-a-leak/) Exit EPA’s website that walk through everything you need to know about finding and fixing toilet leaks.  Spartanburg Water in South Carolina has a useful video tutorial on detecting leaky toilets. (https://www.youtube.com/watch?v=2lS3GhmF1p0) Exit EPA’s website  Concord General Services has a dye test video on how to detect a toilet leak. (https://www.youtube.com/watch?v=yT8FYDB43a0) Exit EPA’s website  The Regional Water Providers Consortium has a step-by-step video on how to fix a leaky toilet. (https://www.regionalh2o.org/file/fixing-toilet-leak) Exit EPA’s website  Two major manufacturers of flappers also have websites that can help you diagnose problems and find the right flapper to fit your needs: Korky\\'s Toilet Troubleshooting Guide (https://www.korky.com/toilet-help/troubleshooting-guide) Exit EPA’s website and Fluidmaster\\'s Toilet Repair Guide (https://www.fluidmaster.com/toilet-problems/) Exit EPA’s website .  Tip: Bring the old flapper (or a picture of it) to the hardware store to make sure you buy a new flapper that fits your toilet model. Pay attention to the width of the flapper and whether it has a foam float on it that may also need to be replaced. You can also check the owner\\'s manual, if you have it, or the manufacturer\\'s website for information on replacement parts.  Faucet Leaks    Old and worn faucet washers and gaskets frequently cause leaks in faucets. A leaky faucet that drips at the rate of one drip per second can waste more than 3,000 gallons per year. That\\'s the amount of water needed to take more than 180 showers! Many tutorials are available online for how to fix a wide variety of faucets. Here are a few\\xa0examples from our partners:  AWWA\\'s Drip Calculator (https://drinktap.org/Water-Info/Water-Conservation/Drip-Calculator) Exit EPA’s website helps you see how drips add up to gallons wasted.  Lowe\\'s How to Fix a Dripping or Leaky Double Handle Faucet (https://www.youtube.com/watch?v=DX-OLwqFdHI) Exit EPA’s website .  Lowe\\'s How to Fix a Dripping or Leaky Single Handle Faucet (https://www.youtube.com/watch?v=uHUCdqbZbEY) Exit EPA’s website .  The Home Depot How to Fix a Leaky Bathtub Faucet (https://youtu.be/hX7qJJl9-8w) Exit EPA’s website .  WaterSense Bath Hack #2 shows you How to Replace your Faucet Aerator (https://youtu.be/fFQiIU_zJ5U) Exit EPA’s website .  Tip: Don\\'t forget to turn off the water line before you start!  Showerhead Leaks  A showerhead leaking at 10 drips per minute wastes more than 500 gallons per year. That\\'s the amount of water it takes to wash 60 loads of dishes in your dishwasher. Some leaky showerheads can be fixed by making sure there is a tight connection between the showerhead and the pipe stem and by using pipe tape to secure it. Pipe tape, also called Teflon tape, is available at most hardware stores, is easy to apply, and can help control leaks. For more complicated valve leaks in showers that drip when not in use, contact an experienced handyperson or licensed plumber.  This WaterSense\\xa0Showerhead Bath Hack #1 video (https://youtu.be/5osCKFzSbxI) Exit EPA’s website shows how easy it is to add teflon tape and replace your showerhead.  Tip: It\\'s also a good idea to check and, if needed, replace the washer or \"o\" ring inside the showerhead while making this repair.  Outdoor Leaks  If you have an in-ground irrigation system, check it each spring before use to make sure it wasn’t damaged by frost or freezing. An irrigation system that has a leak 1/32nd of an inch in diameter (about the thickness of a dime) can waste about 6,300 gallons of water per month. If you need help, hire an irrigation professional certified by a WaterSense labeled program (/water-sense/irrigation-pro) to inspect it for you. These professionals have passed a certification program focused on water efficiency. They will not only help you detect and correct leaks in the system, but also maximize its efficiency.  The Region of Peel in Ontario has a good overview for how to check for sprinkler system leaks (https://www.youtube.com/watch?v=CHuLk0rsnQ4) Exit EPA’s website .  The Salt River Project in Arizona has good tips on how to determine if you have a pool leak (https://www.youtube.com/watch?v=QlQ2ZzKSquk) Exit EPA’s website .  Our Sprinkler Spruce Up (/watersense/sprinkler-spruce-up) materials include a checklist to help you do a check of your irrigation system.  Tip: Don\\'t forget garden hoses! \\xa0Check your garden hose for leaks at its connection to the spigot. If it leaks while you run your hose, replace the nylon or rubber hose washer and ensure a tight connection to the spigot using pipe tape and a wrench.   In the Workplace  Leaks don’t just happen at home. You should be on the lookout for leaks even when you are at work. Here are some ways to help find and fix leaks in your workplace.  If you see a leak–in the restroom, pantry, or outdoors–report it to your maintenance staff.  Organize a Fix a Leak Week event in your facility to challenge employees and tenants to find leaks and report water waste. You may even be able to get your local water utility to help.  Post signs in restrooms and pantries to encourage everyone to look for leaks and report problems. Include information on who they should contact.\\xa0WaterSense\\xa0developed some graphic tools you can use to communicate with employees on the need to report leaks.   (https://www.epa.gov/sites/default/files/2020-03/watersense-falw-commercialtools.zip) Fix a Leak Week Commercial Resources (zip) (https://www.epa.gov/sites/default/files/2020-03/watersense-falw-commercialtools.zip)    Spread the word about saving water to all tenants, as well as cleaning, housekeeping, maintenance, landscaping staff, and contractors.  Use our checklists to keep track of areas to check for leaks: Fight Leaks and Water Waste in your Facility Checklist (/sites/production/files/2019-02/documents/ws-falw-commercial-checklist.pdf) (2\\xa0pp, 638\\xa0K, About PDF (/home/pdf-files) ) and    (https://www.epa.gov/system/files/documents/2023-09/ws-stop-look-andlistenfor-leaks.pdf) Stop, Look, and Listen for Leaks! (pdf) (https://www.epa.gov/system/files/documents/2023-09/ws-stop-look-andlistenfor-leaks.pdf)  (485 KB)   Interested in knowing more about how to fight leaks and water waste in commercial buildings? We have advice to help you get started (/watersense/getting-started) .  Leaks Still Flowing?  If you\\'ve already determined you have leaks and you find these step-by-step solutions aren\\'t enough to stop them, it might be time to replace your leaking fixtures. When you consult with a plumbing professional, and look for the WaterSense label when considering a new toilet, faucet, or showerhead, you could increase your home\\'s water efficiency. See a complete list of WaterSense labeled products (/water-sense/product-search) .  WaterSense Partner Fix a Leak Week Events     WaterSense partners across the U.S. and Canada joined EPA in the annual Fix a Leak Week by donning their leak detective hats and grabbing their sleuthing gear (dye tabs, wrench and leak checklist) to find and fix common household leaks. Leaks were detected and fixed in bathrooms – toilets, showerheads and faucets, outside at spigots and in many other locations around the house. These leaks were found by vigilant leak detectives across the country. Check out our Event Map to\\xa0see what events happened near you and click below to see photos and read about some of the events in our 2019\\xa0Campaign Summary (/sites/production/files/2019-07/documents/ws-2019-falw-summary.pdf) or summaries from earlier years (/watersense/fix-leak-week-campaign-summaries) .          WaterSense Home (/watersense)    About WaterSense (/watersense/about-watersense)    WaterSense Products (/watersense/watersense-products)    WaterSense for Kids (/watersense/watersense-kids)    Our Water (/watersense/our-water)    How We Use Water (/watersense/how-we-use-water)    Start Saving (/watersense/start-saving)    Fix a Leak (/watersense/fix-leak-week)    Save with Us (/watersense/save-us)      Outdoors (/watersense/outdoors)    Homes (/watersense/homes)    Commercial Buildings (/watersense/commercial-buildings)    WaterSense Partners (/watersense/watersense-partners)    Specifications and Certifications (/watersense/specifications-and-certifications)         Contact Us (/watersense/forms/contact-us-about-watersense) to ask a question, provide feedback, or report a problem.  Last updated on September 25, 2023       (#top)    (#top)', metadata={'source': 'https://www.epa.gov/watersense/fix-leak-week'})"
      ]
     },
     "execution_count": 80,
     "metadata": {},
     "output_type": "execute_result"
    }
   ],
   "source": [
    "docs_transformed1[0]"
   ]
  },
  {
   "cell_type": "code",
   "execution_count": 81,
   "metadata": {},
   "outputs": [
    {
     "data": {
      "text/plain": [
       "['Source ID: 0\\nArticle Title: {\\'source\\': \\'https://www.epa.gov/watersense/fix-leak-week\\'}\\nArticle Snippet: Skip to main content (#main)           Official websites use .gov  A .gov website belongs to an official government organization in the United States.        Secure .gov websites use HTTPS  A lock ( Lock A locked padlock ) or https:// means you’ve safely connected to the .gov website. Share sensitive information only on official, secure websites.               WaterSense    Contact Us (/watersense/forms/contact-us-about-watersense)       Fix a Leak Week         Leaks Can Run, but They Can\\'t Hide  Are you ready to chase down leaks? Household leaks can waste nearly\\xa01 trillion gallons of water annually nationwide, so each year we hunt down the drips during Fix a Leak Week. Mark your calendars for EPA\\'s annual Fix a Leak Week, March 18 through 24, 2024 —but remember that you can find and fix leaks inside and outside your home to save valuable water and money all year long.  From family fun runs to leak detection contests to WaterSense demonstrations, Fix a Leak Week events happen from coast to coast and are all geared to teach you how to find and fix household leaks. See our Event map (#Events) at the bottom of this page\\xa0to\\xa0find events near you and view past events!  Learn how to find and fix leaks during Fix a Leak Week. It\\'s as easy as 1-2-3.   Related Information   Check our our animated video with Flo (https://youtu.be/JFUr__lDERo) Exit EPA’s website  Educational resources (/watersense/watersense-kids)    On This Page:  Checking for Leaks (#Checking%20for%20Leaks)  Toilet\\xa0Leaks (#Toilet%20Leaks)  Faucet Leaks (#Faucet%20Leaks)  Showerhead Leaks (#Showerhead%20Leaks)  Outdoor Leaks (#Outdoor%20Leaks)  In the Workplace (#In%20The%20Workplace)  Leaks Still Flowing? (#Leaks%20Still%20Flowing?)  Partner Events (#Events)  Checking for Leaks     The average household\\'s leaks can account for nearly\\xa010,000 gallons of water wasted every year and ten percent of homes have leaks that waste 90 gallons or more per day. Common types of leaks found in the home are worn toilet flappers, dripping faucets, and other leaking valves. These types of leaks are often easy to fix, requiring only a few tools and hardware that can pay for themselves in water savings. Fixing easily corrected household water leaks can save homeowners about 10 percent on their water bills.  To check for leaks in your home, you first need to determine whether you\\'re wasting water and then identify the source of the leak. Here are some tips for finding leaks:  Take a look at your water usage during a colder month, such as January or February. If a family of four exceeds 12,000 gallons per month, there are serious leaks.  Check your water meter before and after a two-hour period when no water is being used. If the meter changes at all, you probably have a leak.  Identify toilet leaks by placing a drop of food coloring in the toilet tank. If any color shows up in the bowl after 10 minutes, you have a leak. (Be sure to flush immediately after the experiment to avoid staining the tank.)  Examine faucet gaskets and pipe fittings for any water on the outside of the pipe to check for surface leaks.  Use our checklist to keep track of your search for leaks: Detect and Chase Down Leaks at Home Checklist (/sites/production/files/2017-02/documents/ws-ourwater-detect-and-chase-down-leaks-checklist.pdf)  (2 pp, 2\\xa0MB, About PDF (/home/pdf-files) ) | En Español (PDF) (/sites/production/files/2019-03/documents/ws-falw-checklist_spanish_508.pdf)  (2\\xa0pp, yy K, About PDF (/home/pdf-files) )  WaterSense partners have guides and videos that you might find helpful in finding and fixing leaks. Arizona Municipal Water User\\'s Association has a great Smart Home Water Guide (http://www.smarthomewaterguide.org/) Exit EPA’s website .  Regional Water Providers Consortium in Oregon\\xa0has a number of videos on detecting household leaks (http://www.conserveh2o.org/how-to-videos-water-conservation) Exit EPA’s website .  Thornton Water in Colorado provides tips and tricks to find hidden water waste (https://www.youtube.com/watch?v=Wn4QWwIEbf0) Exit EPA’s website indoors and outdoors.   Toilet Leaks  Old or worn-out toilet flappers (e.g., valve seal) can cause leaks. This simple rubber device holds water in the tank, then releases water into the bowl when the toilet is flushed. Because the rubber can wear out, the flapper should be checked periodically and replaced at least every five years to ensure\\xa0 a good seal and avoid leaks. An old or worn flapper can cause your toilet to flush on its own or silently leak thousands of gallons a year. Replacing a flapper is a quick and easy fix that will save water and money. If you need more help, you can also consult your local hardware store, home improvement, retailer, or a licensed plumber.\\xa0 Here are some online resources from WaterSense partners:  WaterSense Bath Hack #3 shows how easy it is to Replace Your Leaky Toilet Flapper (https://youtu.be/TPeViXIgOPE) Exit EPA’s website .  Moulton Niguel Water District in California has a great series of \"Potty Talk\" videos (https://www.mnwd.com/fix-a-leak/) Exit EPA’s website that walk through everything you need to know about finding and fixing toilet leaks.  Spartanburg Water in South Carolina has a useful video tutorial on detecting leaky toilets. (https://www.youtube.com/watch?v=2lS3GhmF1p0) Exit EPA’s website  Concord General Services has a dye test video on how to detect a toilet leak. (https://www.youtube.com/watch?v=yT8FYDB43a0) Exit EPA’s website  The Regional Water Providers Consortium has a step-by-step video on how to fix a leaky toilet. (https://www.regionalh2o.org/file/fixing-toilet-leak) Exit EPA’s website  Two major manufacturers of flappers also have websites that can help you diagnose problems and find the right flapper to fit your needs: Korky\\'s Toilet Troubleshooting Guide (https://www.korky.com/toilet-help/troubleshooting-guide) Exit EPA’s website and Fluidmaster\\'s Toilet Repair Guide (https://www.fluidmaster.com/toilet-problems/) Exit EPA’s website .  Tip: Bring the old flapper (or a picture of it) to the hardware store to make sure you buy a new flapper that fits your toilet model. Pay attention to the width of the flapper and whether it has a foam float on it that may also need to be replaced. You can also check the owner\\'s manual, if you have it, or the manufacturer\\'s website for information on replacement parts.  Faucet Leaks    Old and worn faucet washers and gaskets frequently cause leaks in faucets. A leaky faucet that drips at the rate of one drip per second can waste more than 3,000 gallons per year. That\\'s the amount of water needed to take more than 180 showers! Many tutorials are available online for how to fix a wide variety of faucets. Here are a few\\xa0examples from our partners:  AWWA\\'s Drip Calculator (https://drinktap.org/Water-Info/Water-Conservation/Drip-Calculator) Exit EPA’s website helps you see how drips add up to gallons wasted.  Lowe\\'s How to Fix a Dripping or Leaky Double Handle Faucet (https://www.youtube.com/watch?v=DX-OLwqFdHI) Exit EPA’s website .  Lowe\\'s How to Fix a Dripping or Leaky Single Handle Faucet (https://www.youtube.com/watch?v=uHUCdqbZbEY) Exit EPA’s website .  The Home Depot How to Fix a Leaky Bathtub Faucet (https://youtu.be/hX7qJJl9-8w) Exit EPA’s website .  WaterSense Bath Hack #2 shows you How to Replace your Faucet Aerator (https://youtu.be/fFQiIU_zJ5U) Exit EPA’s website .  Tip: Don\\'t forget to turn off the water line before you start!  Showerhead Leaks  A showerhead leaking at 10 drips per minute wastes more than 500 gallons per year. That\\'s the amount of water it takes to wash 60 loads of dishes in your dishwasher. Some leaky showerheads can be fixed by making sure there is a tight connection between the showerhead and the pipe stem and by using pipe tape to secure it. Pipe tape, also called Teflon tape, is available at most hardware stores, is easy to apply, and can help control leaks. For more complicated valve leaks in showers that drip when not in use, contact an experienced handyperson or licensed plumber.  This WaterSense\\xa0Showerhead Bath Hack #1 video (https://youtu.be/5osCKFzSbxI) Exit EPA’s website shows how easy it is to add teflon tape and replace your showerhead.  Tip: It\\'s also a good idea to check and, if needed, replace the washer or \"o\" ring inside the showerhead while making this repair.  Outdoor Leaks  If you have an in-ground irrigation system, check it each spring before use to make sure it wasn’t damaged by frost or freezing. An irrigation system that has a leak 1/32nd of an inch in diameter (about the thickness of a dime) can waste about 6,300 gallons of water per month. If you need help, hire an irrigation professional certified by a WaterSense labeled program (/water-sense/irrigation-pro) to inspect it for you. These professionals have passed a certification program focused on water efficiency. They will not only help you detect and correct leaks in the system, but also maximize its efficiency.  The Region of Peel in Ontario has a good overview for how to check for sprinkler system leaks (https://www.youtube.com/watch?v=CHuLk0rsnQ4) Exit EPA’s website .  The Salt River Project in Arizona has good tips on how to determine if you have a pool leak (https://www.youtube.com/watch?v=QlQ2ZzKSquk) Exit EPA’s website .  Our Sprinkler Spruce Up (/watersense/sprinkler-spruce-up) materials include a checklist to help you do a check of your irrigation system.  Tip: Don\\'t forget garden hoses! \\xa0Check your garden hose for leaks at its connection to the spigot. If it leaks while you run your hose, replace the nylon or rubber hose washer and ensure a tight connection to the spigot using pipe tape and a wrench.   In the Workplace  Leaks don’t just happen at home. You should be on the lookout for leaks even when you are at work. Here are some ways to help find and fix leaks in your workplace.  If you see a leak–in the restroom, pantry, or outdoors–report it to your maintenance staff.  Organize a Fix a Leak Week event in your facility to challenge employees and tenants to find leaks and report water waste. You may even be able to get your local water utility to help.  Post signs in restrooms and pantries to encourage everyone to look for leaks and report problems. Include information on who they should contact.\\xa0WaterSense\\xa0developed some graphic tools you can use to communicate with employees on the need to report leaks.   (https://www.epa.gov/sites/default/files/2020-03/watersense-falw-commercialtools.zip) Fix a Leak Week Commercial Resources (zip) (https://www.epa.gov/sites/default/files/2020-03/watersense-falw-commercialtools.zip)    Spread the word about saving water to all tenants, as well as cleaning, housekeeping, maintenance, landscaping staff, and contractors.  Use our checklists to keep track of areas to check for leaks: Fight Leaks and Water Waste in your Facility Checklist (/sites/production/files/2019-02/documents/ws-falw-commercial-checklist.pdf) (2\\xa0pp, 638\\xa0K, About PDF (/home/pdf-files) ) and    (https://www.epa.gov/system/files/documents/2023-09/ws-stop-look-andlistenfor-leaks.pdf) Stop, Look, and Listen for Leaks! (pdf) (https://www.epa.gov/system/files/documents/2023-09/ws-stop-look-andlistenfor-leaks.pdf)  (485 KB)   Interested in knowing more about how to fight leaks and water waste in commercial buildings? We have advice to help you get started (/watersense/getting-started) .  Leaks Still Flowing?  If you\\'ve already determined you have leaks and you find these step-by-step solutions aren\\'t enough to stop them, it might be time to replace your leaking fixtures. When you consult with a plumbing professional, and look for the WaterSense label when considering a new toilet, faucet, or showerhead, you could increase your home\\'s water efficiency. See a complete list of WaterSense labeled products (/water-sense/product-search) .  WaterSense Partner Fix a Leak Week Events     WaterSense partners across the U.S. and Canada joined EPA in the annual Fix a Leak Week by donning their leak detective hats and grabbing their sleuthing gear (dye tabs, wrench and leak checklist) to find and fix common household leaks. Leaks were detected and fixed in bathrooms – toilets, showerheads and faucets, outside at spigots and in many other locations around the house. These leaks were found by vigilant leak detectives across the country. Check out our Event Map to\\xa0see what events happened near you and click below to see photos and read about some of the events in our 2019\\xa0Campaign Summary (/sites/production/files/2019-07/documents/ws-2019-falw-summary.pdf) or summaries from earlier years (/watersense/fix-leak-week-campaign-summaries) .          WaterSense Home (/watersense)    About WaterSense (/watersense/about-watersense)    WaterSense Products (/watersense/watersense-products)    WaterSense for Kids (/watersense/watersense-kids)    Our Water (/watersense/our-water)    How We Use Water (/watersense/how-we-use-water)    Start Saving (/watersense/start-saving)    Fix a Leak (/watersense/fix-leak-week)    Save with Us (/watersense/save-us)      Outdoors (/watersense/outdoors)    Homes (/watersense/homes)    Commercial Buildings (/watersense/commercial-buildings)    WaterSense Partners (/watersense/watersense-partners)    Specifications and Certifications (/watersense/specifications-and-certifications)         Contact Us (/watersense/forms/contact-us-about-watersense) to ask a question, provide feedback, or report a problem.  Last updated on September 25, 2023       (#top)    (#top)']"
      ]
     },
     "execution_count": 81,
     "metadata": {},
     "output_type": "execute_result"
    }
   ],
   "source": [
    "formatted = [\n",
    "        f\"Source ID: {i}\\nArticle Title: {doc.metadata}\\nArticle Snippet: {doc.page_content}\"\n",
    "        for i, doc in enumerate(docs_transformed1)\n",
    "    ]\n",
    "formatted"
   ]
  },
  {
   "cell_type": "code",
   "execution_count": 86,
   "metadata": {},
   "outputs": [
    {
     "data": {
      "text/plain": [
       "True"
      ]
     },
     "execution_count": 86,
     "metadata": {},
     "output_type": "execute_result"
    }
   ],
   "source": [
    "from langchain.chat_models import ChatOpenAI\n",
    "from langchain.chains import LLMChain, create_citation_fuzzy_match_chain\n",
    "from langchain_core.prompts import PromptTemplate\n",
    "from trivia import create_trivia_with_citation__chain\n",
    "\n",
    "import dotenv\n",
    "\n",
    "dotenv.load_dotenv()\n"
   ]
  },
  {
   "cell_type": "code",
   "execution_count": 87,
   "metadata": {},
   "outputs": [],
   "source": [
    "# Define the model\n",
    "llm = ChatOpenAI(temperature=0, model=\"gpt-3.5-turbo\")\n",
    "\n",
    "# Create the chain\n",
    "llm_chain = create_trivia_with_citation__chain(llm)\n",
    "\n",
    "# Use the model\n",
    "question = \"4\"\n",
    "result = llm_chain.run(question=question, context=formatted)"
   ]
  },
  {
   "cell_type": "code",
   "execution_count": 88,
   "metadata": {},
   "outputs": [
    {
     "data": {
      "text/plain": [
       "QuestionAnswer(question='What is the average amount of water wasted by the leaks in the average household per year?', wrong_answer='100 gallons', difficulty='Medium', answer=[FactWithEvidence(fact=\"The average household's leaks can account for nearly 10,000 gallons of water wasted every year.\", trivia_answer='10,000 gallons', substring_quote=[\"The average household's leaks can account for nearly 10,000 gallons of water wasted every year.\"], sources=['https://www.epa.gov/watersense/fix-leak-week'])])"
      ]
     },
     "execution_count": 88,
     "metadata": {},
     "output_type": "execute_result"
    }
   ],
   "source": [
    "result"
   ]
  },
  {
   "cell_type": "code",
   "execution_count": 68,
   "metadata": {},
   "outputs": [
    {
     "data": {
      "text/plain": [
       "[FactWithEvidence(fact='Earth Day, an event to increase public awareness of the world’s environmental problems, is celebrated in the United States for the first time on April 22, 1970.', trivia_answer='April 22, 1970', substring_quote=['Earth Day, an event to increase public awareness of the world’s environmental problems, is celebrated in the United States for the first time on April 22, 1970.'], sources=['https://www.history.com/this-day-in-history/the-first-earth-day'])]"
      ]
     },
     "execution_count": 68,
     "metadata": {},
     "output_type": "execute_result"
    }
   ],
   "source": [
    "result.answer\n"
   ]
  },
  {
   "cell_type": "code",
   "execution_count": null,
   "metadata": {},
   "outputs": [],
   "source": []
  }
 ],
 "metadata": {
  "kernelspec": {
   "display_name": "myenv",
   "language": "python",
   "name": "python3"
  },
  "language_info": {
   "codemirror_mode": {
    "name": "ipython",
    "version": 3
   },
   "file_extension": ".py",
   "mimetype": "text/x-python",
   "name": "python",
   "nbconvert_exporter": "python",
   "pygments_lexer": "ipython3",
   "version": "3.12.0"
  }
 },
 "nbformat": 4,
 "nbformat_minor": 2
}
