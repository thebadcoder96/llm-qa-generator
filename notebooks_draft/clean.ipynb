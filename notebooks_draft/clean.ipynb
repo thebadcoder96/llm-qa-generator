{
 "cells": [
  {
   "cell_type": "code",
   "execution_count": 1,
   "metadata": {},
   "outputs": [
    {
     "data": {
      "text/html": [
       "<div>\n",
       "<style scoped>\n",
       "    .dataframe tbody tr th:only-of-type {\n",
       "        vertical-align: middle;\n",
       "    }\n",
       "\n",
       "    .dataframe tbody tr th {\n",
       "        vertical-align: top;\n",
       "    }\n",
       "\n",
       "    .dataframe thead th {\n",
       "        text-align: right;\n",
       "    }\n",
       "</style>\n",
       "<table border=\"1\" class=\"dataframe\">\n",
       "  <thead>\n",
       "    <tr style=\"text-align: right;\">\n",
       "      <th></th>\n",
       "      <th>Resources</th>\n",
       "      <th>Category</th>\n",
       "    </tr>\n",
       "  </thead>\n",
       "  <tbody>\n",
       "    <tr>\n",
       "      <th>0</th>\n",
       "      <td>https://www.epa.gov/watersense/fix-leak-week</td>\n",
       "      <td>Water</td>\n",
       "    </tr>\n",
       "    <tr>\n",
       "      <th>1</th>\n",
       "      <td>https://www.epa.gov/watersense/statistics-and-...</td>\n",
       "      <td>Water</td>\n",
       "    </tr>\n",
       "    <tr>\n",
       "      <th>2</th>\n",
       "      <td>https://www.nidwater.com/5-facts-you-need-to-k...</td>\n",
       "      <td>Water</td>\n",
       "    </tr>\n",
       "    <tr>\n",
       "      <th>3</th>\n",
       "      <td>https://parade.com/1192402/jessicasager/earth-...</td>\n",
       "      <td>History</td>\n",
       "    </tr>\n",
       "    <tr>\n",
       "      <th>4</th>\n",
       "      <td>https://www.intermountainhistories.org/tours/s...</td>\n",
       "      <td>History</td>\n",
       "    </tr>\n",
       "    <tr>\n",
       "      <th>...</th>\n",
       "      <td>...</td>\n",
       "      <td>...</td>\n",
       "    </tr>\n",
       "    <tr>\n",
       "      <th>164</th>\n",
       "      <td>https://education.nationalgeographic.org/resou...</td>\n",
       "      <td>Water</td>\n",
       "    </tr>\n",
       "    <tr>\n",
       "      <th>165</th>\n",
       "      <td>https://www.worldatlas.com/articles/what-is-a-...</td>\n",
       "      <td>Water</td>\n",
       "    </tr>\n",
       "    <tr>\n",
       "      <th>166</th>\n",
       "      <td>https://environmentamerica.org/pennsylvania/ar...</td>\n",
       "      <td>Technology</td>\n",
       "    </tr>\n",
       "    <tr>\n",
       "      <th>167</th>\n",
       "      <td>https://www.plasticsoupfoundation.org/en/the-n...</td>\n",
       "      <td>Technology</td>\n",
       "    </tr>\n",
       "    <tr>\n",
       "      <th>168</th>\n",
       "      <td>https://oceanblueproject.org/what-are-nurdles-...</td>\n",
       "      <td>Technology</td>\n",
       "    </tr>\n",
       "  </tbody>\n",
       "</table>\n",
       "<p>169 rows × 2 columns</p>\n",
       "</div>"
      ],
      "text/plain": [
       "                                             Resources    Category\n",
       "0         https://www.epa.gov/watersense/fix-leak-week       Water\n",
       "1    https://www.epa.gov/watersense/statistics-and-...       Water\n",
       "2    https://www.nidwater.com/5-facts-you-need-to-k...       Water\n",
       "3    https://parade.com/1192402/jessicasager/earth-...     History\n",
       "4    https://www.intermountainhistories.org/tours/s...     History\n",
       "..                                                 ...         ...\n",
       "164  https://education.nationalgeographic.org/resou...       Water\n",
       "165  https://www.worldatlas.com/articles/what-is-a-...       Water\n",
       "166  https://environmentamerica.org/pennsylvania/ar...  Technology\n",
       "167  https://www.plasticsoupfoundation.org/en/the-n...  Technology\n",
       "168  https://oceanblueproject.org/what-are-nurdles-...  Technology\n",
       "\n",
       "[169 rows x 2 columns]"
      ]
     },
     "execution_count": 1,
     "metadata": {},
     "output_type": "execute_result"
    }
   ],
   "source": [
    "import pandas as pd\n",
    "\n",
    "df = pd.read_csv(\"data/resources.csv\")\n",
    "df.replace('\\n', '', regex=True, inplace=True)\n",
    "df.replace(' ', '', regex=True, inplace=True)\n",
    "df"
   ]
  },
  {
   "cell_type": "code",
   "execution_count": 2,
   "metadata": {},
   "outputs": [
    {
     "data": {
      "text/plain": [
       "'https://www.gpi.org/glass-facts'"
      ]
     },
     "execution_count": 2,
     "metadata": {},
     "output_type": "execute_result"
    }
   ],
   "source": [
    "df.sample(1)['Resources'].iloc[0]"
   ]
  },
  {
   "cell_type": "code",
   "execution_count": 3,
   "metadata": {},
   "outputs": [],
   "source": [
    "def get_categories():\n",
    "    return df['Category'].unique().tolist()\n",
    "\n"
   ]
  },
  {
   "cell_type": "code",
   "execution_count": 4,
   "metadata": {},
   "outputs": [
    {
     "data": {
      "text/plain": [
       "['Water',\n",
       " 'History',\n",
       " 'Policy',\n",
       " 'Air/Atmosphere',\n",
       " 'Energy',\n",
       " 'Actions/Behaviors',\n",
       " 'Solar',\n",
       " 'Technology',\n",
       " 'Wildlife',\n",
       " 'Recycling',\n",
       " 'WIldlife']"
      ]
     },
     "execution_count": 4,
     "metadata": {},
     "output_type": "execute_result"
    }
   ],
   "source": [
    "get_categories()"
   ]
  },
  {
   "cell_type": "code",
   "execution_count": 5,
   "metadata": {},
   "outputs": [
    {
     "data": {
      "text/plain": [
       "['https://astrobiology.nasa.gov/education/alp/water-so-important-for-life/',\n",
       " 'https://education.nationalgeographic.org/resource/lagoon/']"
      ]
     },
     "execution_count": 5,
     "metadata": {},
     "output_type": "execute_result"
    }
   ],
   "source": [
    "def get_urls(category: str = 'Water', number: int = 1):\n",
    "    cat_df = df.loc[df['Category'] == category]\n",
    "    cat_df = cat_df.sample(number)['Resources']\n",
    "    return cat_df.values.tolist()\n",
    "\n",
    "get_urls(number=2)\n"
   ]
  },
  {
   "cell_type": "code",
   "execution_count": 6,
   "metadata": {},
   "outputs": [],
   "source": [
    "from langchain_community.document_loaders import AsyncChromiumLoader\n",
    "from langchain_community.document_transformers import BeautifulSoupTransformer\n",
    "import nest_asyncio\n",
    "\n",
    "nest_asyncio.apply()\n",
    "\n",
    "def extract_urls(urls: list):\n",
    "    loader = AsyncChromiumLoader(urls)\n",
    "    docs = loader.load()\n",
    "    bs_transformer = BeautifulSoupTransformer()\n",
    "\n",
    "    docs_transformed = bs_transformer.transform_documents(docs,       \n",
    "            unwanted_tags=[\"script\", \"style\", \"footer\", \"header\", \"nav\", \"form\", \"noscript\"],\n",
    "            remove_lines=True,\n",
    "            remove_comments=True)\n",
    "    \n",
    "    formatted = [\n",
    "        f\"Source ID: {i}\\nArticle Title: {doc.metadata} \\nArticle Snippet: {doc.page_content}\"\n",
    "        for i, doc in enumerate(docs_transformed)\n",
    "    ]\n",
    "    return formatted"
   ]
  },
  {
   "cell_type": "code",
   "execution_count": 18,
   "metadata": {},
   "outputs": [
    {
     "data": {
      "text/plain": [
       "[\"Source ID: 0\\nArticle Title: {'source': 'https://sitn.hms.harvard.edu/uncategorized/2019/biological-roles-of-water-why-is-water-necessary-for-life/'} \\nArticle Snippet: Skip to content (#content)          by Molly Sargen  figures by Daniel Utter  Water makes up 60-75% of human body weight. A loss of just 4% of total body water leads to dehydration, and a loss of 15% can be fatal. Likewise, a person could survive a month without food but wouldn’t survive 3 days without water. This crucial dependence on water broadly governs all life forms.\\xa0 Clearly water is vital for survival, but what makes it so necessary?  The Molecular Make-up of Water  Many of water’s roles in supporting life are due to its molecular structure and a few special properties. Water is a simple molecule composed of two small, positively charged hydrogen atoms and one large negatively charged oxygen atom. When the hydrogens bind to the oxygen, it creates an asymmetrical molecule with positive charge on one side and negative charge on the other side (Figure 1). This charge differential is called polarity and dictates how water interacts with other molecules.  Figure 1: Water Chemistry. Water molecules are made of two hydrogens and one oxygen. These atoms are of different sizes and charges, which creates the asymmetry in the molecular structure and leads to strong bonds between water and other polar molecules, including water itself.  Water is the “Universal Solvent”  As a polar molecule, water interacts best with other polar molecules, such as itself. This is because of the phenomenon wherein opposite charges attract one another: because each individual water molecule has both a negative portion and a positive portion, each side is attracted to molecules of the opposite charge. This attraction allows water to form relatively strong connections, called bonds, with other polar molecules around it, including other water molecules. In this case, the positive hydrogen of one water molecule will bond with the negative oxygen of the adjacent molecule, whose own hydrogens are attracted to the next oxygen, and so on (Figure 1). Importantly, this bonding makes water molecules stick together in a property called cohesion . The cohesion of water molecules helps plants take up water at their roots. Cohesion also contributes to water’s high boiling point, which helps animals regulate body temperature .  Furthermore, since most biological molecules have some electrical asymmetry, they too are polar and water molecules can form bonds with and surround both their positive and negative regions. In the act of surrounding the polar molecules of another substance, water wriggles its way into all the nooks and crannies between molecules, effectively breaking it apart are dissolving it. This is what happens when you put sugar crystals into water: both water and sugar are polar, allowing individual water molecules to surround individual sugar molecules, breaking apart the sugar and dissolving it. Similar to polarity, some molecules are made of ions, or oppositely charged particles.\\xa0 Water breaks apart these ionic molecules as well by interacting with both the positively and negatively charged particles. This is what happens when you put salt in water, because salt is composed of sodium and chloride ions.  Water’s extensive capability to dissolve a variety of molecules has earned it the designation of “universal solvent,” and it is this ability that makes water such an invaluable life-sustaining force.\\xa0 On a biological level, water’s role as a solvent helps cells transport and use substances like oxygen or nutrients. Water-based solutions like blood help carry molecules to the necessary locations. Thus, water’s role as a solvent facilitates the transport of molecules like oxygen for respiration and has a major impact on the ability of drugs to reach their targets in the body.  Water Supports Cellular Structure  Water also has an important structural role in biology. Visually, water fills cells to help maintain shape and structure (Figure 2). The water inside many cells (including those that make up the human body) creates pressure that opposes external forces, similar to putting air in a balloon. However, even some plants, which can maintain their cell structure without water, still require water to survive. Water allows everything inside cells to have the right shape at the molecular level. As shape is critical for biochemical processes, this is also one of water’s most important roles.  Figure 2: Water impacts cell shape. Water creates pressure inside the cell that helps it maintain shape. In the hydrated cell (left), the water pushes outward and the cell maintains a round shape. In the dehydrated cell, there is less water pushing outward so the cell becomes wrinkled.  Water also contributes to the formation of membranes surrounding cells. Every cell on Earth is surrounded by a membrane, most of which are formed by two layers of molecules called phospholipids (Figure 3). The phospholipids, like water, have two distinct components: a polar “head” and a nonpolar “tail.” Due to this, the polar heads interact with water, while the nonpolar tails try to avoid water and interact with each other instead. Seeking these favorable interactions, phospholipids spontaneously form bilayers with the heads facing outward towards the surrounding water and the tails facing inward, excluding water. The bilayer surrounds cells and selectively allows substances like salts and nutrients to enter and exit the cell. The interactions involved in forming the membrane are strong enough that the membranes form spontaneously and aren’t easily disrupted. Without water, cell membranes would lack structure, and without proper membrane structure, cells would be unable to keep important molecules inside the cell and harmful molecules outside the cell.  Figure 3: Phospholipid bilayers. Phospholipids form bilayers surrounded by water. The polar heads face outward to interact with water and the hydrophobic tails face inward to avoid interacting with water.  In addition to influencing the overall shape of cells, water also impacts some fundamental components of every cell: DNA and proteins. Proteins are produced as a long chain of building blocks called amino acids and\\xa0 need to fold into a specific shape to function correctly. Water drives the folding of amino acid chains as different types of amino acids seek and avoid interacting with water. Proteins provide structure, receive signals, and catalyze chemical reactions in the cell. In this way, proteins are the workhorses of cells. Ultimately proteins drive contraction of muscles, communication, digestion of nutrients, and many other vital functions. Without the proper shape, proteins would be unable to perform these functions and a cell (let alone an entire human) could not survive. Similarly, DNA needs to be in a specific shape for its instructions to be properly decoded. Proteins that read or copy DNA can only bind DNA that has a particular shape. Water molecules surround DNA in an ordered fashion to support its characteristic double-helix conformation. Without this shape, cells would be unable to follow the careful instructions encoded by DNA or to pass the instructions onto future cells, making human growth, reproduction, and, ultimately, survival infeasible .  Chemical Reactions of Water  Water is directly involved in many chemical reactions to build and break down important components of the cell. Photosynthesis, the process in plants that creates sugars for all life forms, requires water. Water also participates in building larger molecules in cells. Molecules like DNA and proteins are made of repetitive units of smaller molecules. Putting these small molecules together occurs through a reaction that produces water. Conversely, water is required for the reverse reaction that breaks down these molecules, allowing cells to obtain nutrients or repurpose pieces of big molecules.  Additionally, water buffers cells from the dangerous effects of acids and bases . Highly acidic or basic substances, like bleach or hydrochloric acid, are corrosive to even the most durable materials. This is because acids and bases release excess hydrogens or take up excess hydrogens, respectively, from the surrounding materials.\\xa0 Losing or gaining positively-charged hydrogens disrupts the structure of molecules. As we’ve learned, proteins require a specific structure to function properly, so it’s important to protect them from acids and bases. Water does this by acting as both an acid and a base (Figure 4). Although the chemical bonds within a water molecule are very stable, it’s possible for a water molecule to give up a hydrogen and become OH – , thus acting as a base, or accept another hydrogen and become H 3 O + , thus acting as an acid. This adaptability allows water to combat drastic changes of pH due to acidic or basic substances in the body in a process called buffering. Ultimately, this protects proteins and other molecules in the cell.  Figure 4: Water acts as a buffer by releasing or accepting hydrogen atoms.  In conclusion, water is vital for all life. Its versatility and adaptability help perform important chemical reactions. Its simple molecular structure helps maintain important shapes for cells’ inner components and outer membrane. No other molecule matches water when it comes to unique properties that support life. Excitingly, researchers continue to establish new properties of water such as additional effects of its asymmetrical structure. Scientists have yet to determine the physiological impacts of these properties. It’s amazing how a simple molecule is universally important for organisms with diverse needs.   Molly Sargen is a first-year PhD Student in the Biological and Biomedical Sciences Program at Harvard Medical School.  Dan Utter is a fifth-year PhD student in Organismic and Evolutionary Biology at Harvard University.  For More Information:   To learn more about the importance of drug solubility see this article .  Check out these articles for more information about proteins and how water impacts their folding .  Learn more about phospholipids here .  Learn more about water affects DNA structure here .  Learn more about acids and bases here .  Check out the unique properties of water at this page or recently discovered properties of water at this article .   This article is part of our special edition on water. To read more, check out our special edition homepage (http://sitn.hms.harvard.edu/?page_id=16645&preview=true) !  Share this: Click to print (Opens in new window) Click to email a link to a friend (Opens in new window) Click to share on Facebook (Opens in new window) Click to share on Twitter (Opens in new window) Click to share on Reddit (Opens in new window)      153 thoughts on “ Biological Roles of Water: Why is water necessary for life? ”       This article really helped me. My text book didn’t provide very much details when explaining. Thank you.   Reply (#comment-261465)        I love Harvard university with all my heart and always desire to be among Harvard students. The content was so helpful thank you…   Reply (#comment-260935)        bazinga bazinga bazinga   Reply (#comment-260926)        that’s actually so real   Reply (#comment-260808)        for real on god bro same   Reply (#comment-260934)          Thanks, this helped a lot   Reply (#comment-260794)        Thank u this really helped me in school   Reply (#comment-260502)        This helped me a lot with my Biology Lab.   Reply (#comment-260141)        I am in school and this is a credible source because this is a .edu   Reply (#comment-259697)        dr peper is my water   Reply (#comment-259529)        FACTS BROOOOOO RELATEABLE   Reply (#comment-259966)        Broooo that’s so relatable.   Reply (#comment-259967)        Haha my daughter’s to.   Reply (#comment-260164)          water is good for your soul, and those who do not immerse themselves in water will find their bodies beaten.   Reply (#comment-259407)        true   saying right   Reply (#comment-259477)         Leave a Reply Cancel reply (/uncategorized/2019/biological-roles-of-water-why-is-water-necessary-for-life/#respond)           This work by SITNBoston (sitnboston.com) is licensed under a Creative Commons Attribution-NonCommercial-ShareAlike 4.0 International License (http://creativecommons.org/licenses/by-nc-sa/4.0/) .      Unless otherwise indicated, attribute to the author or graphics designer and SITNBoston, linking back to this page if possible.\"]"
      ]
     },
     "execution_count": 18,
     "metadata": {},
     "output_type": "execute_result"
    }
   ],
   "source": [
    "extracted = extract_urls(get_urls(number=1))\n",
    "extracted"
   ]
  },
  {
   "cell_type": "code",
   "execution_count": 16,
   "metadata": {},
   "outputs": [],
   "source": [
    "extracted[1]\n",
    "\n",
    "context = \"\\n\".join(doc for doc in extracted)"
   ]
  },
  {
   "cell_type": "code",
   "execution_count": 19,
   "metadata": {},
   "outputs": [
    {
     "ename": "ValidationError",
     "evalue": "1 validation error for QuestionAnswerList\nquestion_answers\n  field required (type=value_error.missing)",
     "output_type": "error",
     "traceback": [
      "\u001b[0;31m---------------------------------------------------------------------------\u001b[0m",
      "\u001b[0;31mValidationError\u001b[0m                           Traceback (most recent call last)",
      "Cell \u001b[0;32mIn[19], line 13\u001b[0m\n\u001b[1;32m     10\u001b[0m llm_chain \u001b[38;5;241m=\u001b[39m create_trivia_with_citation_chain(llm)\n\u001b[1;32m     12\u001b[0m question \u001b[38;5;241m=\u001b[39m \u001b[38;5;124m\"\u001b[39m\u001b[38;5;124m4\u001b[39m\u001b[38;5;124m\"\u001b[39m\n\u001b[0;32m---> 13\u001b[0m result \u001b[38;5;241m=\u001b[39m \u001b[43mllm_chain\u001b[49m\u001b[38;5;241;43m.\u001b[39;49m\u001b[43mrun\u001b[49m\u001b[43m(\u001b[49m\u001b[43mnum_questions\u001b[49m\u001b[38;5;241;43m=\u001b[39;49m\u001b[43mquestion\u001b[49m\u001b[43m,\u001b[49m\u001b[43m \u001b[49m\u001b[43mcontext\u001b[49m\u001b[38;5;241;43m=\u001b[39;49m\u001b[43mextracted\u001b[49m\u001b[43m)\u001b[49m\n\u001b[1;32m     14\u001b[0m result\n",
      "File \u001b[0;32m~/Documents/GitHub Open Source Repos/llm-qa-generator/myenv/lib/python3.12/site-packages/langchain_core/_api/deprecation.py:148\u001b[0m, in \u001b[0;36mdeprecated.<locals>.deprecate.<locals>.warning_emitting_wrapper\u001b[0;34m(*args, **kwargs)\u001b[0m\n\u001b[1;32m    146\u001b[0m     warned \u001b[38;5;241m=\u001b[39m \u001b[38;5;28;01mTrue\u001b[39;00m\n\u001b[1;32m    147\u001b[0m     emit_warning()\n\u001b[0;32m--> 148\u001b[0m \u001b[38;5;28;01mreturn\u001b[39;00m \u001b[43mwrapped\u001b[49m\u001b[43m(\u001b[49m\u001b[38;5;241;43m*\u001b[39;49m\u001b[43margs\u001b[49m\u001b[43m,\u001b[49m\u001b[43m \u001b[49m\u001b[38;5;241;43m*\u001b[39;49m\u001b[38;5;241;43m*\u001b[39;49m\u001b[43mkwargs\u001b[49m\u001b[43m)\u001b[49m\n",
      "File \u001b[0;32m~/Documents/GitHub Open Source Repos/llm-qa-generator/myenv/lib/python3.12/site-packages/langchain/chains/base.py:605\u001b[0m, in \u001b[0;36mChain.run\u001b[0;34m(self, callbacks, tags, metadata, *args, **kwargs)\u001b[0m\n\u001b[1;32m    600\u001b[0m     \u001b[38;5;28;01mreturn\u001b[39;00m \u001b[38;5;28mself\u001b[39m(args[\u001b[38;5;241m0\u001b[39m], callbacks\u001b[38;5;241m=\u001b[39mcallbacks, tags\u001b[38;5;241m=\u001b[39mtags, metadata\u001b[38;5;241m=\u001b[39mmetadata)[\n\u001b[1;32m    601\u001b[0m         _output_key\n\u001b[1;32m    602\u001b[0m     ]\n\u001b[1;32m    604\u001b[0m \u001b[38;5;28;01mif\u001b[39;00m kwargs \u001b[38;5;129;01mand\u001b[39;00m \u001b[38;5;129;01mnot\u001b[39;00m args:\n\u001b[0;32m--> 605\u001b[0m     \u001b[38;5;28;01mreturn\u001b[39;00m \u001b[38;5;28;43mself\u001b[39;49m\u001b[43m(\u001b[49m\u001b[43mkwargs\u001b[49m\u001b[43m,\u001b[49m\u001b[43m \u001b[49m\u001b[43mcallbacks\u001b[49m\u001b[38;5;241;43m=\u001b[39;49m\u001b[43mcallbacks\u001b[49m\u001b[43m,\u001b[49m\u001b[43m \u001b[49m\u001b[43mtags\u001b[49m\u001b[38;5;241;43m=\u001b[39;49m\u001b[43mtags\u001b[49m\u001b[43m,\u001b[49m\u001b[43m \u001b[49m\u001b[43mmetadata\u001b[49m\u001b[38;5;241;43m=\u001b[39;49m\u001b[43mmetadata\u001b[49m\u001b[43m)\u001b[49m[\n\u001b[1;32m    606\u001b[0m         _output_key\n\u001b[1;32m    607\u001b[0m     ]\n\u001b[1;32m    609\u001b[0m \u001b[38;5;28;01mif\u001b[39;00m \u001b[38;5;129;01mnot\u001b[39;00m kwargs \u001b[38;5;129;01mand\u001b[39;00m \u001b[38;5;129;01mnot\u001b[39;00m args:\n\u001b[1;32m    610\u001b[0m     \u001b[38;5;28;01mraise\u001b[39;00m \u001b[38;5;167;01mValueError\u001b[39;00m(\n\u001b[1;32m    611\u001b[0m         \u001b[38;5;124m\"\u001b[39m\u001b[38;5;124m`run` supported with either positional arguments or keyword arguments,\u001b[39m\u001b[38;5;124m\"\u001b[39m\n\u001b[1;32m    612\u001b[0m         \u001b[38;5;124m\"\u001b[39m\u001b[38;5;124m but none were provided.\u001b[39m\u001b[38;5;124m\"\u001b[39m\n\u001b[1;32m    613\u001b[0m     )\n",
      "File \u001b[0;32m~/Documents/GitHub Open Source Repos/llm-qa-generator/myenv/lib/python3.12/site-packages/langchain_core/_api/deprecation.py:148\u001b[0m, in \u001b[0;36mdeprecated.<locals>.deprecate.<locals>.warning_emitting_wrapper\u001b[0;34m(*args, **kwargs)\u001b[0m\n\u001b[1;32m    146\u001b[0m     warned \u001b[38;5;241m=\u001b[39m \u001b[38;5;28;01mTrue\u001b[39;00m\n\u001b[1;32m    147\u001b[0m     emit_warning()\n\u001b[0;32m--> 148\u001b[0m \u001b[38;5;28;01mreturn\u001b[39;00m \u001b[43mwrapped\u001b[49m\u001b[43m(\u001b[49m\u001b[38;5;241;43m*\u001b[39;49m\u001b[43margs\u001b[49m\u001b[43m,\u001b[49m\u001b[43m \u001b[49m\u001b[38;5;241;43m*\u001b[39;49m\u001b[38;5;241;43m*\u001b[39;49m\u001b[43mkwargs\u001b[49m\u001b[43m)\u001b[49m\n",
      "File \u001b[0;32m~/Documents/GitHub Open Source Repos/llm-qa-generator/myenv/lib/python3.12/site-packages/langchain/chains/base.py:383\u001b[0m, in \u001b[0;36mChain.__call__\u001b[0;34m(self, inputs, return_only_outputs, callbacks, tags, metadata, run_name, include_run_info)\u001b[0m\n\u001b[1;32m    351\u001b[0m \u001b[38;5;250m\u001b[39m\u001b[38;5;124;03m\"\"\"Execute the chain.\u001b[39;00m\n\u001b[1;32m    352\u001b[0m \n\u001b[1;32m    353\u001b[0m \u001b[38;5;124;03mArgs:\u001b[39;00m\n\u001b[0;32m   (...)\u001b[0m\n\u001b[1;32m    374\u001b[0m \u001b[38;5;124;03m        `Chain.output_keys`.\u001b[39;00m\n\u001b[1;32m    375\u001b[0m \u001b[38;5;124;03m\"\"\"\u001b[39;00m\n\u001b[1;32m    376\u001b[0m config \u001b[38;5;241m=\u001b[39m {\n\u001b[1;32m    377\u001b[0m     \u001b[38;5;124m\"\u001b[39m\u001b[38;5;124mcallbacks\u001b[39m\u001b[38;5;124m\"\u001b[39m: callbacks,\n\u001b[1;32m    378\u001b[0m     \u001b[38;5;124m\"\u001b[39m\u001b[38;5;124mtags\u001b[39m\u001b[38;5;124m\"\u001b[39m: tags,\n\u001b[1;32m    379\u001b[0m     \u001b[38;5;124m\"\u001b[39m\u001b[38;5;124mmetadata\u001b[39m\u001b[38;5;124m\"\u001b[39m: metadata,\n\u001b[1;32m    380\u001b[0m     \u001b[38;5;124m\"\u001b[39m\u001b[38;5;124mrun_name\u001b[39m\u001b[38;5;124m\"\u001b[39m: run_name,\n\u001b[1;32m    381\u001b[0m }\n\u001b[0;32m--> 383\u001b[0m \u001b[38;5;28;01mreturn\u001b[39;00m \u001b[38;5;28;43mself\u001b[39;49m\u001b[38;5;241;43m.\u001b[39;49m\u001b[43minvoke\u001b[49m\u001b[43m(\u001b[49m\n\u001b[1;32m    384\u001b[0m \u001b[43m    \u001b[49m\u001b[43minputs\u001b[49m\u001b[43m,\u001b[49m\n\u001b[1;32m    385\u001b[0m \u001b[43m    \u001b[49m\u001b[43mcast\u001b[49m\u001b[43m(\u001b[49m\u001b[43mRunnableConfig\u001b[49m\u001b[43m,\u001b[49m\u001b[43m \u001b[49m\u001b[43m{\u001b[49m\u001b[43mk\u001b[49m\u001b[43m:\u001b[49m\u001b[43m \u001b[49m\u001b[43mv\u001b[49m\u001b[43m \u001b[49m\u001b[38;5;28;43;01mfor\u001b[39;49;00m\u001b[43m \u001b[49m\u001b[43mk\u001b[49m\u001b[43m,\u001b[49m\u001b[43m \u001b[49m\u001b[43mv\u001b[49m\u001b[43m \u001b[49m\u001b[38;5;129;43;01min\u001b[39;49;00m\u001b[43m \u001b[49m\u001b[43mconfig\u001b[49m\u001b[38;5;241;43m.\u001b[39;49m\u001b[43mitems\u001b[49m\u001b[43m(\u001b[49m\u001b[43m)\u001b[49m\u001b[43m \u001b[49m\u001b[38;5;28;43;01mif\u001b[39;49;00m\u001b[43m \u001b[49m\u001b[43mv\u001b[49m\u001b[43m \u001b[49m\u001b[38;5;129;43;01mis\u001b[39;49;00m\u001b[43m \u001b[49m\u001b[38;5;129;43;01mnot\u001b[39;49;00m\u001b[43m \u001b[49m\u001b[38;5;28;43;01mNone\u001b[39;49;00m\u001b[43m}\u001b[49m\u001b[43m)\u001b[49m\u001b[43m,\u001b[49m\n\u001b[1;32m    386\u001b[0m \u001b[43m    \u001b[49m\u001b[43mreturn_only_outputs\u001b[49m\u001b[38;5;241;43m=\u001b[39;49m\u001b[43mreturn_only_outputs\u001b[49m\u001b[43m,\u001b[49m\n\u001b[1;32m    387\u001b[0m \u001b[43m    \u001b[49m\u001b[43minclude_run_info\u001b[49m\u001b[38;5;241;43m=\u001b[39;49m\u001b[43minclude_run_info\u001b[49m\u001b[43m,\u001b[49m\n\u001b[1;32m    388\u001b[0m \u001b[43m\u001b[49m\u001b[43m)\u001b[49m\n",
      "File \u001b[0;32m~/Documents/GitHub Open Source Repos/llm-qa-generator/myenv/lib/python3.12/site-packages/langchain/chains/base.py:166\u001b[0m, in \u001b[0;36mChain.invoke\u001b[0;34m(self, input, config, **kwargs)\u001b[0m\n\u001b[1;32m    164\u001b[0m \u001b[38;5;28;01mexcept\u001b[39;00m \u001b[38;5;167;01mBaseException\u001b[39;00m \u001b[38;5;28;01mas\u001b[39;00m e:\n\u001b[1;32m    165\u001b[0m     run_manager\u001b[38;5;241m.\u001b[39mon_chain_error(e)\n\u001b[0;32m--> 166\u001b[0m     \u001b[38;5;28;01mraise\u001b[39;00m e\n\u001b[1;32m    167\u001b[0m run_manager\u001b[38;5;241m.\u001b[39mon_chain_end(outputs)\n\u001b[1;32m    169\u001b[0m \u001b[38;5;28;01mif\u001b[39;00m include_run_info:\n",
      "File \u001b[0;32m~/Documents/GitHub Open Source Repos/llm-qa-generator/myenv/lib/python3.12/site-packages/langchain/chains/base.py:156\u001b[0m, in \u001b[0;36mChain.invoke\u001b[0;34m(self, input, config, **kwargs)\u001b[0m\n\u001b[1;32m    153\u001b[0m \u001b[38;5;28;01mtry\u001b[39;00m:\n\u001b[1;32m    154\u001b[0m     \u001b[38;5;28mself\u001b[39m\u001b[38;5;241m.\u001b[39m_validate_inputs(inputs)\n\u001b[1;32m    155\u001b[0m     outputs \u001b[38;5;241m=\u001b[39m (\n\u001b[0;32m--> 156\u001b[0m         \u001b[38;5;28;43mself\u001b[39;49m\u001b[38;5;241;43m.\u001b[39;49m\u001b[43m_call\u001b[49m\u001b[43m(\u001b[49m\u001b[43minputs\u001b[49m\u001b[43m,\u001b[49m\u001b[43m \u001b[49m\u001b[43mrun_manager\u001b[49m\u001b[38;5;241;43m=\u001b[39;49m\u001b[43mrun_manager\u001b[49m\u001b[43m)\u001b[49m\n\u001b[1;32m    157\u001b[0m         \u001b[38;5;28;01mif\u001b[39;00m new_arg_supported\n\u001b[1;32m    158\u001b[0m         \u001b[38;5;28;01melse\u001b[39;00m \u001b[38;5;28mself\u001b[39m\u001b[38;5;241m.\u001b[39m_call(inputs)\n\u001b[1;32m    159\u001b[0m     )\n\u001b[1;32m    161\u001b[0m     final_outputs: Dict[\u001b[38;5;28mstr\u001b[39m, Any] \u001b[38;5;241m=\u001b[39m \u001b[38;5;28mself\u001b[39m\u001b[38;5;241m.\u001b[39mprep_outputs(\n\u001b[1;32m    162\u001b[0m         inputs, outputs, return_only_outputs\n\u001b[1;32m    163\u001b[0m     )\n\u001b[1;32m    164\u001b[0m \u001b[38;5;28;01mexcept\u001b[39;00m \u001b[38;5;167;01mBaseException\u001b[39;00m \u001b[38;5;28;01mas\u001b[39;00m e:\n",
      "File \u001b[0;32m~/Documents/GitHub Open Source Repos/llm-qa-generator/myenv/lib/python3.12/site-packages/langchain/chains/llm.py:127\u001b[0m, in \u001b[0;36mLLMChain._call\u001b[0;34m(self, inputs, run_manager)\u001b[0m\n\u001b[1;32m    121\u001b[0m \u001b[38;5;28;01mdef\u001b[39;00m \u001b[38;5;21m_call\u001b[39m(\n\u001b[1;32m    122\u001b[0m     \u001b[38;5;28mself\u001b[39m,\n\u001b[1;32m    123\u001b[0m     inputs: Dict[\u001b[38;5;28mstr\u001b[39m, Any],\n\u001b[1;32m    124\u001b[0m     run_manager: Optional[CallbackManagerForChainRun] \u001b[38;5;241m=\u001b[39m \u001b[38;5;28;01mNone\u001b[39;00m,\n\u001b[1;32m    125\u001b[0m ) \u001b[38;5;241m-\u001b[39m\u001b[38;5;241m>\u001b[39m Dict[\u001b[38;5;28mstr\u001b[39m, \u001b[38;5;28mstr\u001b[39m]:\n\u001b[1;32m    126\u001b[0m     response \u001b[38;5;241m=\u001b[39m \u001b[38;5;28mself\u001b[39m\u001b[38;5;241m.\u001b[39mgenerate([inputs], run_manager\u001b[38;5;241m=\u001b[39mrun_manager)\n\u001b[0;32m--> 127\u001b[0m     \u001b[38;5;28;01mreturn\u001b[39;00m \u001b[38;5;28;43mself\u001b[39;49m\u001b[38;5;241;43m.\u001b[39;49m\u001b[43mcreate_outputs\u001b[49m\u001b[43m(\u001b[49m\u001b[43mresponse\u001b[49m\u001b[43m)\u001b[49m[\u001b[38;5;241m0\u001b[39m]\n",
      "File \u001b[0;32m~/Documents/GitHub Open Source Repos/llm-qa-generator/myenv/lib/python3.12/site-packages/langchain/chains/llm.py:284\u001b[0m, in \u001b[0;36mLLMChain.create_outputs\u001b[0;34m(self, llm_result)\u001b[0m\n\u001b[1;32m    279\u001b[0m \u001b[38;5;28;01mdef\u001b[39;00m \u001b[38;5;21mcreate_outputs\u001b[39m(\u001b[38;5;28mself\u001b[39m, llm_result: LLMResult) \u001b[38;5;241m-\u001b[39m\u001b[38;5;241m>\u001b[39m List[Dict[\u001b[38;5;28mstr\u001b[39m, Any]]:\n\u001b[1;32m    280\u001b[0m \u001b[38;5;250m    \u001b[39m\u001b[38;5;124;03m\"\"\"Create outputs from response.\"\"\"\u001b[39;00m\n\u001b[1;32m    281\u001b[0m     result \u001b[38;5;241m=\u001b[39m [\n\u001b[1;32m    282\u001b[0m         \u001b[38;5;66;03m# Get the text of the top generated string.\u001b[39;00m\n\u001b[1;32m    283\u001b[0m         {\n\u001b[0;32m--> 284\u001b[0m             \u001b[38;5;28mself\u001b[39m\u001b[38;5;241m.\u001b[39moutput_key: \u001b[38;5;28;43mself\u001b[39;49m\u001b[38;5;241;43m.\u001b[39;49m\u001b[43moutput_parser\u001b[49m\u001b[38;5;241;43m.\u001b[39;49m\u001b[43mparse_result\u001b[49m\u001b[43m(\u001b[49m\u001b[43mgeneration\u001b[49m\u001b[43m)\u001b[49m,\n\u001b[1;32m    285\u001b[0m             \u001b[38;5;124m\"\u001b[39m\u001b[38;5;124mfull_generation\u001b[39m\u001b[38;5;124m\"\u001b[39m: generation,\n\u001b[1;32m    286\u001b[0m         }\n\u001b[1;32m    287\u001b[0m         \u001b[38;5;28;01mfor\u001b[39;00m generation \u001b[38;5;129;01min\u001b[39;00m llm_result\u001b[38;5;241m.\u001b[39mgenerations\n\u001b[1;32m    288\u001b[0m     ]\n\u001b[1;32m    289\u001b[0m     \u001b[38;5;28;01mif\u001b[39;00m \u001b[38;5;28mself\u001b[39m\u001b[38;5;241m.\u001b[39mreturn_final_only:\n\u001b[1;32m    290\u001b[0m         result \u001b[38;5;241m=\u001b[39m [{\u001b[38;5;28mself\u001b[39m\u001b[38;5;241m.\u001b[39moutput_key: r[\u001b[38;5;28mself\u001b[39m\u001b[38;5;241m.\u001b[39moutput_key]} \u001b[38;5;28;01mfor\u001b[39;00m r \u001b[38;5;129;01min\u001b[39;00m result]\n",
      "File \u001b[0;32m~/Documents/GitHub Open Source Repos/llm-qa-generator/myenv/lib/python3.12/site-packages/langchain_core/output_parsers/openai_functions.py:204\u001b[0m, in \u001b[0;36mPydanticOutputFunctionsParser.parse_result\u001b[0;34m(self, result, partial)\u001b[0m\n\u001b[1;32m    202\u001b[0m _result \u001b[38;5;241m=\u001b[39m \u001b[38;5;28msuper\u001b[39m()\u001b[38;5;241m.\u001b[39mparse_result(result)\n\u001b[1;32m    203\u001b[0m \u001b[38;5;28;01mif\u001b[39;00m \u001b[38;5;28mself\u001b[39m\u001b[38;5;241m.\u001b[39margs_only:\n\u001b[0;32m--> 204\u001b[0m     pydantic_args \u001b[38;5;241m=\u001b[39m \u001b[38;5;28;43mself\u001b[39;49m\u001b[38;5;241;43m.\u001b[39;49m\u001b[43mpydantic_schema\u001b[49m\u001b[38;5;241;43m.\u001b[39;49m\u001b[43mparse_raw\u001b[49m\u001b[43m(\u001b[49m\u001b[43m_result\u001b[49m\u001b[43m)\u001b[49m  \u001b[38;5;66;03m# type: ignore\u001b[39;00m\n\u001b[1;32m    205\u001b[0m \u001b[38;5;28;01melse\u001b[39;00m:\n\u001b[1;32m    206\u001b[0m     fn_name \u001b[38;5;241m=\u001b[39m _result[\u001b[38;5;124m\"\u001b[39m\u001b[38;5;124mname\u001b[39m\u001b[38;5;124m\"\u001b[39m]\n",
      "File \u001b[0;32m~/Documents/GitHub Open Source Repos/llm-qa-generator/myenv/lib/python3.12/site-packages/pydantic/v1/main.py:549\u001b[0m, in \u001b[0;36mBaseModel.parse_raw\u001b[0;34m(cls, b, content_type, encoding, proto, allow_pickle)\u001b[0m\n\u001b[1;32m    547\u001b[0m \u001b[38;5;28;01mexcept\u001b[39;00m (\u001b[38;5;167;01mValueError\u001b[39;00m, \u001b[38;5;167;01mTypeError\u001b[39;00m, \u001b[38;5;167;01mUnicodeDecodeError\u001b[39;00m) \u001b[38;5;28;01mas\u001b[39;00m e:\n\u001b[1;32m    548\u001b[0m     \u001b[38;5;28;01mraise\u001b[39;00m ValidationError([ErrorWrapper(e, loc\u001b[38;5;241m=\u001b[39mROOT_KEY)], \u001b[38;5;28mcls\u001b[39m)\n\u001b[0;32m--> 549\u001b[0m \u001b[38;5;28;01mreturn\u001b[39;00m \u001b[38;5;28;43mcls\u001b[39;49m\u001b[38;5;241;43m.\u001b[39;49m\u001b[43mparse_obj\u001b[49m\u001b[43m(\u001b[49m\u001b[43mobj\u001b[49m\u001b[43m)\u001b[49m\n",
      "File \u001b[0;32m~/Documents/GitHub Open Source Repos/llm-qa-generator/myenv/lib/python3.12/site-packages/pydantic/v1/main.py:526\u001b[0m, in \u001b[0;36mBaseModel.parse_obj\u001b[0;34m(cls, obj)\u001b[0m\n\u001b[1;32m    524\u001b[0m         exc \u001b[38;5;241m=\u001b[39m \u001b[38;5;167;01mTypeError\u001b[39;00m(\u001b[38;5;124mf\u001b[39m\u001b[38;5;124m'\u001b[39m\u001b[38;5;132;01m{\u001b[39;00m\u001b[38;5;28mcls\u001b[39m\u001b[38;5;241m.\u001b[39m\u001b[38;5;18m__name__\u001b[39m\u001b[38;5;132;01m}\u001b[39;00m\u001b[38;5;124m expected dict not \u001b[39m\u001b[38;5;132;01m{\u001b[39;00mobj\u001b[38;5;241m.\u001b[39m\u001b[38;5;18m__class__\u001b[39m\u001b[38;5;241m.\u001b[39m\u001b[38;5;18m__name__\u001b[39m\u001b[38;5;132;01m}\u001b[39;00m\u001b[38;5;124m'\u001b[39m)\n\u001b[1;32m    525\u001b[0m         \u001b[38;5;28;01mraise\u001b[39;00m ValidationError([ErrorWrapper(exc, loc\u001b[38;5;241m=\u001b[39mROOT_KEY)], \u001b[38;5;28mcls\u001b[39m) \u001b[38;5;28;01mfrom\u001b[39;00m \u001b[38;5;21;01me\u001b[39;00m\n\u001b[0;32m--> 526\u001b[0m \u001b[38;5;28;01mreturn\u001b[39;00m \u001b[38;5;28;43mcls\u001b[39;49m\u001b[43m(\u001b[49m\u001b[38;5;241;43m*\u001b[39;49m\u001b[38;5;241;43m*\u001b[39;49m\u001b[43mobj\u001b[49m\u001b[43m)\u001b[49m\n",
      "File \u001b[0;32m~/Documents/GitHub Open Source Repos/llm-qa-generator/myenv/lib/python3.12/site-packages/pydantic/v1/main.py:341\u001b[0m, in \u001b[0;36mBaseModel.__init__\u001b[0;34m(__pydantic_self__, **data)\u001b[0m\n\u001b[1;32m    339\u001b[0m values, fields_set, validation_error \u001b[38;5;241m=\u001b[39m validate_model(__pydantic_self__\u001b[38;5;241m.\u001b[39m\u001b[38;5;18m__class__\u001b[39m, data)\n\u001b[1;32m    340\u001b[0m \u001b[38;5;28;01mif\u001b[39;00m validation_error:\n\u001b[0;32m--> 341\u001b[0m     \u001b[38;5;28;01mraise\u001b[39;00m validation_error\n\u001b[1;32m    342\u001b[0m \u001b[38;5;28;01mtry\u001b[39;00m:\n\u001b[1;32m    343\u001b[0m     object_setattr(__pydantic_self__, \u001b[38;5;124m'\u001b[39m\u001b[38;5;124m__dict__\u001b[39m\u001b[38;5;124m'\u001b[39m, values)\n",
      "\u001b[0;31mValidationError\u001b[0m: 1 validation error for QuestionAnswerList\nquestion_answers\n  field required (type=value_error.missing)"
     ]
    }
   ],
   "source": [
    "import dotenv\n",
    "from langchain_openai import ChatOpenAI\n",
    "\n",
    "from citation_chain import create_trivia_with_citation_chain\n",
    "\n",
    "\n",
    "dotenv.load_dotenv()\n",
    "\n",
    "llm = ChatOpenAI(temperature=0, model=\"gpt-3.5-turbo\")\n",
    "llm_chain = create_trivia_with_citation_chain(llm)\n",
    "\n",
    "question = \"4\"\n",
    "result = llm_chain.run(num_questions=question, context=extracted)\n",
    "result"
   ]
  },
  {
   "cell_type": "code",
   "execution_count": null,
   "metadata": {},
   "outputs": [],
   "source": [
    "questions=[QuestionAnswer(question='What is a lagoon?', wrong_answer='A lake', difficulty='Easy', \n",
    "                          answer=FactWithEvidence(fact='A lagoon is a body of water separated from larger bodies of water by a natural barrier.', \n",
    "                                                  trivia_answer='A body of water separated by a natural barrier', \n",
    "                                                  substring_quote='A lagoon is a body of water separated from larger bodies of water by a natural barrier.', \n",
    "                                                  sources='https://oceanservice.noaa.gov/facts/lagoon.html')), \n",
    "            QuestionAnswer(question='How are atoll lagoons formed?', wrong_answer='By volcanic eruptions', difficulty='Medium', \n",
    "                           answer=FactWithEvidence(fact='Atoll lagoons form when an island completely subsides beneath the water, leaving a ring of coral that continues to grow upwards.', \n",
    "                                                   trivia_answer='When an island subsides beneath the water, leaving a ring of coral', \n",
    "                                                   substring_quote='Atoll lagoons form when an island completely subsides beneath the water, leaving a ring of coral that continues to grow upwards.', \n",
    "                                                   sources='https://oceanservice.noaa.gov/facts/lagoon.html')), \n",
    "            QuestionAnswer(question='What are coastal lagoons sheltered by?', wrong_answer='Mountains', difficulty='Hard', \n",
    "                           answer=FactWithEvidence(fact='Lagoons sheltered by sandbars or barrier islands are called coastal lagoons.', \n",
    "                                                   trivia_answer='Sandbars or barrier islands', \n",
    "                                                   substring_quote='Lagoons sheltered by sandbars or barrier islands are called coastal lagoons.', \n",
    "                                                   sources='https://education.nationalgeographic.org/resource/lagoon/')), \n",
    "            QuestionAnswer(question='What is the nickname of the city of Venice?', wrong_answer='City of Canals', difficulty='Easy', \n",
    "                           answer=FactWithEvidence(fact='Venice\\'s nickname is \"Queen of the Adriatic.\"', \n",
    "                                                   trivia_answer='Queen of the Adriatic', \n",
    "                                                   substring_quote='Venice\\'s nickname is \"Queen of the Adriatic.\"', \n",
    "                                                   sources='https://education.nationalgeographic.org/resource/lagoon/')), \n",
    "            QuestionAnswer(question='What is the Blue Lagoon in Iceland known for?', wrong_answer='Natural formation', difficulty='Medium', \n",
    "                           answer=FactWithEvidence(fact='The Blue Lagoon in Iceland is a manmade feature where water from a local geothermal power plant is pumped over a lava bed rich in silica and sulfur.', \n",
    "                                                   trivia_answer='Manmade feature with geothermal water', \n",
    "                                                   substring_quote=\"The world's most famous lagoon, the Blue Lagoon in Iceland, is not a lagoon at all. It is a manmade feature where water from a local geothermal power plant is pumped over a lava bed rich in silica and sulfur.\", \n",
    "                                                   sources='https://education.nationalgeographic.org/resource/lagoon/'))]"
   ]
  },
  {
   "cell_type": "code",
   "execution_count": 24,
   "metadata": {},
   "outputs": [
    {
     "data": {
      "text/plain": [
       "[SystemMessage(content='You are a world class algorithm to generate trivia questions and answers with correct and exact citations.'),\n",
       " HumanMessagePromptTemplate(prompt=PromptTemplate(input_variables=['num_questions'], template='Generate {num_questions} sets of trivia-style questions and answers using the following context')),\n",
       " HumanMessagePromptTemplate(prompt=PromptTemplate(input_variables=['context'], template='{context}')),\n",
       " HumanMessage(content='Tips: Make sure to cite your sources, and use the exact words from the context.')]"
      ]
     },
     "execution_count": 24,
     "metadata": {},
     "output_type": "execute_result"
    }
   ],
   "source": [
    "from langchain_core.messages import HumanMessage, SystemMessage\n",
    "from langchain_core.prompts.chat import ChatPromptTemplate, HumanMessagePromptTemplate\n",
    "\n",
    "\n",
    "messages = [\n",
    "    SystemMessage(\n",
    "        content=(\n",
    "            \"You are a world class algorithm to generate trivia \"\n",
    "            \"questions and answers with correct and exact citations.\"\n",
    "        )\n",
    "    ),\n",
    "    HumanMessagePromptTemplate.from_template(\n",
    "            \"Generate {num_questions} sets of trivia-style questions \"\n",
    "            \"and answers using the following context\"\n",
    "    ),\n",
    "    HumanMessagePromptTemplate.from_template(\"{context}\"),\n",
    "    HumanMessage(\n",
    "        content=(\n",
    "            \"Tips: Make sure to cite your sources, \"\n",
    "            \"and use the exact words from the context.\"\n",
    "        )\n",
    "    ),\n",
    "]\n",
    "messages"
   ]
  },
  {
   "cell_type": "code",
   "execution_count": 27,
   "metadata": {},
   "outputs": [
    {
     "name": "stdout",
     "output_type": "stream",
     "text": [
      "================================\u001b[1m System Message \u001b[0m================================\n",
      "\n",
      "You are a world class algorithm to generate trivia questions and answers with correct and exact citations.\n",
      "\n",
      "================================\u001b[1m Human Message \u001b[0m=================================\n",
      "\n",
      "Generate \u001b[33;1m\u001b[1;3m{num_questions}\u001b[0m sets of trivia-style questions and answers using the following context\n",
      "\n",
      "================================\u001b[1m Human Message \u001b[0m=================================\n",
      "\n",
      "\u001b[33;1m\u001b[1;3m{context}\u001b[0m\n",
      "\n",
      "================================\u001b[1m Human Message \u001b[0m=================================\n",
      "\n",
      "Tips: Make sure to cite your sources, and use the exact words from the context.\n"
     ]
    }
   ],
   "source": [
    "prompt = ChatPromptTemplate(messages=messages)\n",
    "prompt.pretty_print()"
   ]
  },
  {
   "cell_type": "code",
   "execution_count": 26,
   "metadata": {},
   "outputs": [
    {
     "ename": "NameError",
     "evalue": "name 'RunnablePassthrough' is not defined",
     "output_type": "error",
     "traceback": [
      "\u001b[0;31m---------------------------------------------------------------------------\u001b[0m",
      "\u001b[0;31mNameError\u001b[0m                                 Traceback (most recent call last)",
      "Cell \u001b[0;32mIn[26], line 1\u001b[0m\n\u001b[0;32m----> 1\u001b[0m chain \u001b[38;5;241m=\u001b[39m \u001b[43mRunnablePassthrough\u001b[49m\u001b[38;5;241m.\u001b[39massign(prompt\u001b[38;5;241m=\u001b[39mprompt)\u001b[38;5;241m.\u001b[39massign(output\u001b[38;5;241m=\u001b[39mllm\u001b[38;5;241m.\u001b[39mwith_structured_output(QuestionAnswersList))\n",
      "\u001b[0;31mNameError\u001b[0m: name 'RunnablePassthrough' is not defined"
     ]
    }
   ],
   "source": [
    "first=RunnableAssign(mapper={\n",
    "  prompt: ChatPromptTemplate(input_variables=['context', 'num_questions'], messages=[\n",
    "      SystemMessage(content='You are a world class algorithm to generate trivia questions and answers with correct and exact citations.'), \n",
    "      HumanMessagePromptTemplate(prompt=PromptTemplate(input_variables=['num_questions'], template='Generate {num_questions} sets of trivia-style questions and answers using the following context')), \n",
    "      HumanMessagePromptTemplate(prompt=PromptTemplate(input_variables=['context'], template='{context}')), \n",
    "      HumanMessage(content='Tips: Make sure to cite your sources, and use the exact words from the context.')\n",
    "      ])\n",
    "}) \n",
    "last=RunnableAssign(mapper={\n",
    "  output: RunnableBinding(bound=ChatOpenAI(client=<openai.resources.chat.completions.Completions object at 0x1213bacc0>, \n",
    "                                           async_client=<openai.resources.chat.completions.AsyncCompletions object at 0x12127f890>, temperature=0.0, openai_api_key=SecretStr('**********'), openai_proxy=''), \n",
    "                                           kwargs={'tools': [{'type': 'function', 'function': {\n",
    "                                               'name': 'QuestionAnswersList', \n",
    "                                               'description': 'Class representing a list of trivia style questions and answers with correct and exact citations.\\neach sentence contains a body and a list of sources.', \n",
    "                                               'parameters': {'type': 'object', 'properties': {'trivias': {'description': 'List of questions and answers as a list of facts', 'type': 'array', 'items': {'description': 'Trivia style questions and its answers as a list of facts each one should have a source.\\neach sentence contains a body and a list of sources.', 'type': 'object', 'properties': {'question': {'description': 'Question that was asked', 'type': 'string'}, 'wrong_answer': {'description': 'A trivia-style answer that is wrong', 'type': 'string'}, 'difficulty': {'description': 'Difficulty level of the question', 'type': 'string'}, 'answer': {'description': 'Body of the answer, the fact should be its separate object with a body and a list of sources', 'allOf': [{'title': 'FactWithEvidence', 'description': 'Class representing a single statement.\\n\\nEach fact has a body and a list of sources.\\nIf there are multiple facts make sure to break them apart\\nsuch that each one only uses a set of sources that are relevant to it.', 'type': 'object', 'properties': {'fact': {'title': 'Fact', 'description': 'Body of the sentence, as part of a response', 'type': 'string'}, 'trivia_answer': {'title': 'Trivia Answer', 'description': 'Trivia-style answer, like one word or phrase', 'type': 'string'}, 'substring_quote': {'title': 'Substring Quote', 'description': 'The source should be a direct quote from the context, as a substring of the original content', 'type': 'string'}, 'sources': {'title': 'Sources', 'description': 'The EXACT source link corresponding to the substring_quote', 'type': 'string'}}, 'required': ['fact', 'trivia_answer', 'substring_quote', 'sources']}]}}, 'required': ['question', 'wrong_answer', 'difficulty', 'answer']}}}, 'required': ['trivias']}}}], 'tool_choice': {'type': 'function', 'function': {'name': 'QuestionAnswersList'}}})\n",
    "          | PydanticToolsParser(first_tool_only=True, tools=[<class 'llmlang.QuestionAnswersList'>])\n",
    "})"
   ]
  },
  {
   "cell_type": "code",
   "execution_count": null,
   "metadata": {},
   "outputs": [],
   "source": [
    "trivias=[\n",
    "    QuestionAnswer(question=\"What is the oldest and deepest lake in the world, containing 20% of the world's total unfrozen freshwater reserve?\", \n",
    "                   wrong_answer='Lake Superior', difficulty='easy', answer=\n",
    "                   FactWithEvidence(fact=\"Lake Baikal is the oldest (25 million years) and deepest (1,700 m) lake in the world, containing 20% of the world's total unfrozen freshwater reserve.\", \n",
    "                                    trivia_answer='Lake Baikal', \n",
    "                                    substring_quote=\"Lake Baikal is the oldest (25 million years) and deepest (1,700 m) lake in the world, containing 20% of the world's total unfrozen freshwater reserve.\", \n",
    "                                    sources='https://whc.unesco.org/en/list/754/')), \n",
    "    QuestionAnswer(question=\"What is Lake Baikal known as due to its age and isolation producing one of the world's richest and most unusual freshwater faunas?\", \n",
    "                   wrong_answer='Lake Michigan', difficulty='easy', answer=\n",
    "                   FactWithEvidence(fact=\"Known as the 'Galapagos of Russia', Lake Baikal's age and isolation have produced one of the world's richest and most unusual freshwater faunas.\", \n",
    "                                    trivia_answer='Galapagos of Russia', \n",
    "                                    substring_quote=\"Known as the 'Galapagos of Russia', its age and isolation have produced one of the world's richest and most unusual freshwater faunas.\", \n",
    "                                    sources='https://whc.unesco.org/en/list/754/')), \n",
    "    QuestionAnswer(question=\"What percentage of the world's total unfrozen freshwater reserve does Lake Baikal contain?\", \n",
    "                   wrong_answer='10%', difficulty='medium', answer=\n",
    "                   FactWithEvidence(fact=\"Lake Baikal contains 20% of the world's total unfrozen freshwater reserve.\", \n",
    "                                    trivia_answer='20%', \n",
    "                                    substring_quote=\"It contains 20% of the world's total unfrozen freshwater reserve.\", \n",
    "                                    sources='https://whc.unesco.org/en/list/754/')), \n",
    "    QuestionAnswer(question='Where is Lake Baikal situated, and what makes it unique in terms of its age and isolation?', \n",
    "                   wrong_answer='North America, known for its size', difficulty='medium', answer=\n",
    "                   FactWithEvidence(fact=\"Lake Baikal is situated in south-east Siberia, and its age and isolation have produced one of the world's richest and most unusual freshwater faunas.\", \n",
    "                                    trivia_answer='South-east Siberia, age, and isolation', \n",
    "                                    substring_quote='Situated in south-east Siberia, the 3.15-million-ha Lake Baikal is the oldest (25 million years) and deepest (1,700 m) lake in the world.', \n",
    "                                    sources='https://whc.unesco.org/en/list/754/'))]"
   ]
  }
 ],
 "metadata": {
  "kernelspec": {
   "display_name": "myenv",
   "language": "python",
   "name": "python3"
  },
  "language_info": {
   "codemirror_mode": {
    "name": "ipython",
    "version": 3
   },
   "file_extension": ".py",
   "mimetype": "text/x-python",
   "name": "python",
   "nbconvert_exporter": "python",
   "pygments_lexer": "ipython3",
   "version": "3.12.0"
  }
 },
 "nbformat": 4,
 "nbformat_minor": 2
}
