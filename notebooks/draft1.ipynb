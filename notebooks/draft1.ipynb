{
 "cells": [
  {
   "cell_type": "code",
   "execution_count": 1,
   "metadata": {},
   "outputs": [],
   "source": [
    "import pandas as pd"
   ]
  },
  {
   "cell_type": "code",
   "execution_count": 2,
   "metadata": {},
   "outputs": [
    {
     "data": {
      "text/html": [
       "<div>\n",
       "<style scoped>\n",
       "    .dataframe tbody tr th:only-of-type {\n",
       "        vertical-align: middle;\n",
       "    }\n",
       "\n",
       "    .dataframe tbody tr th {\n",
       "        vertical-align: top;\n",
       "    }\n",
       "\n",
       "    .dataframe thead th {\n",
       "        text-align: right;\n",
       "    }\n",
       "</style>\n",
       "<table border=\"1\" class=\"dataframe\">\n",
       "  <thead>\n",
       "    <tr style=\"text-align: right;\">\n",
       "      <th></th>\n",
       "      <th>Resources</th>\n",
       "      <th>Category</th>\n",
       "    </tr>\n",
       "  </thead>\n",
       "  <tbody>\n",
       "    <tr>\n",
       "      <th>0</th>\n",
       "      <td>https://www.epa.gov/watersense/fix-leak-week\\n</td>\n",
       "      <td>Water</td>\n",
       "    </tr>\n",
       "    <tr>\n",
       "      <th>1</th>\n",
       "      <td>https://www.epa.gov/watersense/statistics-and-...</td>\n",
       "      <td>Water</td>\n",
       "    </tr>\n",
       "    <tr>\n",
       "      <th>2</th>\n",
       "      <td>https://www.nidwater.com/5-facts-you-need-to-k...</td>\n",
       "      <td>Water</td>\n",
       "    </tr>\n",
       "    <tr>\n",
       "      <th>3</th>\n",
       "      <td>https://parade.com/1192402/jessicasager/earth-...</td>\n",
       "      <td>History</td>\n",
       "    </tr>\n",
       "    <tr>\n",
       "      <th>4</th>\n",
       "      <td>https://www.intermountainhistories.org/tours/s...</td>\n",
       "      <td>History</td>\n",
       "    </tr>\n",
       "    <tr>\n",
       "      <th>...</th>\n",
       "      <td>...</td>\n",
       "      <td>...</td>\n",
       "    </tr>\n",
       "    <tr>\n",
       "      <th>101</th>\n",
       "      <td>https://sitn.hms.harvard.edu/uncategorized/201...</td>\n",
       "      <td>Water</td>\n",
       "    </tr>\n",
       "    <tr>\n",
       "      <th>102</th>\n",
       "      <td>https://astrobiology.nasa.gov/education/alp/wa...</td>\n",
       "      <td>Water</td>\n",
       "    </tr>\n",
       "    <tr>\n",
       "      <th>103</th>\n",
       "      <td>https://www.maine.gov/dacf/php/gotpests/otherc...</td>\n",
       "      <td>WIldlife</td>\n",
       "    </tr>\n",
       "    <tr>\n",
       "      <th>104</th>\n",
       "      <td>https://www.nmhealth.org/publication/view/guid...</td>\n",
       "      <td>WIldlife</td>\n",
       "    </tr>\n",
       "    <tr>\n",
       "      <th>105</th>\n",
       "      <td>https://batweek.org/bats-are-important-fascina...</td>\n",
       "      <td>WIldlife</td>\n",
       "    </tr>\n",
       "  </tbody>\n",
       "</table>\n",
       "<p>106 rows × 2 columns</p>\n",
       "</div>"
      ],
      "text/plain": [
       "                                             Resources  Category\n",
       "0       https://www.epa.gov/watersense/fix-leak-week\\n     Water\n",
       "1    https://www.epa.gov/watersense/statistics-and-...     Water\n",
       "2    https://www.nidwater.com/5-facts-you-need-to-k...     Water\n",
       "3    https://parade.com/1192402/jessicasager/earth-...   History\n",
       "4    https://www.intermountainhistories.org/tours/s...   History\n",
       "..                                                 ...       ...\n",
       "101  https://sitn.hms.harvard.edu/uncategorized/201...     Water\n",
       "102  https://astrobiology.nasa.gov/education/alp/wa...     Water\n",
       "103  https://www.maine.gov/dacf/php/gotpests/otherc...  WIldlife\n",
       "104  https://www.nmhealth.org/publication/view/guid...  WIldlife\n",
       "105  https://batweek.org/bats-are-important-fascina...  WIldlife\n",
       "\n",
       "[106 rows x 2 columns]"
      ]
     },
     "execution_count": 2,
     "metadata": {},
     "output_type": "execute_result"
    }
   ],
   "source": [
    "df = pd.read_csv(\"resources.csv\")\n",
    "df"
   ]
  },
  {
   "cell_type": "code",
   "execution_count": 3,
   "metadata": {},
   "outputs": [
    {
     "data": {
      "text/html": [
       "<div>\n",
       "<style scoped>\n",
       "    .dataframe tbody tr th:only-of-type {\n",
       "        vertical-align: middle;\n",
       "    }\n",
       "\n",
       "    .dataframe tbody tr th {\n",
       "        vertical-align: top;\n",
       "    }\n",
       "\n",
       "    .dataframe thead th {\n",
       "        text-align: right;\n",
       "    }\n",
       "</style>\n",
       "<table border=\"1\" class=\"dataframe\">\n",
       "  <thead>\n",
       "    <tr style=\"text-align: right;\">\n",
       "      <th></th>\n",
       "      <th>Resources</th>\n",
       "      <th>Category</th>\n",
       "    </tr>\n",
       "  </thead>\n",
       "  <tbody>\n",
       "    <tr>\n",
       "      <th>0</th>\n",
       "      <td>https://www.epa.gov/watersense/fix-leak-week</td>\n",
       "      <td>Water</td>\n",
       "    </tr>\n",
       "    <tr>\n",
       "      <th>1</th>\n",
       "      <td>https://www.epa.gov/watersense/statistics-and-...</td>\n",
       "      <td>Water</td>\n",
       "    </tr>\n",
       "    <tr>\n",
       "      <th>2</th>\n",
       "      <td>https://www.nidwater.com/5-facts-you-need-to-k...</td>\n",
       "      <td>Water</td>\n",
       "    </tr>\n",
       "    <tr>\n",
       "      <th>3</th>\n",
       "      <td>https://parade.com/1192402/jessicasager/earth-...</td>\n",
       "      <td>History</td>\n",
       "    </tr>\n",
       "    <tr>\n",
       "      <th>4</th>\n",
       "      <td>https://www.intermountainhistories.org/tours/s...</td>\n",
       "      <td>History</td>\n",
       "    </tr>\n",
       "    <tr>\n",
       "      <th>...</th>\n",
       "      <td>...</td>\n",
       "      <td>...</td>\n",
       "    </tr>\n",
       "    <tr>\n",
       "      <th>101</th>\n",
       "      <td>https://sitn.hms.harvard.edu/uncategorized/201...</td>\n",
       "      <td>Water</td>\n",
       "    </tr>\n",
       "    <tr>\n",
       "      <th>102</th>\n",
       "      <td>https://astrobiology.nasa.gov/education/alp/wa...</td>\n",
       "      <td>Water</td>\n",
       "    </tr>\n",
       "    <tr>\n",
       "      <th>103</th>\n",
       "      <td>https://www.maine.gov/dacf/php/gotpests/otherc...</td>\n",
       "      <td>WIldlife</td>\n",
       "    </tr>\n",
       "    <tr>\n",
       "      <th>104</th>\n",
       "      <td>https://www.nmhealth.org/publication/view/guid...</td>\n",
       "      <td>WIldlife</td>\n",
       "    </tr>\n",
       "    <tr>\n",
       "      <th>105</th>\n",
       "      <td>https://batweek.org/bats-are-important-fascina...</td>\n",
       "      <td>WIldlife</td>\n",
       "    </tr>\n",
       "  </tbody>\n",
       "</table>\n",
       "<p>106 rows × 2 columns</p>\n",
       "</div>"
      ],
      "text/plain": [
       "                                             Resources  Category\n",
       "0         https://www.epa.gov/watersense/fix-leak-week     Water\n",
       "1    https://www.epa.gov/watersense/statistics-and-...     Water\n",
       "2    https://www.nidwater.com/5-facts-you-need-to-k...     Water\n",
       "3    https://parade.com/1192402/jessicasager/earth-...   History\n",
       "4    https://www.intermountainhistories.org/tours/s...   History\n",
       "..                                                 ...       ...\n",
       "101  https://sitn.hms.harvard.edu/uncategorized/201...     Water\n",
       "102  https://astrobiology.nasa.gov/education/alp/wa...     Water\n",
       "103  https://www.maine.gov/dacf/php/gotpests/otherc...  WIldlife\n",
       "104  https://www.nmhealth.org/publication/view/guid...  WIldlife\n",
       "105  https://batweek.org/bats-are-important-fascina...  WIldlife\n",
       "\n",
       "[106 rows x 2 columns]"
      ]
     },
     "execution_count": 3,
     "metadata": {},
     "output_type": "execute_result"
    }
   ],
   "source": [
    "# remove the trailing spaces or '\\n' from df\n",
    "df.replace('\\n', '', regex=True, inplace=True)\n",
    "df.replace(' ', '', regex=True, inplace=True)\n",
    "df"
   ]
  },
  {
   "cell_type": "code",
   "execution_count": 6,
   "metadata": {},
   "outputs": [
    {
     "data": {
      "text/plain": [
       "'https://uk.sodexo.com/inspired-thinking/students-understand-carbon-footprint-of-school-meals.html'"
      ]
     },
     "execution_count": 6,
     "metadata": {},
     "output_type": "execute_result"
    }
   ],
   "source": [
    "# Pick a random row from df\n",
    "df.sample(1)['Resources'].iloc[0]"
   ]
  },
  {
   "cell_type": "code",
   "execution_count": 34,
   "metadata": {},
   "outputs": [
    {
     "data": {
      "text/plain": [
       "6"
      ]
     },
     "execution_count": 34,
     "metadata": {},
     "output_type": "execute_result"
    }
   ],
   "source": [
    "# pick a randow row where the column 'Category' is 'Water' in df\n",
    "len(df.loc[df['Category'] == 'Water'])\n",
    "# df.loc[df['Category'] == 'Energy'].sample(1)['Resources'].iloc[0]\n"
   ]
  },
  {
   "cell_type": "code",
   "execution_count": 8,
   "metadata": {},
   "outputs": [
    {
     "name": "stderr",
     "output_type": "stream",
     "text": [
      "WARNING:root:USER_AGENT environment variable not set, consider setting it to identify your requests.\n"
     ]
    }
   ],
   "source": [
    "import nest_asyncio\n",
    "from langchain_community.document_loaders import AsyncChromiumLoader\n",
    "\n",
    "nest_asyncio.apply()\n",
    "\n",
    "\n",
    "url = df.sample(1)['Resources'].iloc[0]\n",
    "loader = AsyncChromiumLoader([url])\n",
    "docs = loader.load()\n"
   ]
  },
  {
   "cell_type": "code",
   "execution_count": 9,
   "metadata": {},
   "outputs": [
    {
     "data": {
      "text/plain": [
       "'https://www.un.org/sustainabledevelopment/sustainable-development-goals/'"
      ]
     },
     "execution_count": 9,
     "metadata": {},
     "output_type": "execute_result"
    }
   ],
   "source": [
    "url"
   ]
  },
  {
   "cell_type": "code",
   "execution_count": 10,
   "metadata": {},
   "outputs": [],
   "source": [
    "from langchain_community.document_transformers import BeautifulSoupTransformer\n",
    "\n",
    "bs_transformer = BeautifulSoupTransformer()\n",
    "docs_transformed1 = bs_transformer.transform_documents(docs,       \n",
    "        unwanted_tags=[\"script\", \"style\", \"footer\", \"header\", \"nav\", \"form\", \"noscript\"],\n",
    "        remove_lines=True,\n",
    "        remove_comments=True)\n"
   ]
  },
  {
   "cell_type": "code",
   "execution_count": 11,
   "metadata": {},
   "outputs": [
    {
     "name": "stdout",
     "output_type": "stream",
     "text": [
      "Skip to content (#content)           Take Action for the Sustainable Development Goals           Take Action for the Sustainable Development Goals dpicampaigns (https://www.un.org/sustainabledevelopment/blog/author/dpicampaigns/) 2023-05-31T16:30:10-04:00   The Sustainable Development Goals are the blueprint to achieve a better and more sustainable future for all. They address the global challenges we face, including those related to poverty, inequality, climate change , environmental degradation, peace and justice. The 17 Goals are all interconnect ed, and in order to leave no one behind, it is important that we achieve them all by 2030. Click on any specific Goal below to learn more about each issue and take action.  Goal 1: No Poverty Goal 1: No Poverty  Economic growth must be inclusive to provide sustainable jobs and promote equality.  Read more about Goal 1  Goal 2: Zero Hunger Goal 2: Zero Hunger  The food and agriculture sector offers key solutions for development, and is central for hunger and poverty eradication.  Read more about Goal 2  Goal 3: Good Health and Well-Being Goal 3: Good Health and Well-Being  Ensuring healthy lives and promoting the well-being for all at all ages is essential to sustainable development.  Read more about Goal 3  Goal 4: Quality Education Goal 4: Quality Education  Obtaining a quality education is the foundation to improving people’s lives and sustainable development.  Read more about Goal 4  Goal 5: Gender Equality Goal 5: Gender Equality  Gender equality is not only a fundamental human right, but a necessary foundation for a peaceful, prosperous and sustainable world.  Read more about Goal 5  Goal 6: Clean Water and Sanitation Goal 6: Clean Water and Sanitation  Clean, accessible water for all is an essential part of the world we want to live in.  Read more about Goal 6  Goal 7: Affordable and Clean Energy Goal 7: Affordable and Clean Energy  Energy is central to nearly every major challenge and opportunity.  Read more about Goal 7  Goal 8: Decent Work and Economic Growth Goal 8: Decent Work and Economic Growth  Sustainable economic growth will require societies to create the conditions that allow people to have quality jobs.  Read more about Goal 8  Goal 9: Industry, Innovation, and Infrastructure Goal 9: Industry, Innovation, and Infrastructure  Investments in infrastructure are crucial to achieving sustainable development.  Read more about Goal 9  Goal 10: Reduced Inequalities Goal 10: Reduced Inequalities  To reduce inequalities, policies should be universal in principle, paying attention to the needs of disadvantaged and marginalized populations.  Read more about Goal 10  Goal 11: Sustainable Cities and Communities Goal 11: Sustainable Cities and Communities  There needs to be a future in which cities provide opportunities for all, with access to basic services, energy, housing, transportation and more.  Read more about Goal 11  Goal 12: Responsible Consumption and Production Goal 12: Responsible Consumption and Production  Responsible Production and Consumption  Read more about Goal 12  Goal 13: Climate Action Goal 13: Climate Action  Climate change is a global challenge that affects everyone, everywhere.  Read more about Goal 13  Goal 14: Life Below Water Goal 14: Life Below Water  Careful management of this essential global resource is a key feature of a sustainable future.  Read more about Goal 14  Goal 15: Life on Land Goal 15: Life on Land  Sustainably manage forests, combat desertification, halt and reverse land degradation, halt biodiversity loss  Read more about Goal 15  Goal 16: Peace, Justice and Strong Institutions Goal 16: Peace, Justice and Strong Institutions  Access to justice for all, and building effective, accountable institutions at all levels.  Read more about Goal 16  Goal 17: Partnerships Goal 17: Partnerships  Revitalize the global partnership for sustainable development.  Read more about Goal 17                 Page load link (#)       (#) Go to Top  (#)\n"
     ]
    }
   ],
   "source": [
    "print(docs_transformed1[0].page_content)"
   ]
  },
  {
   "cell_type": "code",
   "execution_count": null,
   "metadata": {},
   "outputs": [],
   "source": []
  },
  {
   "cell_type": "code",
   "execution_count": 12,
   "metadata": {},
   "outputs": [
    {
     "data": {
      "text/plain": [
       "Document(page_content='Skip to content (#content)           Take Action for the Sustainable Development Goals           Take Action for the Sustainable Development Goals dpicampaigns (https://www.un.org/sustainabledevelopment/blog/author/dpicampaigns/) 2023-05-31T16:30:10-04:00   The Sustainable Development Goals are the blueprint to achieve a better and more sustainable future for all. They address the global challenges we face, including those related to poverty, inequality, climate change , environmental degradation, peace and justice. The 17 Goals are all interconnect ed, and in order to leave no one behind, it is important that we achieve them all by 2030. Click on any specific Goal below to learn more about each issue and take action.  Goal 1: No Poverty Goal 1: No Poverty  Economic growth must be inclusive to provide sustainable jobs and promote equality.  Read more about Goal 1  Goal 2: Zero Hunger Goal 2: Zero Hunger  The food and agriculture sector offers key solutions for development, and is central for hunger and poverty eradication.  Read more about Goal 2  Goal 3: Good Health and Well-Being Goal 3: Good Health and Well-Being  Ensuring healthy lives and promoting the well-being for all at all ages is essential to sustainable development.  Read more about Goal 3  Goal 4: Quality Education Goal 4: Quality Education  Obtaining a quality education is the foundation to improving people’s lives and sustainable development.  Read more about Goal 4  Goal 5: Gender Equality Goal 5: Gender Equality  Gender equality is not only a fundamental human right, but a necessary foundation for a peaceful, prosperous and sustainable world.  Read more about Goal 5  Goal 6: Clean Water and Sanitation Goal 6: Clean Water and Sanitation  Clean, accessible water for all is an essential part of the world we want to live in.  Read more about Goal 6  Goal 7: Affordable and Clean Energy Goal 7: Affordable and Clean Energy  Energy is central to nearly every major challenge and opportunity.  Read more about Goal 7  Goal 8: Decent Work and Economic Growth Goal 8: Decent Work and Economic Growth  Sustainable economic growth will require societies to create the conditions that allow people to have quality jobs.  Read more about Goal 8  Goal 9: Industry, Innovation, and Infrastructure Goal 9: Industry, Innovation, and Infrastructure  Investments in infrastructure are crucial to achieving sustainable development.  Read more about Goal 9  Goal 10: Reduced Inequalities Goal 10: Reduced Inequalities  To reduce inequalities, policies should be universal in principle, paying attention to the needs of disadvantaged and marginalized populations.  Read more about Goal 10  Goal 11: Sustainable Cities and Communities Goal 11: Sustainable Cities and Communities  There needs to be a future in which cities provide opportunities for all, with access to basic services, energy, housing, transportation and more.  Read more about Goal 11  Goal 12: Responsible Consumption and Production Goal 12: Responsible Consumption and Production  Responsible Production and Consumption  Read more about Goal 12  Goal 13: Climate Action Goal 13: Climate Action  Climate change is a global challenge that affects everyone, everywhere.  Read more about Goal 13  Goal 14: Life Below Water Goal 14: Life Below Water  Careful management of this essential global resource is a key feature of a sustainable future.  Read more about Goal 14  Goal 15: Life on Land Goal 15: Life on Land  Sustainably manage forests, combat desertification, halt and reverse land degradation, halt biodiversity loss  Read more about Goal 15  Goal 16: Peace, Justice and Strong Institutions Goal 16: Peace, Justice and Strong Institutions  Access to justice for all, and building effective, accountable institutions at all levels.  Read more about Goal 16  Goal 17: Partnerships Goal 17: Partnerships  Revitalize the global partnership for sustainable development.  Read more about Goal 17                 Page load link (#)       (#) Go to Top  (#)', metadata={'source': 'https://www.un.org/sustainabledevelopment/sustainable-development-goals/'})"
      ]
     },
     "execution_count": 12,
     "metadata": {},
     "output_type": "execute_result"
    }
   ],
   "source": [
    "docs_transformed1[0]"
   ]
  },
  {
   "cell_type": "code",
   "execution_count": null,
   "metadata": {},
   "outputs": [],
   "source": [
    "from langchain_community.llms import HuggingFaceEndpoint\n",
    "from langchain.chains import LLMChain\n",
    "from langchain_core.prompts import PromptTemplate\n",
    "import os\n",
    "\n",
    "# Set your Hugging Face API token\n",
    "os.environ[\"HUGGINGFACEHUB_API_TOKEN\"] = \"your_huggingface_api_token\"\n",
    "\n",
    "# Define the prompt template\n",
    "template = \"\"\"Question: {question}\n",
    "Answer: Let's think step by step.\"\"\"\n",
    "prompt = PromptTemplate.from_template(template)\n",
    "\n",
    "# Define the model endpoint\n",
    "repo_id = \"mistralai/Mistral-7B-Instruct-v0.2\"\n",
    "llm = HuggingFaceEndpoint(repo_id=repo_id, max_length=128, temperature=0.5)\n",
    "\n",
    "# Create the chain\n",
    "llm_chain = LLMChain(prompt=prompt, llm=llm)\n",
    "\n",
    "# Use the model\n",
    "question = \"Who won the FIFA World Cup in the year 1994?\"\n",
    "print(llm_chain.run(question))\n"
   ]
  }
 ],
 "metadata": {
  "kernelspec": {
   "display_name": "myenv",
   "language": "python",
   "name": "python3"
  },
  "language_info": {
   "codemirror_mode": {
    "name": "ipython",
    "version": 3
   },
   "file_extension": ".py",
   "mimetype": "text/x-python",
   "name": "python",
   "nbconvert_exporter": "python",
   "pygments_lexer": "ipython3",
   "version": "3.11.4"
  }
 },
 "nbformat": 4,
 "nbformat_minor": 2
}
