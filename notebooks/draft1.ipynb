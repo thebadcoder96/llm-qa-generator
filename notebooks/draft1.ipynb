{
 "cells": [
  {
   "cell_type": "code",
   "execution_count": 30,
   "metadata": {},
   "outputs": [],
   "source": [
    "import pandas as pd"
   ]
  },
  {
   "cell_type": "code",
   "execution_count": 31,
   "metadata": {},
   "outputs": [
    {
     "data": {
      "text/html": [
       "<div>\n",
       "<style scoped>\n",
       "    .dataframe tbody tr th:only-of-type {\n",
       "        vertical-align: middle;\n",
       "    }\n",
       "\n",
       "    .dataframe tbody tr th {\n",
       "        vertical-align: top;\n",
       "    }\n",
       "\n",
       "    .dataframe thead th {\n",
       "        text-align: right;\n",
       "    }\n",
       "</style>\n",
       "<table border=\"1\" class=\"dataframe\">\n",
       "  <thead>\n",
       "    <tr style=\"text-align: right;\">\n",
       "      <th></th>\n",
       "      <th>Resources</th>\n",
       "      <th>Category</th>\n",
       "    </tr>\n",
       "  </thead>\n",
       "  <tbody>\n",
       "    <tr>\n",
       "      <th>0</th>\n",
       "      <td>https://www.epa.gov/watersense/fix-leak-week\\n</td>\n",
       "      <td>Water</td>\n",
       "    </tr>\n",
       "    <tr>\n",
       "      <th>1</th>\n",
       "      <td>https://www.epa.gov/watersense/statistics-and-...</td>\n",
       "      <td>Water</td>\n",
       "    </tr>\n",
       "    <tr>\n",
       "      <th>2</th>\n",
       "      <td>https://www.nidwater.com/5-facts-you-need-to-k...</td>\n",
       "      <td>Water</td>\n",
       "    </tr>\n",
       "    <tr>\n",
       "      <th>3</th>\n",
       "      <td>https://parade.com/1192402/jessicasager/earth-...</td>\n",
       "      <td>History</td>\n",
       "    </tr>\n",
       "    <tr>\n",
       "      <th>4</th>\n",
       "      <td>https://www.intermountainhistories.org/tours/s...</td>\n",
       "      <td>History</td>\n",
       "    </tr>\n",
       "    <tr>\n",
       "      <th>...</th>\n",
       "      <td>...</td>\n",
       "      <td>...</td>\n",
       "    </tr>\n",
       "    <tr>\n",
       "      <th>101</th>\n",
       "      <td>https://sitn.hms.harvard.edu/uncategorized/201...</td>\n",
       "      <td>Water</td>\n",
       "    </tr>\n",
       "    <tr>\n",
       "      <th>102</th>\n",
       "      <td>https://astrobiology.nasa.gov/education/alp/wa...</td>\n",
       "      <td>Water</td>\n",
       "    </tr>\n",
       "    <tr>\n",
       "      <th>103</th>\n",
       "      <td>https://www.maine.gov/dacf/php/gotpests/otherc...</td>\n",
       "      <td>WIldlife</td>\n",
       "    </tr>\n",
       "    <tr>\n",
       "      <th>104</th>\n",
       "      <td>https://www.nmhealth.org/publication/view/guid...</td>\n",
       "      <td>WIldlife</td>\n",
       "    </tr>\n",
       "    <tr>\n",
       "      <th>105</th>\n",
       "      <td>https://batweek.org/bats-are-important-fascina...</td>\n",
       "      <td>WIldlife</td>\n",
       "    </tr>\n",
       "  </tbody>\n",
       "</table>\n",
       "<p>106 rows × 2 columns</p>\n",
       "</div>"
      ],
      "text/plain": [
       "                                             Resources  Category\n",
       "0       https://www.epa.gov/watersense/fix-leak-week\\n     Water\n",
       "1    https://www.epa.gov/watersense/statistics-and-...     Water\n",
       "2    https://www.nidwater.com/5-facts-you-need-to-k...     Water\n",
       "3    https://parade.com/1192402/jessicasager/earth-...   History\n",
       "4    https://www.intermountainhistories.org/tours/s...   History\n",
       "..                                                 ...       ...\n",
       "101  https://sitn.hms.harvard.edu/uncategorized/201...     Water\n",
       "102  https://astrobiology.nasa.gov/education/alp/wa...     Water\n",
       "103  https://www.maine.gov/dacf/php/gotpests/otherc...  WIldlife\n",
       "104  https://www.nmhealth.org/publication/view/guid...  WIldlife\n",
       "105  https://batweek.org/bats-are-important-fascina...  WIldlife\n",
       "\n",
       "[106 rows x 2 columns]"
      ]
     },
     "execution_count": 31,
     "metadata": {},
     "output_type": "execute_result"
    }
   ],
   "source": [
    "df = pd.read_csv(\"resources.csv\")\n",
    "df"
   ]
  },
  {
   "cell_type": "code",
   "execution_count": 32,
   "metadata": {},
   "outputs": [
    {
     "data": {
      "text/html": [
       "<div>\n",
       "<style scoped>\n",
       "    .dataframe tbody tr th:only-of-type {\n",
       "        vertical-align: middle;\n",
       "    }\n",
       "\n",
       "    .dataframe tbody tr th {\n",
       "        vertical-align: top;\n",
       "    }\n",
       "\n",
       "    .dataframe thead th {\n",
       "        text-align: right;\n",
       "    }\n",
       "</style>\n",
       "<table border=\"1\" class=\"dataframe\">\n",
       "  <thead>\n",
       "    <tr style=\"text-align: right;\">\n",
       "      <th></th>\n",
       "      <th>Resources</th>\n",
       "      <th>Category</th>\n",
       "    </tr>\n",
       "  </thead>\n",
       "  <tbody>\n",
       "    <tr>\n",
       "      <th>0</th>\n",
       "      <td>https://www.epa.gov/watersense/fix-leak-week</td>\n",
       "      <td>Water</td>\n",
       "    </tr>\n",
       "    <tr>\n",
       "      <th>1</th>\n",
       "      <td>https://www.epa.gov/watersense/statistics-and-...</td>\n",
       "      <td>Water</td>\n",
       "    </tr>\n",
       "    <tr>\n",
       "      <th>2</th>\n",
       "      <td>https://www.nidwater.com/5-facts-you-need-to-k...</td>\n",
       "      <td>Water</td>\n",
       "    </tr>\n",
       "    <tr>\n",
       "      <th>3</th>\n",
       "      <td>https://parade.com/1192402/jessicasager/earth-...</td>\n",
       "      <td>History</td>\n",
       "    </tr>\n",
       "    <tr>\n",
       "      <th>4</th>\n",
       "      <td>https://www.intermountainhistories.org/tours/s...</td>\n",
       "      <td>History</td>\n",
       "    </tr>\n",
       "    <tr>\n",
       "      <th>...</th>\n",
       "      <td>...</td>\n",
       "      <td>...</td>\n",
       "    </tr>\n",
       "    <tr>\n",
       "      <th>101</th>\n",
       "      <td>https://sitn.hms.harvard.edu/uncategorized/201...</td>\n",
       "      <td>Water</td>\n",
       "    </tr>\n",
       "    <tr>\n",
       "      <th>102</th>\n",
       "      <td>https://astrobiology.nasa.gov/education/alp/wa...</td>\n",
       "      <td>Water</td>\n",
       "    </tr>\n",
       "    <tr>\n",
       "      <th>103</th>\n",
       "      <td>https://www.maine.gov/dacf/php/gotpests/otherc...</td>\n",
       "      <td>WIldlife</td>\n",
       "    </tr>\n",
       "    <tr>\n",
       "      <th>104</th>\n",
       "      <td>https://www.nmhealth.org/publication/view/guid...</td>\n",
       "      <td>WIldlife</td>\n",
       "    </tr>\n",
       "    <tr>\n",
       "      <th>105</th>\n",
       "      <td>https://batweek.org/bats-are-important-fascina...</td>\n",
       "      <td>WIldlife</td>\n",
       "    </tr>\n",
       "  </tbody>\n",
       "</table>\n",
       "<p>106 rows × 2 columns</p>\n",
       "</div>"
      ],
      "text/plain": [
       "                                             Resources  Category\n",
       "0         https://www.epa.gov/watersense/fix-leak-week     Water\n",
       "1    https://www.epa.gov/watersense/statistics-and-...     Water\n",
       "2    https://www.nidwater.com/5-facts-you-need-to-k...     Water\n",
       "3    https://parade.com/1192402/jessicasager/earth-...   History\n",
       "4    https://www.intermountainhistories.org/tours/s...   History\n",
       "..                                                 ...       ...\n",
       "101  https://sitn.hms.harvard.edu/uncategorized/201...     Water\n",
       "102  https://astrobiology.nasa.gov/education/alp/wa...     Water\n",
       "103  https://www.maine.gov/dacf/php/gotpests/otherc...  WIldlife\n",
       "104  https://www.nmhealth.org/publication/view/guid...  WIldlife\n",
       "105  https://batweek.org/bats-are-important-fascina...  WIldlife\n",
       "\n",
       "[106 rows x 2 columns]"
      ]
     },
     "execution_count": 32,
     "metadata": {},
     "output_type": "execute_result"
    }
   ],
   "source": [
    "# remove the trailing spaces or '\\n' from df\n",
    "df.replace('\\n', '', regex=True, inplace=True)\n",
    "df.replace(' ', '', regex=True, inplace=True)\n",
    "df"
   ]
  },
  {
   "cell_type": "code",
   "execution_count": 33,
   "metadata": {},
   "outputs": [
    {
     "data": {
      "text/plain": [
       "'https://journals.biologists.com/jeb/article/211/23/3682/17965/Static-electric-field-detection-and-behavioural'"
      ]
     },
     "execution_count": 33,
     "metadata": {},
     "output_type": "execute_result"
    }
   ],
   "source": [
    "# Pick a random row from df\n",
    "df.sample(1)['Resources'].iloc[0]"
   ]
  },
  {
   "cell_type": "code",
   "execution_count": 34,
   "metadata": {},
   "outputs": [
    {
     "data": {
      "text/plain": [
       "6"
      ]
     },
     "execution_count": 34,
     "metadata": {},
     "output_type": "execute_result"
    }
   ],
   "source": [
    "# pick a randow row where the column 'Category' is 'Water' in df\n",
    "len(df.loc[df['Category'] == 'Water'])\n",
    "# df.loc[df['Category'] == 'Energy'].sample(1)['Resources'].iloc[0]\n"
   ]
  },
  {
   "cell_type": "code",
   "execution_count": 110,
   "metadata": {},
   "outputs": [],
   "source": [
    "import nest_asyncio\n",
    "from langchain_community.document_loaders import AsyncChromiumLoader\n",
    "\n",
    "nest_asyncio.apply()\n",
    "\n",
    "\n",
    "url = df.sample(1)['Resources'].iloc[0]\n",
    "loader = AsyncChromiumLoader([url])\n",
    "docs = loader.load()\n"
   ]
  },
  {
   "cell_type": "code",
   "execution_count": 111,
   "metadata": {},
   "outputs": [
    {
     "data": {
      "text/plain": [
       "'https://www.epa.gov/history/epa-history-earth-day'"
      ]
     },
     "execution_count": 111,
     "metadata": {},
     "output_type": "execute_result"
    }
   ],
   "source": [
    "url"
   ]
  },
  {
   "cell_type": "code",
   "execution_count": 112,
   "metadata": {},
   "outputs": [],
   "source": [
    "from langchain_community.document_transformers import BeautifulSoupTransformer\n",
    "\n",
    "bs_transformer = BeautifulSoupTransformer()\n",
    "docs_transformed1 = bs_transformer.transform_documents(docs,       \n",
    "        unwanted_tags=[\"script\", \"style\", \"footer\", \"header\", \"nav\", \"form\", \"noscript\"],\n",
    "        remove_lines=True,\n",
    "        remove_comments=True)\n"
   ]
  },
  {
   "cell_type": "code",
   "execution_count": 113,
   "metadata": {},
   "outputs": [
    {
     "name": "stdout",
     "output_type": "stream",
     "text": [
      "History of the Clean Water Act       Wells and latrines are some of the oldest forms of human-made water infrastructure on record, and our natural waterways were some of our earliest waste disposal systems. Sewer collection became more sophisticated as cities grew in the 1800s, but these typically weren’t treatment systems, as they merely collected human and animal waste into pipes or trenches and discharged it directly into rivers, lakes, and oceans. As industrialization grew, more and more industrial runoff joined the organic waste in our nation’s waters.   Fifty years ago, Congress held a series of votes on a piece of legislation called the Federal Water Pollution Control Act Amendments of 1972, which would later come to be known as the Clean Water Act. 1972 was an election year, and after a first term notable for its environmental policy achievements, then President Nixon vetoed the bill in an attempt to cast his fiscal conservatism against his already flagging opponent, George McGovern. Bipartisan majorities in both the House and Senate instead overrode President Nixon’s veto, and the bill became law on October 18, 1972. Local leaders, like former mayor of Cleveland, Ohio, Carl Stokes, were central in the push of this legislation being enacted into law.   The Clean Water Act created a new permitting system for anybody discharging pollutants into the waters covered by the Act. It mandated, for the first time, a minimum standard of wastewater treatment for every community in the country. It paired that mandate with a new funding program recognizing that meeting the new standards would be expensive, leading to a major increase in infrastructure over the next decade.  Access the full Clean Water Act 50th Anniversary video series (https://youtube.com/playlist?list=PLltMWtKSsw2xiWuvPG_n-h05UFkxjdvH9) .     More from the Alliance and our members    (https://uswateralliance.org/announcing-our-2025-one-water-summit/)    (https://uswateralliance.org/announcing-our-2025-one-water-summit/)  May 23, 2024 | Alliance News  Announcing our 2025 One Water Summit  Mark your calendars—our next One Water Summit will be in Pittsburgh, Pennsylvania, from July 8 – 11, 2025!   (https://uswateralliance.org/announcing-our-2025-one-water-summit/)     (https://uswateralliance.org/new-report-on-the-economic-benefits-of-water-investments/)    (https://uswateralliance.org/new-report-on-the-economic-benefits-of-water-investments/)  May 13, 2024 | Alliance News, Value of Water Feature  New Report on the Economic Benefits of Water Investments  Report from The Value of Water Campaign considers the economic impacts of federal investment in water over the next 1...   (https://uswateralliance.org/new-report-on-the-economic-benefits-of-water-investments/)     (https://uswateralliance.org/sharing-the-alliances-2024-2027-strategic-framework/)    (https://uswateralliance.org/sharing-the-alliances-2024-2027-strategic-framework/)  January 17, 2024 | Alliance News  Sharing the Alliance’s 2024 – 2027 Strategic Framework  Last year, the Alliance embarked on outlining the fundamentals that will guide our work for the next three years. As ...   (https://uswateralliance.org/sharing-the-alliances-2024-2027-strategic-framework/)     Notifications\n"
     ]
    }
   ],
   "source": [
    "print(docs_transformed1[0].page_content)"
   ]
  },
  {
   "cell_type": "code",
   "execution_count": 114,
   "metadata": {},
   "outputs": [
    {
     "data": {
      "text/plain": [
       "Document(page_content='History of the Clean Water Act       Wells and latrines are some of the oldest forms of human-made water infrastructure on record, and our natural waterways were some of our earliest waste disposal systems. Sewer collection became more sophisticated as cities grew in the 1800s, but these typically weren’t treatment systems, as they merely collected human and animal waste into pipes or trenches and discharged it directly into rivers, lakes, and oceans. As industrialization grew, more and more industrial runoff joined the organic waste in our nation’s waters.   Fifty years ago, Congress held a series of votes on a piece of legislation called the Federal Water Pollution Control Act Amendments of 1972, which would later come to be known as the Clean Water Act. 1972 was an election year, and after a first term notable for its environmental policy achievements, then President Nixon vetoed the bill in an attempt to cast his fiscal conservatism against his already flagging opponent, George McGovern. Bipartisan majorities in both the House and Senate instead overrode President Nixon’s veto, and the bill became law on October 18, 1972. Local leaders, like former mayor of Cleveland, Ohio, Carl Stokes, were central in the push of this legislation being enacted into law.   The Clean Water Act created a new permitting system for anybody discharging pollutants into the waters covered by the Act. It mandated, for the first time, a minimum standard of wastewater treatment for every community in the country. It paired that mandate with a new funding program recognizing that meeting the new standards would be expensive, leading to a major increase in infrastructure over the next decade.  Access the full Clean Water Act 50th Anniversary video series (https://youtube.com/playlist?list=PLltMWtKSsw2xiWuvPG_n-h05UFkxjdvH9) .     More from the Alliance and our members    (https://uswateralliance.org/announcing-our-2025-one-water-summit/)    (https://uswateralliance.org/announcing-our-2025-one-water-summit/)  May 23, 2024 | Alliance News  Announcing our 2025 One Water Summit  Mark your calendars—our next One Water Summit will be in Pittsburgh, Pennsylvania, from July 8 – 11, 2025!   (https://uswateralliance.org/announcing-our-2025-one-water-summit/)     (https://uswateralliance.org/new-report-on-the-economic-benefits-of-water-investments/)    (https://uswateralliance.org/new-report-on-the-economic-benefits-of-water-investments/)  May 13, 2024 | Alliance News, Value of Water Feature  New Report on the Economic Benefits of Water Investments  Report from The Value of Water Campaign considers the economic impacts of federal investment in water over the next 1...   (https://uswateralliance.org/new-report-on-the-economic-benefits-of-water-investments/)     (https://uswateralliance.org/sharing-the-alliances-2024-2027-strategic-framework/)    (https://uswateralliance.org/sharing-the-alliances-2024-2027-strategic-framework/)  January 17, 2024 | Alliance News  Sharing the Alliance’s 2024 – 2027 Strategic Framework  Last year, the Alliance embarked on outlining the fundamentals that will guide our work for the next three years. As ...   (https://uswateralliance.org/sharing-the-alliances-2024-2027-strategic-framework/)     Notifications', metadata={'source': 'https://uswateralliance.org/resources/history-of-the-clean-water-act/'})"
      ]
     },
     "execution_count": 114,
     "metadata": {},
     "output_type": "execute_result"
    }
   ],
   "source": [
    "docs_transformed1[0]"
   ]
  },
  {
   "cell_type": "code",
   "execution_count": null,
   "metadata": {},
   "outputs": [],
   "source": []
  }
 ],
 "metadata": {
  "kernelspec": {
   "display_name": "myenv",
   "language": "python",
   "name": "python3"
  },
  "language_info": {
   "codemirror_mode": {
    "name": "ipython",
    "version": 3
   },
   "file_extension": ".py",
   "mimetype": "text/x-python",
   "name": "python",
   "nbconvert_exporter": "python",
   "pygments_lexer": "ipython3",
   "version": "3.12.0"
  }
 },
 "nbformat": 4,
 "nbformat_minor": 2
}
