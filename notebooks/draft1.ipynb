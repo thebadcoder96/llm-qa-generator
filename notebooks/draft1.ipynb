{
 "cells": [
  {
   "cell_type": "code",
   "execution_count": 3,
   "metadata": {},
   "outputs": [],
   "source": [
    "import pandas as pd"
   ]
  },
  {
   "cell_type": "code",
   "execution_count": 4,
   "metadata": {},
   "outputs": [
    {
     "data": {
      "text/html": [
       "<div>\n",
       "<style scoped>\n",
       "    .dataframe tbody tr th:only-of-type {\n",
       "        vertical-align: middle;\n",
       "    }\n",
       "\n",
       "    .dataframe tbody tr th {\n",
       "        vertical-align: top;\n",
       "    }\n",
       "\n",
       "    .dataframe thead th {\n",
       "        text-align: right;\n",
       "    }\n",
       "</style>\n",
       "<table border=\"1\" class=\"dataframe\">\n",
       "  <thead>\n",
       "    <tr style=\"text-align: right;\">\n",
       "      <th></th>\n",
       "      <th>Resources</th>\n",
       "      <th>Category</th>\n",
       "    </tr>\n",
       "  </thead>\n",
       "  <tbody>\n",
       "    <tr>\n",
       "      <th>0</th>\n",
       "      <td>https://www.epa.gov/watersense/fix-leak-week\\n</td>\n",
       "      <td>Water</td>\n",
       "    </tr>\n",
       "    <tr>\n",
       "      <th>1</th>\n",
       "      <td>https://www.epa.gov/watersense/statistics-and-...</td>\n",
       "      <td>Water</td>\n",
       "    </tr>\n",
       "    <tr>\n",
       "      <th>2</th>\n",
       "      <td>https://www.nidwater.com/5-facts-you-need-to-k...</td>\n",
       "      <td>Water</td>\n",
       "    </tr>\n",
       "    <tr>\n",
       "      <th>3</th>\n",
       "      <td>https://parade.com/1192402/jessicasager/earth-...</td>\n",
       "      <td>History</td>\n",
       "    </tr>\n",
       "    <tr>\n",
       "      <th>4</th>\n",
       "      <td>https://www.intermountainhistories.org/tours/s...</td>\n",
       "      <td>History</td>\n",
       "    </tr>\n",
       "    <tr>\n",
       "      <th>...</th>\n",
       "      <td>...</td>\n",
       "      <td>...</td>\n",
       "    </tr>\n",
       "    <tr>\n",
       "      <th>101</th>\n",
       "      <td>https://sitn.hms.harvard.edu/uncategorized/201...</td>\n",
       "      <td>Water</td>\n",
       "    </tr>\n",
       "    <tr>\n",
       "      <th>102</th>\n",
       "      <td>https://astrobiology.nasa.gov/education/alp/wa...</td>\n",
       "      <td>Water</td>\n",
       "    </tr>\n",
       "    <tr>\n",
       "      <th>103</th>\n",
       "      <td>https://www.maine.gov/dacf/php/gotpests/otherc...</td>\n",
       "      <td>WIldlife</td>\n",
       "    </tr>\n",
       "    <tr>\n",
       "      <th>104</th>\n",
       "      <td>https://www.nmhealth.org/publication/view/guid...</td>\n",
       "      <td>WIldlife</td>\n",
       "    </tr>\n",
       "    <tr>\n",
       "      <th>105</th>\n",
       "      <td>https://batweek.org/bats-are-important-fascina...</td>\n",
       "      <td>WIldlife</td>\n",
       "    </tr>\n",
       "  </tbody>\n",
       "</table>\n",
       "<p>106 rows × 2 columns</p>\n",
       "</div>"
      ],
      "text/plain": [
       "                                             Resources  Category\n",
       "0       https://www.epa.gov/watersense/fix-leak-week\\n     Water\n",
       "1    https://www.epa.gov/watersense/statistics-and-...     Water\n",
       "2    https://www.nidwater.com/5-facts-you-need-to-k...     Water\n",
       "3    https://parade.com/1192402/jessicasager/earth-...   History\n",
       "4    https://www.intermountainhistories.org/tours/s...   History\n",
       "..                                                 ...       ...\n",
       "101  https://sitn.hms.harvard.edu/uncategorized/201...     Water\n",
       "102  https://astrobiology.nasa.gov/education/alp/wa...     Water\n",
       "103  https://www.maine.gov/dacf/php/gotpests/otherc...  WIldlife\n",
       "104  https://www.nmhealth.org/publication/view/guid...  WIldlife\n",
       "105  https://batweek.org/bats-are-important-fascina...  WIldlife\n",
       "\n",
       "[106 rows x 2 columns]"
      ]
     },
     "execution_count": 4,
     "metadata": {},
     "output_type": "execute_result"
    }
   ],
   "source": [
    "df = pd.read_csv(\"resources.csv\")\n",
    "df"
   ]
  },
  {
   "cell_type": "code",
   "execution_count": 5,
   "metadata": {},
   "outputs": [
    {
     "data": {
      "text/html": [
       "<div>\n",
       "<style scoped>\n",
       "    .dataframe tbody tr th:only-of-type {\n",
       "        vertical-align: middle;\n",
       "    }\n",
       "\n",
       "    .dataframe tbody tr th {\n",
       "        vertical-align: top;\n",
       "    }\n",
       "\n",
       "    .dataframe thead th {\n",
       "        text-align: right;\n",
       "    }\n",
       "</style>\n",
       "<table border=\"1\" class=\"dataframe\">\n",
       "  <thead>\n",
       "    <tr style=\"text-align: right;\">\n",
       "      <th></th>\n",
       "      <th>Resources</th>\n",
       "      <th>Category</th>\n",
       "    </tr>\n",
       "  </thead>\n",
       "  <tbody>\n",
       "    <tr>\n",
       "      <th>0</th>\n",
       "      <td>https://www.epa.gov/watersense/fix-leak-week</td>\n",
       "      <td>Water</td>\n",
       "    </tr>\n",
       "    <tr>\n",
       "      <th>1</th>\n",
       "      <td>https://www.epa.gov/watersense/statistics-and-...</td>\n",
       "      <td>Water</td>\n",
       "    </tr>\n",
       "    <tr>\n",
       "      <th>2</th>\n",
       "      <td>https://www.nidwater.com/5-facts-you-need-to-k...</td>\n",
       "      <td>Water</td>\n",
       "    </tr>\n",
       "    <tr>\n",
       "      <th>3</th>\n",
       "      <td>https://parade.com/1192402/jessicasager/earth-...</td>\n",
       "      <td>History</td>\n",
       "    </tr>\n",
       "    <tr>\n",
       "      <th>4</th>\n",
       "      <td>https://www.intermountainhistories.org/tours/s...</td>\n",
       "      <td>History</td>\n",
       "    </tr>\n",
       "    <tr>\n",
       "      <th>...</th>\n",
       "      <td>...</td>\n",
       "      <td>...</td>\n",
       "    </tr>\n",
       "    <tr>\n",
       "      <th>101</th>\n",
       "      <td>https://sitn.hms.harvard.edu/uncategorized/201...</td>\n",
       "      <td>Water</td>\n",
       "    </tr>\n",
       "    <tr>\n",
       "      <th>102</th>\n",
       "      <td>https://astrobiology.nasa.gov/education/alp/wa...</td>\n",
       "      <td>Water</td>\n",
       "    </tr>\n",
       "    <tr>\n",
       "      <th>103</th>\n",
       "      <td>https://www.maine.gov/dacf/php/gotpests/otherc...</td>\n",
       "      <td>WIldlife</td>\n",
       "    </tr>\n",
       "    <tr>\n",
       "      <th>104</th>\n",
       "      <td>https://www.nmhealth.org/publication/view/guid...</td>\n",
       "      <td>WIldlife</td>\n",
       "    </tr>\n",
       "    <tr>\n",
       "      <th>105</th>\n",
       "      <td>https://batweek.org/bats-are-important-fascina...</td>\n",
       "      <td>WIldlife</td>\n",
       "    </tr>\n",
       "  </tbody>\n",
       "</table>\n",
       "<p>106 rows × 2 columns</p>\n",
       "</div>"
      ],
      "text/plain": [
       "                                             Resources  Category\n",
       "0         https://www.epa.gov/watersense/fix-leak-week     Water\n",
       "1    https://www.epa.gov/watersense/statistics-and-...     Water\n",
       "2    https://www.nidwater.com/5-facts-you-need-to-k...     Water\n",
       "3    https://parade.com/1192402/jessicasager/earth-...   History\n",
       "4    https://www.intermountainhistories.org/tours/s...   History\n",
       "..                                                 ...       ...\n",
       "101  https://sitn.hms.harvard.edu/uncategorized/201...     Water\n",
       "102  https://astrobiology.nasa.gov/education/alp/wa...     Water\n",
       "103  https://www.maine.gov/dacf/php/gotpests/otherc...  WIldlife\n",
       "104  https://www.nmhealth.org/publication/view/guid...  WIldlife\n",
       "105  https://batweek.org/bats-are-important-fascina...  WIldlife\n",
       "\n",
       "[106 rows x 2 columns]"
      ]
     },
     "execution_count": 5,
     "metadata": {},
     "output_type": "execute_result"
    }
   ],
   "source": [
    "# remove the trailing spaces or '\\n' from df\n",
    "df.replace('\\n', '', regex=True, inplace=True)\n",
    "df.replace(' ', '', regex=True, inplace=True)\n",
    "df"
   ]
  },
  {
   "cell_type": "code",
   "execution_count": 6,
   "metadata": {},
   "outputs": [
    {
     "data": {
      "text/plain": [
       "'https://www.worldwildlife.org/'"
      ]
     },
     "execution_count": 6,
     "metadata": {},
     "output_type": "execute_result"
    }
   ],
   "source": [
    "# Pick a random row from df\n",
    "df.sample(1)['Resources'].iloc[0]"
   ]
  },
  {
   "cell_type": "code",
   "execution_count": 7,
   "metadata": {},
   "outputs": [
    {
     "data": {
      "text/plain": [
       "6"
      ]
     },
     "execution_count": 7,
     "metadata": {},
     "output_type": "execute_result"
    }
   ],
   "source": [
    "# pick a randow row where the column 'Category' is 'Water' in df\n",
    "len(df.loc[df['Category'] == 'Water'])\n",
    "# df.loc[df['Category'] == 'Energy'].sample(1)['Resources'].iloc[0]\n"
   ]
  },
  {
   "cell_type": "code",
   "execution_count": 8,
   "metadata": {},
   "outputs": [],
   "source": [
    "import nest_asyncio\n",
    "from langchain_community.document_loaders import AsyncChromiumLoader\n",
    "\n",
    "nest_asyncio.apply()\n",
    "\n",
    "\n",
    "url = df.sample(1)['Resources'].iloc[0]\n",
    "loader = AsyncChromiumLoader([url])\n",
    "docs = loader.load()\n"
   ]
  },
  {
   "cell_type": "code",
   "execution_count": 12,
   "metadata": {},
   "outputs": [
    {
     "data": {
      "text/plain": [
       "'https://www.worldometers.info/co2-emissions/co2-emissions-by-country/'"
      ]
     },
     "execution_count": 12,
     "metadata": {},
     "output_type": "execute_result"
    }
   ],
   "source": [
    "url"
   ]
  },
  {
   "cell_type": "code",
   "execution_count": 10,
   "metadata": {},
   "outputs": [],
   "source": [
    "from langchain_community.document_transformers import BeautifulSoupTransformer\n",
    "\n",
    "bs_transformer = BeautifulSoupTransformer()\n",
    "docs_transformed1 = bs_transformer.transform_documents(docs,       \n",
    "        unwanted_tags=[\"script\", \"style\", \"footer\", \"header\", \"nav\", \"form\", \"noscript\"],\n",
    "        remove_lines=True,\n",
    "        remove_comments=True)\n"
   ]
  },
  {
   "cell_type": "code",
   "execution_count": 11,
   "metadata": {},
   "outputs": [
    {
     "name": "stdout",
     "output_type": "stream",
     "text": [
      "Coronavirus (/coronavirus/)  Population (/population/)       W (/) CO2 Emissions (/co2-emissions/)  CO2 Emissions by Country  CO2 Emissions by Country   Search:   # Country CO2 Emissions (tons, 2016) 1 Year Change Population (2016) Per capita Share of world     1  China (/co2-emissions/china-co2-emissions/)  10,432,751,400  -0.28%  1,401,889,681  7.44  29.18%   2  United States (/co2-emissions/us-co2-emissions/)  5,011,686,600  -2.01%  327,210,198  15.32  14.02%   3  India (/co2-emissions/india-co2-emissions/)  2,533,638,100  4.71%  1,338,636,340  1.89  7.09%   4  Russia (/co2-emissions/russia-co2-emissions/)  1,661,899,300  -2.13%  145,109,157  11.45  4.65%   5  Japan (/co2-emissions/japan-co2-emissions/)  1,239,592,060  -1.21%  126,993,857  9.76  3.47%   6  Germany (/co2-emissions/germany-co2-emissions/)  775,752,190  1.28%  82,331,423  9.42  2.17%   7  Canada (/co2-emissions/canada-co2-emissions/)  675,918,610  -1.00%  36,113,532  18.72  1.89%   8  Iran (/co2-emissions/iran-co2-emissions/)  642,560,030  2.22%  83,306,231  7.71  1.80%   9  South Korea (/co2-emissions/south-korea-co2-emissions/)  604,043,830  0.45%  51,309,984  11.77  1.69%   10  Indonesia (/co2-emissions/indonesia-co2-emissions/)  530,035,650  6.41%  261,850,182  2.02  1.48%   11  Saudi Arabia (/co2-emissions/saudi-arabia-co2-emissions/)  517,079,407  0.92%  33,416,270  15.47  1.45%   12  Brazil (/co2-emissions/brazil-co2-emissions/)  462,994,920  -6.08%  206,859,578  2.24  1.29%   13  Mexico (/co2-emissions/mexico-co2-emissions/)  441,412,750  -2.13%  121,519,221  3.63  1.23%   14  Australia (/co2-emissions/australia-co2-emissions/)  414,988,700  -0.98%  24,195,701  17.15  1.16%   15  South Africa (/co2-emissions/south-africa-co2-emissions/)  390,557,850  -0.49%  56,422,274  6.92  1.09%   16  Turkey (/co2-emissions/turkey-co2-emissions/)  368,122,740  5.25%  81,019,394  4.54  1.03%   17  United Kingdom (/co2-emissions/uk-co2-emissions/)  367,860,350  -6.38%  65,655,203  5.60  1.03%   18  Italy (/co2-emissions/italy-co2-emissions/)  358,139,550  0.84%  60,118,626  5.96  1.00%   19  France (/co2-emissions/france-co2-emissions/)  331,533,320  2.11%  63,989,319  5.18  0.93%   20  Poland (/co2-emissions/poland-co2-emissions/)  296,659,670  2.67%  38,532,113  7.70  0.83%   21  Taiwan (/co2-emissions/taiwan-co2-emissions/)  276,724,868  1.91%  23,594,471  11.73  0.77%   22  Thailand (/co2-emissions/thailand-co2-emissions/)  271,040,160  1.55%  70,607,037  3.84  0.76%   23  Malaysia (/co2-emissions/malaysia-co2-emissions/)  266,251,542  6.54%  31,526,418  8.45  0.74%   24  Spain (/co2-emissions/spain-co2-emissions/)  251,892,320  -3.12%  46,473,315  5.42  0.70%   25  Ukraine (/co2-emissions/ukraine-co2-emissions/)  233,220,080  8.03%  44,833,569  5.20  0.65%   26  Kazakhstan (/co2-emissions/kazakhstan-co2-emissions/)  231,919,540  1.64%  18,078,553  12.83  0.65%   27  Egypt (/co2-emissions/egypt-co2-emissions/)  219,377,350  4.72%  99,784,030  2.20  0.61%   28  United Arab Emirates (/co2-emissions/united-arab-emirates-co2-emissions/)  218,788,684  4.43%  8,994,263  24.33  0.61%   29  Vietnam (/co2-emissions/vietnam-co2-emissions/)  206,042,140  0.09%  93,126,529  2.21  0.58%   30  Argentina (/co2-emissions/argentina-co2-emissions/)  200,708,270  0.16%  43,668,241  4.60  0.56%   31  Pakistan (/co2-emissions/pakistan-co2-emissions/)  178,013,820  9.13%  213,524,840  0.83  0.50%   32  Venezuela (/co2-emissions/venezuela-co2-emissions/)  175,884,256  -1.90%  30,741,464  5.72  0.49%   33  Netherlands (/co2-emissions/netherlands-co2-emissions/)  163,419,285  1.63%  17,124,505  9.54  0.46%   34  Iraq (/co2-emissions/iraq-co2-emissions/)  162,646,160  1.22%  38,697,943  4.20  0.45%   35  Algeria (/co2-emissions/algeria-co2-emissions/)  156,220,560  0.17%  40,339,329  3.87  0.44%   36  Philippines (/co2-emissions/philippines-co2-emissions/)  126,922,662  12.37%  104,875,266  1.21  0.35%   37  Czech Republic (Czechia) (/co2-emissions/czechia-co2-emissions/)  111,825,428  1.39%  10,527,591  10.62  0.31%   38  Uzbekistan (/co2-emissions/uzbekistan-co2-emissions/)  109,347,340  1.60%  31,453,574  3.48  0.31%   39  Kuwait (/co2-emissions/kuwait-co2-emissions/)  101,492,225  1.36%  4,048,085  25.07  0.28%   40  Qatar (/co2-emissions/qatar-co2-emissions/)  98,990,085  1.79%  2,595,166  38.14  0.28%   41  Belgium (/co2-emissions/belgium-co2-emissions/)  94,722,813  1.53%  11,316,836  8.37  0.26%   42  Oman (/co2-emissions/oman-co2-emissions/)  87,835,773  2.09%  4,398,070  19.97  0.25%   43  Nigeria (/co2-emissions/nigeria-co2-emissions/)  82,634,214  0.70%  188,666,931  0.44  0.23%   44  Chile (/co2-emissions/chile-co2-emissions/)  81,258,525  5.33%  18,083,879  4.49  0.23%   45  Turkmenistan (/co2-emissions/turkmenistan-co2-emissions/)  79,279,216  0.63%  5,868,561  13.51  0.22%   46  Romania (/co2-emissions/romania-co2-emissions/)  78,770,824  1.69%  19,797,820  3.98  0.22%   47  Colombia (/co2-emissions/colombia-co2-emissions/)  77,667,594  -0.84%  47,625,955  1.63  0.22%   48  Bangladesh (/co2-emissions/bangladesh-co2-emissions/)  74,476,230  4.50%  159,784,568  0.47  0.21%   49  Austria (/co2-emissions/austria-co2-emissions/)  73,764,112  1.54%  8,736,487  8.44  0.21%   50  Greece (/co2-emissions/greece-co2-emissions/)  67,840,662  -3.47%  10,749,742  6.31  0.19%   51  Israel (/co2-emissions/israel-co2-emissions/)  65,201,588  -0.38%  8,159,009  7.99  0.18%   52  Belarus (/co2-emissions/belarus-co2-emissions/)  62,655,669  4.90%  9,708,110  6.45  0.18%   53  North Korea (/co2-emissions/north-korea-co2-emissions/)  58,708,734  19.49%  25,389,611  2.31  0.16%   54  Morocco (/co2-emissions/morocco-co2-emissions/)  57,694,464  0.54%  35,107,264  1.64  0.16%   55  Peru (/co2-emissions/peru-co2-emissions/)  57,692,879  8.16%  31,132,779  1.85  0.16%   56  Libya (/co2-emissions/libya-co2-emissions/)  52,696,075  1.52%  6,282,196  8.39  0.15%   57  Finland (/co2-emissions/finland-co2-emissions/)  51,183,960  3.62%  5,495,219  9.31  0.14%   58  Hungary (/co2-emissions/hungary-co2-emissions/)  51,018,899  2.16%  9,815,104  5.20  0.14%   59  Bulgaria (/co2-emissions/bulgaria-co2-emissions/)  50,872,910  -6.00%  7,245,975  7.02  0.14%   60  Portugal (/co2-emissions/portugal-co2-emissions/)  50,142,844  -2.36%  10,332,753  4.85  0.14%   61  Singapore (/co2-emissions/singapore-co2-emissions/)  48,381,759  2.56%  5,711,933  8.47  0.14%   62  Hong Kong (/co2-emissions/china-hong-kong-sar-co2-emissions/)  47,066,386  1.23%  7,435,927  6.33  0.13%   63  Sweden (/co2-emissions/sweden-co2-emissions/)  44,694,415  4.33%  9,953,317  4.49  0.13%   64  Norway (/co2-emissions/norway-co2-emissions/)  43,456,012  0.85%  5,236,590  8.30  0.12%   65  Serbia (/co2-emissions/serbia-co2-emissions/)  41,168,059  2.27%  7,493,288  5.49  0.12%   66  Ecuador (/co2-emissions/ecuador-co2-emissions/)  40,065,690  -4.85%  16,439,585  2.44  0.11%   67  Switzerland (/co2-emissions/switzerland-co2-emissions/)  39,666,930  -2.30%  8,372,898  4.74  0.11%   68  Ireland (/co2-emissions/ireland-co2-emissions/)  39,086,565  5.09%  4,715,788  8.29  0.11%   69  Syria (/co2-emissions/syria-co2-emissions/)  38,054,696  1.78%  18,964,252  2.01  0.11%   70  Denmark (/co2-emissions/denmark-co2-emissions/)  38,007,645  5.23%  5,706,857  6.66  0.11%   71  Slovakia (/co2-emissions/slovakia-co2-emissions/)  36,817,242  1.74%  5,431,203  6.78  0.10%   72  Trinidad and Tobago (/co2-emissions/trinidad-and-tobago-co2-emissions/)  34,974,263  -5.92%  1,469,330  23.80  0.10%   73  Azerbaijan (/co2-emissions/azerbaijan-co2-emissions/)  33,614,235  -0.41%  9,976,248  3.37  0.09%   74  New Zealand (/co2-emissions/new-zealand-co2-emissions/)  33,276,202  -0.14%  4,668,081  7.13  0.09%   75  Angola (/co2-emissions/angola-co2-emissions/)  30,566,933  3.13%  29,154,746  1.05  0.09%   76  Cuba (/co2-emissions/cuba-co2-emissions/)  30,389,116  1.65%  11,342,012  2.68  0.08%   77  Tunisia (/co2-emissions/tunisia-co2-emissions/)  29,395,965  0.82%  11,685,667  2.52  0.08%   78  Bosnia and Herzegovina (/co2-emissions/bosnia-and-herzegovina-co2-emissions/)  25,674,120  0.86%  3,480,986  7.38  0.07%   79  Yemen (/co2-emissions/yemen-co2-emissions/)  25,647,990  1.62%  29,274,002  0.88  0.07%   80  Bahrain (/co2-emissions/bahrain-co2-emissions/)  24,458,384  2.50%  1,409,661  17.35  0.07%   81  Dominican Republic (/co2-emissions/dominican-republic-co2-emissions/)  23,466,740  2.88%  10,527,592  2.23  0.07%   82  Jordan (/co2-emissions/jordan-co2-emissions/)  22,772,370  1.83%  9,964,656  2.29  0.06%   83  Estonia (/co2-emissions/estonia-co2-emissions/)  22,402,414  1.01%  1,315,926  17.02  0.06%   84  Lebanon (/co2-emissions/lebanon-co2-emissions/)  21,863,288  1.95%  6,258,619  3.49  0.06%   85  Bolivia (/co2-emissions/bolivia-co2-emissions/)  19,463,728  2.03%  11,263,015  1.73  0.05%   86  Croatia (/co2-emissions/croatia-co2-emissions/)  19,408,194  3.02%  4,223,751  4.60  0.05%   87  Mongolia (/co2-emissions/mongolia-co2-emissions/)  18,574,260  18.09%  3,029,555  6.13  0.05%   88  Guatemala (/co2-emissions/guatemala-co2-emissions/)  18,539,316  2.42%  16,291,004  1.14  0.05%   89  Sri Lanka (/co2-emissions/sri-lanka-co2-emissions/)  18,454,691  8.55%  21,425,494  0.86  0.05%   90  Myanmar (/co2-emissions/myanmar-co2-emissions/)  16,701,776  5.61%  51,892,349  0.32  0.05%   91  Kenya (/co2-emissions/kenya-co2-emissions/)  16,334,919  3.60%  47,894,670  0.34  0.05%   92  Montenegro (/co2-emissions/montenegro-co2-emissions/)  16,249,039  2.27%  633,264  25.66  0.05%   93  Slovenia (/co2-emissions/slovenia-co2-emissions/)  14,722,601  2.35%  2,090,020  7.04  0.04%   94  Ghana (/co2-emissions/ghana-co2-emissions/)  14,469,986  3.54%  29,554,303  0.49  0.04%   95  Lithuania (/co2-emissions/lithuania-co2-emissions/)  13,685,264  2.66%  2,933,673  4.66  0.04%   96  Sudan (/co2-emissions/sudan-co2-emissions/)  13,294,106  4.18%  39,377,169  0.34  0.04%   97  Panama (/co2-emissions/panama-co2-emissions/)  11,599,764  2.37%  4,026,336  2.88  0.03%   98  Ethiopia (/co2-emissions/ethiopia-co2-emissions/)  10,438,855  4.03%  105,293,228  0.10  0.03%   99  Luxembourg (/co2-emissions/luxembourg-co2-emissions/)  10,144,632  3.45%  583,351  17.39  0.03%   100  Zimbabwe (/co2-emissions/zimbabwe-co2-emissions/)  10,062,628  -4.17%  14,452,704  0.70  0.03%   101  Côte d'Ivoire (/co2-emissions/cote-d-ivoire-co2-emissions/)  10,056,492  1.16%  24,213,622  0.42  0.03%   102  Afghanistan (/co2-emissions/afghanistan-co2-emissions/)  9,900,004  7.13%  34,636,207  0.29  0.03%   103  Tanzania (/co2-emissions/tanzania-co2-emissions/)  9,731,560  2.50%  54,401,802  0.18  0.03%   104  Cameroon (/co2-emissions/cameroon-co2-emissions/)  9,454,331  2.21%  23,711,630  0.40  0.03%   105  Honduras (/co2-emissions/honduras-co2-emissions/)  9,320,279  2.25%  9,460,798  0.99  0.03%   106  Papua New Guinea (/co2-emissions/papua-new-guinea-co2-emissions/)  9,086,988  7.09%  8,899,169  1.02  0.03%   107  Jamaica (/co2-emissions/jamaica-co2-emissions/)  8,946,575  1.82%  2,802,695  3.19  0.03%   108  North Macedonia (/co2-emissions/north-macedonia-co2-emissions/)  8,896,732  1.62%  2,110,196  4.22  0.02%   109  Georgia (/co2-emissions/georgia-co2-emissions/)  8,610,414  2.94%  3,771,110  2.28  0.02%   110  Costa Rica (/co2-emissions/costa-rica-co2-emissions/)  8,328,890  2.16%  4,945,205  1.68  0.02%   111  Moldova (/co2-emissions/moldova-co2-emissions/)  8,258,774  2.99%  3,225,123  2.56  0.02%   112  Senegal (/co2-emissions/senegal-co2-emissions/)  8,247,295  3.69%  14,751,356  0.56  0.02%   113  Latvia (/co2-emissions/latvia-co2-emissions/)  8,157,157  3.41%  1,973,476  4.13  0.02%   114  Nepal (/co2-emissions/nepal-co2-emissions/)  7,833,787  10.10%  27,861,186  0.28  0.02%   115  Brunei (/co2-emissions/brunei-darussalam-co2-emissions/)  7,672,127  3.54%  425,994  18.01  0.02%   116  Kyrgyzstan (/co2-emissions/kyrgyzstan-co2-emissions/)  6,941,784  2.53%  6,018,299  1.15  0.02%   117  Cyprus (/co2-emissions/cyprus-co2-emissions/)  6,872,427  3.73%  1,197,881  5.74  0.02%   118  El Salvador (/co2-emissions/el-salvador-co2-emissions/)  6,853,766  0.45%  6,250,510  1.10  0.02%   119  DR Congo (/co2-emissions/democratic-republic-of-the-congo-co2-emissions/)  6,564,773  3.77%  81,430,977  0.08  0.02%   120  Benin (/co2-emissions/benin-co2-emissions/)  6,563,709  4.13%  11,260,085  0.58  0.02%   121  Uruguay (/co2-emissions/uruguay-co2-emissions/)  6,508,013  1.91%  3,413,766  1.91  0.02%   122  Cambodia (/co2-emissions/cambodia-co2-emissions/)  6,496,958  7.68%  15,624,584  0.42  0.02%   123  Botswana (/co2-emissions/botswana-co2-emissions/)  6,438,429  -3.74%  2,352,416  2.74  0.02%   124  Tajikistan (/co2-emissions/tajikistan-co2-emissions/)  6,049,757  3.37%  8,725,318  0.69  0.02%   125  Paraguay (/co2-emissions/paraguay-co2-emissions/)  5,998,469  1.97%  6,266,615  0.96  0.02%   126  Mozambique (/co2-emissions/mozambique-co2-emissions/)  5,859,171  2.22%  27,696,493  0.21  0.02%   127  Gabon (/co2-emissions/gabon-co2-emissions/)  5,694,208  1.12%  2,086,206  2.73  0.02%   128  Nicaragua (/co2-emissions/nicaragua-co2-emissions/)  5,325,447  1.86%  6,389,235  0.83  0.01%   129  Congo (/co2-emissions/congo-co2-emissions/)  5,212,302  1.63%  5,186,824  1.00  0.01%   130  Albania (/co2-emissions/albania-co2-emissions/)  5,208,319  4.45%  2,881,063  1.81  0.01%   131  Uganda (/co2-emissions/uganda-co2-emissions/)  5,009,493  3.82%  38,748,299  0.13  0.01%   132  Armenia (/co2-emissions/armenia-co2-emissions/)  4,597,845  3.06%  2,865,835  1.60  0.01%   133  Laos (/co2-emissions/laos-co2-emissions/)  4,531,276  7.92%  6,891,363  0.66  0.01%   134  Bahamas (/co2-emissions/bahamas-co2-emissions/)  4,404,247  1.51%  395,976  11.12  0.01%   135  Zambia (/co2-emissions/zambia-co2-emissions/)  4,230,584  3.67%  16,767,761  0.25  0.01%   136  South Sudan (/co2-emissions/south-sudan-co2-emissions/)  4,038,496  4.18%  11,066,105  0.36  0.01%   137  Iceland (/co2-emissions/iceland-co2-emissions/)  3,923,884  1.62%  335,675  11.69  0.01%   138  Namibia (/co2-emissions/namibia-co2-emissions/)  3,901,830  4.42%  2,323,352  1.68  0.01%   139  Guyana (/co2-emissions/guyana-co2-emissions/)  3,253,057  1.61%  759,087  4.29  0.01%   140  Mauritius (/co2-emissions/mauritius-co2-emissions/)  3,192,307  0.00%  1,293,911  2.47  0.01%   141  Macao (/co2-emissions/china-macao-sar-co2-emissions/)  3,106,518  7.19%  626,688  4.96  0.01%   142  Haiti (/co2-emissions/haiti-co2-emissions/)  3,086,897  1.71%  10,713,849  0.29  0.01%   143  Madagascar (/co2-emissions/madagascar-co2-emissions/)  3,026,047  2.85%  25,501,941  0.12  0.01%   144  Martinique (/co2-emissions/martinique-co2-emissions/)  2,715,477  1.72%  380,345  7.14  0.01%   145  Mauritania (/co2-emissions/mauritania-co2-emissions/)  2,564,345  3.32%  4,051,890  0.63  0.01%   146  Guadeloupe (/co2-emissions/guadeloupe-co2-emissions/)  2,478,038  1.84%  397,854  6.23  0.01%   147  Burkina Faso (/co2-emissions/burkina-faso-co2-emissions/)  2,352,070  3.14%  19,275,498  0.12  0.01%   148  New Caledonia (/co2-emissions/new-caledonia-co2-emissions/)  2,338,717  7.22%  283,748  8.24  0.01%   149  Togo (/co2-emissions/togo-co2-emissions/)  2,321,546  5.47%  7,661,354  0.30  0.01%   150  Malta (/co2-emissions/malta-co2-emissions/)  2,257,870  3.48%  467,705  4.83  0.01%   151  Equatorial Guinea (/co2-emissions/equatorial-guinea-co2-emissions/)  2,156,371  0.00%  1,398,927  1.54  0.01%   152  Suriname (/co2-emissions/suriname-co2-emissions/)  2,152,933  0.32%  581,453  3.70  0.01%   153  Niger (/co2-emissions/niger-co2-emissions/)  2,088,475  0.15%  20,921,743  0.10  0.01%   154  Guinea (/co2-emissions/guinea-co2-emissions/)  2,071,798  3.20%  11,930,985  0.17  0.01%   155  Malawi (/co2-emissions/malawi-co2-emissions/)  1,815,598  3.26%  17,405,624  0.10  0.01%   156  Fiji (/co2-emissions/fiji-co2-emissions/)  1,703,193  7.28%  918,371  1.85  0.00%   157  Bhutan (/co2-emissions/bhutan-co2-emissions/)  1,682,100  6.14%  749,761  2.24  0.00%   158  Chad (/co2-emissions/chad-co2-emissions/)  1,670,941  2.14%  14,592,585  0.11  0.00%   159  Mali (/co2-emissions/mali-co2-emissions/)  1,606,421  2.57%  18,700,106  0.09  0.00%   160  Barbados (/co2-emissions/barbados-co2-emissions/)  1,541,447  1.88%  278,649  5.53  0.00%   161  Djibouti (/co2-emissions/djibouti-co2-emissions/)  1,508,851  2.97%  1,023,261  1.47  0.00%   162  French Guiana (/co2-emissions/french-guiana-co2-emissions/)  1,473,719  1.73%  262,813  5.61  0.00%   163  Rwanda (/co2-emissions/rwanda-co2-emissions/)  1,403,087  2.88%  11,930,899  0.12  0.00%   164  Sierra Leone (/co2-emissions/sierra-leone-co2-emissions/)  1,272,332  3.43%  7,493,913  0.17  0.00%   165  Somalia (/co2-emissions/somalia-co2-emissions/)  1,268,442  2.57%  14,292,847  0.09  0.00%   166  Maldives (/co2-emissions/maldives-co2-emissions/)  1,233,015  7.19%  454,252  2.71  0.00%   167  Réunion (/co2-emissions/reunion-co2-emissions/)  1,132,331  3.55%  926,628  1.22  0.00%   168  Belize (/co2-emissions/belize-co2-emissions/)  1,114,105  1.51%  367,313  3.03  0.00%   169  Burundi (/co2-emissions/burundi-co2-emissions/)  1,093,618  2.81%  10,903,327  0.10  0.00%   170  French Polynesia (/co2-emissions/french-polynesia-co2-emissions/)  1,003,249  7.18%  293,541  3.42  0.00%   171  Liberia (/co2-emissions/liberia-co2-emissions/)  846,658  3.49%  4,706,097  0.18  0.00%   172  Puerto Rico (/co2-emissions/puerto-rico-co2-emissions/)  712,758  1.71%  3,432,740  0.21  0.00%   173  Eritrea (/co2-emissions/eritrea-co2-emissions/)  684,140  4.79%  3,365,287  0.20  0.00%   174  Eswatini (/co2-emissions/swaziland-co2-emissions/)  657,572  2.61%  1,142,524  0.58  0.00%   175  Bermuda (/co2-emissions/bermuda-co2-emissions/)  639,352  1.51%  63,068  10.14  0.00%   176  Saint Lucia (/co2-emissions/saint-lucia-co2-emissions/)  608,182  1.51%  176,413  3.45  0.00%   177  Gibraltar (/co2-emissions/gibraltar-co2-emissions/)  572,708  3.53%  32,565  17.59  0.00%   178  Grenada (/co2-emissions/grenada-co2-emissions/)  554,848  1.51%  119,966  4.63  0.00%   179  Central African Republic (/co2-emissions/central-african-republic-co2-emissions/)  543,229  2.57%  4,904,177  0.11  0.00%   180  Seychelles (/co2-emissions/seychelles-co2-emissions/)  519,693  2.62%  100,508  5.17  0.00%   181  Timor-Leste (/co2-emissions/timor-leste-co2-emissions/)  495,687  4.63%  1,224,562  0.40  0.00%   182  Antigua and Barbuda (/co2-emissions/antigua-and-barbuda-co2-emissions/)  438,763  1.51%  90,564  4.84  0.00%   183  Cayman Islands (/co2-emissions/cayman-islands-co2-emissions/)  406,057  1.52%  62,255  6.52  0.00%   184  St. Vincent & Grenadines (/co2-emissions/saint-vincent-and-the-grenadines-co2-emissions/)  362,414  1.51%  105,963  3.42  0.00%   185  Solomon Islands (/co2-emissions/solomon-islands-co2-emissions/)  341,748  7.18%  628,102  0.54  0.00%   186  Guinea-Bissau (/co2-emissions/guinea-bissau-co2-emissions/)  318,706  2.59%  1,834,552  0.17  0.00%   187  Lesotho (/co2-emissions/lesotho-co2-emissions/)  318,438  2.58%  2,143,872  0.15  0.00%   188  Aruba (/co2-emissions/aruba-co2-emissions/)  286,871  1.51%  104,874  2.74  0.00%   189  Gambia (/co2-emissions/gambia-co2-emissions/)  254,127  2.59%  2,317,206  0.11  0.00%   190  Tonga (/co2-emissions/tonga-co2-emissions/)  251,375  7.19%  105,707  2.38  0.00%   191  Western Sahara (/co2-emissions/western-sahara-co2-emissions/)  207,592  2.61%  505,455  0.41  0.00%   192  Saint Kitts & Nevis (/co2-emissions/saint-kitts-and-nevis-co2-emissions/)  203,036  1.51%  47,788  4.25  0.00%   193  Dominica (/co2-emissions/dominica-co2-emissions/)  185,767  1.51%  70,075  2.65  0.00%   194  Samoa (/co2-emissions/samoa-co2-emissions/)  169,939  7.18%  205,544  0.83  0.00%   195  Vanuatu (/co2-emissions/vanuatu-co2-emissions/)  137,706  7.18%  283,218  0.49  0.00%   196  Comoros (/co2-emissions/comoros-co2-emissions/)  108,422  2.58%  746,232  0.15  0.00%   197  British Virgin Islands (/co2-emissions/british-virgin-islands-co2-emissions/)  99,762  1.51%  29,739  3.35  0.00%   198  Cabo Verde (/co2-emissions/cabo-verde-co2-emissions/)  99,687  2.59%  558,394  0.18  0.00%   199  Turks and Caicos (/co2-emissions/turks-and-caicos-islands-co2-emissions/)  65,451  1.52%  38,246  1.71  0.00%   200  Sao Tome & Principe (/co2-emissions/sao-tome-and-principe-co2-emissions/)  56,185  2.60%  204,632  0.27  0.00%   201  Kiribati (/co2-emissions/kiribati-co2-emissions/)  52,818  7.18%  118,513  0.45  0.00%   202  Falkland Islands (/co2-emissions/falkland-islands-malvinas-co2-emissions/)  48,568  1.51%  3,508  13.84  0.00%   203  Palau (/co2-emissions/palau-co2-emissions/)  41,732  7.19%  17,816  2.34  0.00%   204  Cook Islands (/co2-emissions/cook-islands-co2-emissions/)  37,354  7.19%  17,546  2.13  0.00%   205  Anguilla (/co2-emissions/anguilla-co2-emissions/)  30,262  1.52%  14,813  2.04  0.00%   206  Saint Helena (/co2-emissions/saint-helena-co2-emissions/)  13,128  2.62%  5,510  2.38  0.00%   207  Saint Pierre & Miquelon (/co2-emissions/saint-pierre-and-miquelon-co2-emissions/)  8,842  1.51%  5,965  1.48  0.00%   208  Faeroe Islands (/co2-emissions/faeroe-islands-co2-emissions/)  1,953  0.60%  49,500  0.04  0.00%   209  Greenland (/co2-emissions/greenland-co2-emissions/)  1,530  0.86%  55,916  0.03  0.00%   Carbon Dioxide (CO2) Emissions by Country - Worldometer  Sources   Emission Database for Global Atmospheric Research (EDGAR)  CO2 Emissions from Fuel Combustion - IEA  World Population Prospects: The 2019 Revision (https://esa.un.org/unpd/wpp/) - United Nations Population Division\n"
     ]
    }
   ],
   "source": [
    "print(docs_transformed1[0].page_content)"
   ]
  },
  {
   "cell_type": "code",
   "execution_count": 13,
   "metadata": {},
   "outputs": [
    {
     "data": {
      "text/plain": [
       "Document(page_content=\"Coronavirus (/coronavirus/)  Population (/population/)       W (/) CO2 Emissions (/co2-emissions/)  CO2 Emissions by Country  CO2 Emissions by Country   Search:   # Country CO2 Emissions (tons, 2016) 1 Year Change Population (2016) Per capita Share of world     1  China (/co2-emissions/china-co2-emissions/)  10,432,751,400  -0.28%  1,401,889,681  7.44  29.18%   2  United States (/co2-emissions/us-co2-emissions/)  5,011,686,600  -2.01%  327,210,198  15.32  14.02%   3  India (/co2-emissions/india-co2-emissions/)  2,533,638,100  4.71%  1,338,636,340  1.89  7.09%   4  Russia (/co2-emissions/russia-co2-emissions/)  1,661,899,300  -2.13%  145,109,157  11.45  4.65%   5  Japan (/co2-emissions/japan-co2-emissions/)  1,239,592,060  -1.21%  126,993,857  9.76  3.47%   6  Germany (/co2-emissions/germany-co2-emissions/)  775,752,190  1.28%  82,331,423  9.42  2.17%   7  Canada (/co2-emissions/canada-co2-emissions/)  675,918,610  -1.00%  36,113,532  18.72  1.89%   8  Iran (/co2-emissions/iran-co2-emissions/)  642,560,030  2.22%  83,306,231  7.71  1.80%   9  South Korea (/co2-emissions/south-korea-co2-emissions/)  604,043,830  0.45%  51,309,984  11.77  1.69%   10  Indonesia (/co2-emissions/indonesia-co2-emissions/)  530,035,650  6.41%  261,850,182  2.02  1.48%   11  Saudi Arabia (/co2-emissions/saudi-arabia-co2-emissions/)  517,079,407  0.92%  33,416,270  15.47  1.45%   12  Brazil (/co2-emissions/brazil-co2-emissions/)  462,994,920  -6.08%  206,859,578  2.24  1.29%   13  Mexico (/co2-emissions/mexico-co2-emissions/)  441,412,750  -2.13%  121,519,221  3.63  1.23%   14  Australia (/co2-emissions/australia-co2-emissions/)  414,988,700  -0.98%  24,195,701  17.15  1.16%   15  South Africa (/co2-emissions/south-africa-co2-emissions/)  390,557,850  -0.49%  56,422,274  6.92  1.09%   16  Turkey (/co2-emissions/turkey-co2-emissions/)  368,122,740  5.25%  81,019,394  4.54  1.03%   17  United Kingdom (/co2-emissions/uk-co2-emissions/)  367,860,350  -6.38%  65,655,203  5.60  1.03%   18  Italy (/co2-emissions/italy-co2-emissions/)  358,139,550  0.84%  60,118,626  5.96  1.00%   19  France (/co2-emissions/france-co2-emissions/)  331,533,320  2.11%  63,989,319  5.18  0.93%   20  Poland (/co2-emissions/poland-co2-emissions/)  296,659,670  2.67%  38,532,113  7.70  0.83%   21  Taiwan (/co2-emissions/taiwan-co2-emissions/)  276,724,868  1.91%  23,594,471  11.73  0.77%   22  Thailand (/co2-emissions/thailand-co2-emissions/)  271,040,160  1.55%  70,607,037  3.84  0.76%   23  Malaysia (/co2-emissions/malaysia-co2-emissions/)  266,251,542  6.54%  31,526,418  8.45  0.74%   24  Spain (/co2-emissions/spain-co2-emissions/)  251,892,320  -3.12%  46,473,315  5.42  0.70%   25  Ukraine (/co2-emissions/ukraine-co2-emissions/)  233,220,080  8.03%  44,833,569  5.20  0.65%   26  Kazakhstan (/co2-emissions/kazakhstan-co2-emissions/)  231,919,540  1.64%  18,078,553  12.83  0.65%   27  Egypt (/co2-emissions/egypt-co2-emissions/)  219,377,350  4.72%  99,784,030  2.20  0.61%   28  United Arab Emirates (/co2-emissions/united-arab-emirates-co2-emissions/)  218,788,684  4.43%  8,994,263  24.33  0.61%   29  Vietnam (/co2-emissions/vietnam-co2-emissions/)  206,042,140  0.09%  93,126,529  2.21  0.58%   30  Argentina (/co2-emissions/argentina-co2-emissions/)  200,708,270  0.16%  43,668,241  4.60  0.56%   31  Pakistan (/co2-emissions/pakistan-co2-emissions/)  178,013,820  9.13%  213,524,840  0.83  0.50%   32  Venezuela (/co2-emissions/venezuela-co2-emissions/)  175,884,256  -1.90%  30,741,464  5.72  0.49%   33  Netherlands (/co2-emissions/netherlands-co2-emissions/)  163,419,285  1.63%  17,124,505  9.54  0.46%   34  Iraq (/co2-emissions/iraq-co2-emissions/)  162,646,160  1.22%  38,697,943  4.20  0.45%   35  Algeria (/co2-emissions/algeria-co2-emissions/)  156,220,560  0.17%  40,339,329  3.87  0.44%   36  Philippines (/co2-emissions/philippines-co2-emissions/)  126,922,662  12.37%  104,875,266  1.21  0.35%   37  Czech Republic (Czechia) (/co2-emissions/czechia-co2-emissions/)  111,825,428  1.39%  10,527,591  10.62  0.31%   38  Uzbekistan (/co2-emissions/uzbekistan-co2-emissions/)  109,347,340  1.60%  31,453,574  3.48  0.31%   39  Kuwait (/co2-emissions/kuwait-co2-emissions/)  101,492,225  1.36%  4,048,085  25.07  0.28%   40  Qatar (/co2-emissions/qatar-co2-emissions/)  98,990,085  1.79%  2,595,166  38.14  0.28%   41  Belgium (/co2-emissions/belgium-co2-emissions/)  94,722,813  1.53%  11,316,836  8.37  0.26%   42  Oman (/co2-emissions/oman-co2-emissions/)  87,835,773  2.09%  4,398,070  19.97  0.25%   43  Nigeria (/co2-emissions/nigeria-co2-emissions/)  82,634,214  0.70%  188,666,931  0.44  0.23%   44  Chile (/co2-emissions/chile-co2-emissions/)  81,258,525  5.33%  18,083,879  4.49  0.23%   45  Turkmenistan (/co2-emissions/turkmenistan-co2-emissions/)  79,279,216  0.63%  5,868,561  13.51  0.22%   46  Romania (/co2-emissions/romania-co2-emissions/)  78,770,824  1.69%  19,797,820  3.98  0.22%   47  Colombia (/co2-emissions/colombia-co2-emissions/)  77,667,594  -0.84%  47,625,955  1.63  0.22%   48  Bangladesh (/co2-emissions/bangladesh-co2-emissions/)  74,476,230  4.50%  159,784,568  0.47  0.21%   49  Austria (/co2-emissions/austria-co2-emissions/)  73,764,112  1.54%  8,736,487  8.44  0.21%   50  Greece (/co2-emissions/greece-co2-emissions/)  67,840,662  -3.47%  10,749,742  6.31  0.19%   51  Israel (/co2-emissions/israel-co2-emissions/)  65,201,588  -0.38%  8,159,009  7.99  0.18%   52  Belarus (/co2-emissions/belarus-co2-emissions/)  62,655,669  4.90%  9,708,110  6.45  0.18%   53  North Korea (/co2-emissions/north-korea-co2-emissions/)  58,708,734  19.49%  25,389,611  2.31  0.16%   54  Morocco (/co2-emissions/morocco-co2-emissions/)  57,694,464  0.54%  35,107,264  1.64  0.16%   55  Peru (/co2-emissions/peru-co2-emissions/)  57,692,879  8.16%  31,132,779  1.85  0.16%   56  Libya (/co2-emissions/libya-co2-emissions/)  52,696,075  1.52%  6,282,196  8.39  0.15%   57  Finland (/co2-emissions/finland-co2-emissions/)  51,183,960  3.62%  5,495,219  9.31  0.14%   58  Hungary (/co2-emissions/hungary-co2-emissions/)  51,018,899  2.16%  9,815,104  5.20  0.14%   59  Bulgaria (/co2-emissions/bulgaria-co2-emissions/)  50,872,910  -6.00%  7,245,975  7.02  0.14%   60  Portugal (/co2-emissions/portugal-co2-emissions/)  50,142,844  -2.36%  10,332,753  4.85  0.14%   61  Singapore (/co2-emissions/singapore-co2-emissions/)  48,381,759  2.56%  5,711,933  8.47  0.14%   62  Hong Kong (/co2-emissions/china-hong-kong-sar-co2-emissions/)  47,066,386  1.23%  7,435,927  6.33  0.13%   63  Sweden (/co2-emissions/sweden-co2-emissions/)  44,694,415  4.33%  9,953,317  4.49  0.13%   64  Norway (/co2-emissions/norway-co2-emissions/)  43,456,012  0.85%  5,236,590  8.30  0.12%   65  Serbia (/co2-emissions/serbia-co2-emissions/)  41,168,059  2.27%  7,493,288  5.49  0.12%   66  Ecuador (/co2-emissions/ecuador-co2-emissions/)  40,065,690  -4.85%  16,439,585  2.44  0.11%   67  Switzerland (/co2-emissions/switzerland-co2-emissions/)  39,666,930  -2.30%  8,372,898  4.74  0.11%   68  Ireland (/co2-emissions/ireland-co2-emissions/)  39,086,565  5.09%  4,715,788  8.29  0.11%   69  Syria (/co2-emissions/syria-co2-emissions/)  38,054,696  1.78%  18,964,252  2.01  0.11%   70  Denmark (/co2-emissions/denmark-co2-emissions/)  38,007,645  5.23%  5,706,857  6.66  0.11%   71  Slovakia (/co2-emissions/slovakia-co2-emissions/)  36,817,242  1.74%  5,431,203  6.78  0.10%   72  Trinidad and Tobago (/co2-emissions/trinidad-and-tobago-co2-emissions/)  34,974,263  -5.92%  1,469,330  23.80  0.10%   73  Azerbaijan (/co2-emissions/azerbaijan-co2-emissions/)  33,614,235  -0.41%  9,976,248  3.37  0.09%   74  New Zealand (/co2-emissions/new-zealand-co2-emissions/)  33,276,202  -0.14%  4,668,081  7.13  0.09%   75  Angola (/co2-emissions/angola-co2-emissions/)  30,566,933  3.13%  29,154,746  1.05  0.09%   76  Cuba (/co2-emissions/cuba-co2-emissions/)  30,389,116  1.65%  11,342,012  2.68  0.08%   77  Tunisia (/co2-emissions/tunisia-co2-emissions/)  29,395,965  0.82%  11,685,667  2.52  0.08%   78  Bosnia and Herzegovina (/co2-emissions/bosnia-and-herzegovina-co2-emissions/)  25,674,120  0.86%  3,480,986  7.38  0.07%   79  Yemen (/co2-emissions/yemen-co2-emissions/)  25,647,990  1.62%  29,274,002  0.88  0.07%   80  Bahrain (/co2-emissions/bahrain-co2-emissions/)  24,458,384  2.50%  1,409,661  17.35  0.07%   81  Dominican Republic (/co2-emissions/dominican-republic-co2-emissions/)  23,466,740  2.88%  10,527,592  2.23  0.07%   82  Jordan (/co2-emissions/jordan-co2-emissions/)  22,772,370  1.83%  9,964,656  2.29  0.06%   83  Estonia (/co2-emissions/estonia-co2-emissions/)  22,402,414  1.01%  1,315,926  17.02  0.06%   84  Lebanon (/co2-emissions/lebanon-co2-emissions/)  21,863,288  1.95%  6,258,619  3.49  0.06%   85  Bolivia (/co2-emissions/bolivia-co2-emissions/)  19,463,728  2.03%  11,263,015  1.73  0.05%   86  Croatia (/co2-emissions/croatia-co2-emissions/)  19,408,194  3.02%  4,223,751  4.60  0.05%   87  Mongolia (/co2-emissions/mongolia-co2-emissions/)  18,574,260  18.09%  3,029,555  6.13  0.05%   88  Guatemala (/co2-emissions/guatemala-co2-emissions/)  18,539,316  2.42%  16,291,004  1.14  0.05%   89  Sri Lanka (/co2-emissions/sri-lanka-co2-emissions/)  18,454,691  8.55%  21,425,494  0.86  0.05%   90  Myanmar (/co2-emissions/myanmar-co2-emissions/)  16,701,776  5.61%  51,892,349  0.32  0.05%   91  Kenya (/co2-emissions/kenya-co2-emissions/)  16,334,919  3.60%  47,894,670  0.34  0.05%   92  Montenegro (/co2-emissions/montenegro-co2-emissions/)  16,249,039  2.27%  633,264  25.66  0.05%   93  Slovenia (/co2-emissions/slovenia-co2-emissions/)  14,722,601  2.35%  2,090,020  7.04  0.04%   94  Ghana (/co2-emissions/ghana-co2-emissions/)  14,469,986  3.54%  29,554,303  0.49  0.04%   95  Lithuania (/co2-emissions/lithuania-co2-emissions/)  13,685,264  2.66%  2,933,673  4.66  0.04%   96  Sudan (/co2-emissions/sudan-co2-emissions/)  13,294,106  4.18%  39,377,169  0.34  0.04%   97  Panama (/co2-emissions/panama-co2-emissions/)  11,599,764  2.37%  4,026,336  2.88  0.03%   98  Ethiopia (/co2-emissions/ethiopia-co2-emissions/)  10,438,855  4.03%  105,293,228  0.10  0.03%   99  Luxembourg (/co2-emissions/luxembourg-co2-emissions/)  10,144,632  3.45%  583,351  17.39  0.03%   100  Zimbabwe (/co2-emissions/zimbabwe-co2-emissions/)  10,062,628  -4.17%  14,452,704  0.70  0.03%   101  Côte d'Ivoire (/co2-emissions/cote-d-ivoire-co2-emissions/)  10,056,492  1.16%  24,213,622  0.42  0.03%   102  Afghanistan (/co2-emissions/afghanistan-co2-emissions/)  9,900,004  7.13%  34,636,207  0.29  0.03%   103  Tanzania (/co2-emissions/tanzania-co2-emissions/)  9,731,560  2.50%  54,401,802  0.18  0.03%   104  Cameroon (/co2-emissions/cameroon-co2-emissions/)  9,454,331  2.21%  23,711,630  0.40  0.03%   105  Honduras (/co2-emissions/honduras-co2-emissions/)  9,320,279  2.25%  9,460,798  0.99  0.03%   106  Papua New Guinea (/co2-emissions/papua-new-guinea-co2-emissions/)  9,086,988  7.09%  8,899,169  1.02  0.03%   107  Jamaica (/co2-emissions/jamaica-co2-emissions/)  8,946,575  1.82%  2,802,695  3.19  0.03%   108  North Macedonia (/co2-emissions/north-macedonia-co2-emissions/)  8,896,732  1.62%  2,110,196  4.22  0.02%   109  Georgia (/co2-emissions/georgia-co2-emissions/)  8,610,414  2.94%  3,771,110  2.28  0.02%   110  Costa Rica (/co2-emissions/costa-rica-co2-emissions/)  8,328,890  2.16%  4,945,205  1.68  0.02%   111  Moldova (/co2-emissions/moldova-co2-emissions/)  8,258,774  2.99%  3,225,123  2.56  0.02%   112  Senegal (/co2-emissions/senegal-co2-emissions/)  8,247,295  3.69%  14,751,356  0.56  0.02%   113  Latvia (/co2-emissions/latvia-co2-emissions/)  8,157,157  3.41%  1,973,476  4.13  0.02%   114  Nepal (/co2-emissions/nepal-co2-emissions/)  7,833,787  10.10%  27,861,186  0.28  0.02%   115  Brunei (/co2-emissions/brunei-darussalam-co2-emissions/)  7,672,127  3.54%  425,994  18.01  0.02%   116  Kyrgyzstan (/co2-emissions/kyrgyzstan-co2-emissions/)  6,941,784  2.53%  6,018,299  1.15  0.02%   117  Cyprus (/co2-emissions/cyprus-co2-emissions/)  6,872,427  3.73%  1,197,881  5.74  0.02%   118  El Salvador (/co2-emissions/el-salvador-co2-emissions/)  6,853,766  0.45%  6,250,510  1.10  0.02%   119  DR Congo (/co2-emissions/democratic-republic-of-the-congo-co2-emissions/)  6,564,773  3.77%  81,430,977  0.08  0.02%   120  Benin (/co2-emissions/benin-co2-emissions/)  6,563,709  4.13%  11,260,085  0.58  0.02%   121  Uruguay (/co2-emissions/uruguay-co2-emissions/)  6,508,013  1.91%  3,413,766  1.91  0.02%   122  Cambodia (/co2-emissions/cambodia-co2-emissions/)  6,496,958  7.68%  15,624,584  0.42  0.02%   123  Botswana (/co2-emissions/botswana-co2-emissions/)  6,438,429  -3.74%  2,352,416  2.74  0.02%   124  Tajikistan (/co2-emissions/tajikistan-co2-emissions/)  6,049,757  3.37%  8,725,318  0.69  0.02%   125  Paraguay (/co2-emissions/paraguay-co2-emissions/)  5,998,469  1.97%  6,266,615  0.96  0.02%   126  Mozambique (/co2-emissions/mozambique-co2-emissions/)  5,859,171  2.22%  27,696,493  0.21  0.02%   127  Gabon (/co2-emissions/gabon-co2-emissions/)  5,694,208  1.12%  2,086,206  2.73  0.02%   128  Nicaragua (/co2-emissions/nicaragua-co2-emissions/)  5,325,447  1.86%  6,389,235  0.83  0.01%   129  Congo (/co2-emissions/congo-co2-emissions/)  5,212,302  1.63%  5,186,824  1.00  0.01%   130  Albania (/co2-emissions/albania-co2-emissions/)  5,208,319  4.45%  2,881,063  1.81  0.01%   131  Uganda (/co2-emissions/uganda-co2-emissions/)  5,009,493  3.82%  38,748,299  0.13  0.01%   132  Armenia (/co2-emissions/armenia-co2-emissions/)  4,597,845  3.06%  2,865,835  1.60  0.01%   133  Laos (/co2-emissions/laos-co2-emissions/)  4,531,276  7.92%  6,891,363  0.66  0.01%   134  Bahamas (/co2-emissions/bahamas-co2-emissions/)  4,404,247  1.51%  395,976  11.12  0.01%   135  Zambia (/co2-emissions/zambia-co2-emissions/)  4,230,584  3.67%  16,767,761  0.25  0.01%   136  South Sudan (/co2-emissions/south-sudan-co2-emissions/)  4,038,496  4.18%  11,066,105  0.36  0.01%   137  Iceland (/co2-emissions/iceland-co2-emissions/)  3,923,884  1.62%  335,675  11.69  0.01%   138  Namibia (/co2-emissions/namibia-co2-emissions/)  3,901,830  4.42%  2,323,352  1.68  0.01%   139  Guyana (/co2-emissions/guyana-co2-emissions/)  3,253,057  1.61%  759,087  4.29  0.01%   140  Mauritius (/co2-emissions/mauritius-co2-emissions/)  3,192,307  0.00%  1,293,911  2.47  0.01%   141  Macao (/co2-emissions/china-macao-sar-co2-emissions/)  3,106,518  7.19%  626,688  4.96  0.01%   142  Haiti (/co2-emissions/haiti-co2-emissions/)  3,086,897  1.71%  10,713,849  0.29  0.01%   143  Madagascar (/co2-emissions/madagascar-co2-emissions/)  3,026,047  2.85%  25,501,941  0.12  0.01%   144  Martinique (/co2-emissions/martinique-co2-emissions/)  2,715,477  1.72%  380,345  7.14  0.01%   145  Mauritania (/co2-emissions/mauritania-co2-emissions/)  2,564,345  3.32%  4,051,890  0.63  0.01%   146  Guadeloupe (/co2-emissions/guadeloupe-co2-emissions/)  2,478,038  1.84%  397,854  6.23  0.01%   147  Burkina Faso (/co2-emissions/burkina-faso-co2-emissions/)  2,352,070  3.14%  19,275,498  0.12  0.01%   148  New Caledonia (/co2-emissions/new-caledonia-co2-emissions/)  2,338,717  7.22%  283,748  8.24  0.01%   149  Togo (/co2-emissions/togo-co2-emissions/)  2,321,546  5.47%  7,661,354  0.30  0.01%   150  Malta (/co2-emissions/malta-co2-emissions/)  2,257,870  3.48%  467,705  4.83  0.01%   151  Equatorial Guinea (/co2-emissions/equatorial-guinea-co2-emissions/)  2,156,371  0.00%  1,398,927  1.54  0.01%   152  Suriname (/co2-emissions/suriname-co2-emissions/)  2,152,933  0.32%  581,453  3.70  0.01%   153  Niger (/co2-emissions/niger-co2-emissions/)  2,088,475  0.15%  20,921,743  0.10  0.01%   154  Guinea (/co2-emissions/guinea-co2-emissions/)  2,071,798  3.20%  11,930,985  0.17  0.01%   155  Malawi (/co2-emissions/malawi-co2-emissions/)  1,815,598  3.26%  17,405,624  0.10  0.01%   156  Fiji (/co2-emissions/fiji-co2-emissions/)  1,703,193  7.28%  918,371  1.85  0.00%   157  Bhutan (/co2-emissions/bhutan-co2-emissions/)  1,682,100  6.14%  749,761  2.24  0.00%   158  Chad (/co2-emissions/chad-co2-emissions/)  1,670,941  2.14%  14,592,585  0.11  0.00%   159  Mali (/co2-emissions/mali-co2-emissions/)  1,606,421  2.57%  18,700,106  0.09  0.00%   160  Barbados (/co2-emissions/barbados-co2-emissions/)  1,541,447  1.88%  278,649  5.53  0.00%   161  Djibouti (/co2-emissions/djibouti-co2-emissions/)  1,508,851  2.97%  1,023,261  1.47  0.00%   162  French Guiana (/co2-emissions/french-guiana-co2-emissions/)  1,473,719  1.73%  262,813  5.61  0.00%   163  Rwanda (/co2-emissions/rwanda-co2-emissions/)  1,403,087  2.88%  11,930,899  0.12  0.00%   164  Sierra Leone (/co2-emissions/sierra-leone-co2-emissions/)  1,272,332  3.43%  7,493,913  0.17  0.00%   165  Somalia (/co2-emissions/somalia-co2-emissions/)  1,268,442  2.57%  14,292,847  0.09  0.00%   166  Maldives (/co2-emissions/maldives-co2-emissions/)  1,233,015  7.19%  454,252  2.71  0.00%   167  Réunion (/co2-emissions/reunion-co2-emissions/)  1,132,331  3.55%  926,628  1.22  0.00%   168  Belize (/co2-emissions/belize-co2-emissions/)  1,114,105  1.51%  367,313  3.03  0.00%   169  Burundi (/co2-emissions/burundi-co2-emissions/)  1,093,618  2.81%  10,903,327  0.10  0.00%   170  French Polynesia (/co2-emissions/french-polynesia-co2-emissions/)  1,003,249  7.18%  293,541  3.42  0.00%   171  Liberia (/co2-emissions/liberia-co2-emissions/)  846,658  3.49%  4,706,097  0.18  0.00%   172  Puerto Rico (/co2-emissions/puerto-rico-co2-emissions/)  712,758  1.71%  3,432,740  0.21  0.00%   173  Eritrea (/co2-emissions/eritrea-co2-emissions/)  684,140  4.79%  3,365,287  0.20  0.00%   174  Eswatini (/co2-emissions/swaziland-co2-emissions/)  657,572  2.61%  1,142,524  0.58  0.00%   175  Bermuda (/co2-emissions/bermuda-co2-emissions/)  639,352  1.51%  63,068  10.14  0.00%   176  Saint Lucia (/co2-emissions/saint-lucia-co2-emissions/)  608,182  1.51%  176,413  3.45  0.00%   177  Gibraltar (/co2-emissions/gibraltar-co2-emissions/)  572,708  3.53%  32,565  17.59  0.00%   178  Grenada (/co2-emissions/grenada-co2-emissions/)  554,848  1.51%  119,966  4.63  0.00%   179  Central African Republic (/co2-emissions/central-african-republic-co2-emissions/)  543,229  2.57%  4,904,177  0.11  0.00%   180  Seychelles (/co2-emissions/seychelles-co2-emissions/)  519,693  2.62%  100,508  5.17  0.00%   181  Timor-Leste (/co2-emissions/timor-leste-co2-emissions/)  495,687  4.63%  1,224,562  0.40  0.00%   182  Antigua and Barbuda (/co2-emissions/antigua-and-barbuda-co2-emissions/)  438,763  1.51%  90,564  4.84  0.00%   183  Cayman Islands (/co2-emissions/cayman-islands-co2-emissions/)  406,057  1.52%  62,255  6.52  0.00%   184  St. Vincent & Grenadines (/co2-emissions/saint-vincent-and-the-grenadines-co2-emissions/)  362,414  1.51%  105,963  3.42  0.00%   185  Solomon Islands (/co2-emissions/solomon-islands-co2-emissions/)  341,748  7.18%  628,102  0.54  0.00%   186  Guinea-Bissau (/co2-emissions/guinea-bissau-co2-emissions/)  318,706  2.59%  1,834,552  0.17  0.00%   187  Lesotho (/co2-emissions/lesotho-co2-emissions/)  318,438  2.58%  2,143,872  0.15  0.00%   188  Aruba (/co2-emissions/aruba-co2-emissions/)  286,871  1.51%  104,874  2.74  0.00%   189  Gambia (/co2-emissions/gambia-co2-emissions/)  254,127  2.59%  2,317,206  0.11  0.00%   190  Tonga (/co2-emissions/tonga-co2-emissions/)  251,375  7.19%  105,707  2.38  0.00%   191  Western Sahara (/co2-emissions/western-sahara-co2-emissions/)  207,592  2.61%  505,455  0.41  0.00%   192  Saint Kitts & Nevis (/co2-emissions/saint-kitts-and-nevis-co2-emissions/)  203,036  1.51%  47,788  4.25  0.00%   193  Dominica (/co2-emissions/dominica-co2-emissions/)  185,767  1.51%  70,075  2.65  0.00%   194  Samoa (/co2-emissions/samoa-co2-emissions/)  169,939  7.18%  205,544  0.83  0.00%   195  Vanuatu (/co2-emissions/vanuatu-co2-emissions/)  137,706  7.18%  283,218  0.49  0.00%   196  Comoros (/co2-emissions/comoros-co2-emissions/)  108,422  2.58%  746,232  0.15  0.00%   197  British Virgin Islands (/co2-emissions/british-virgin-islands-co2-emissions/)  99,762  1.51%  29,739  3.35  0.00%   198  Cabo Verde (/co2-emissions/cabo-verde-co2-emissions/)  99,687  2.59%  558,394  0.18  0.00%   199  Turks and Caicos (/co2-emissions/turks-and-caicos-islands-co2-emissions/)  65,451  1.52%  38,246  1.71  0.00%   200  Sao Tome & Principe (/co2-emissions/sao-tome-and-principe-co2-emissions/)  56,185  2.60%  204,632  0.27  0.00%   201  Kiribati (/co2-emissions/kiribati-co2-emissions/)  52,818  7.18%  118,513  0.45  0.00%   202  Falkland Islands (/co2-emissions/falkland-islands-malvinas-co2-emissions/)  48,568  1.51%  3,508  13.84  0.00%   203  Palau (/co2-emissions/palau-co2-emissions/)  41,732  7.19%  17,816  2.34  0.00%   204  Cook Islands (/co2-emissions/cook-islands-co2-emissions/)  37,354  7.19%  17,546  2.13  0.00%   205  Anguilla (/co2-emissions/anguilla-co2-emissions/)  30,262  1.52%  14,813  2.04  0.00%   206  Saint Helena (/co2-emissions/saint-helena-co2-emissions/)  13,128  2.62%  5,510  2.38  0.00%   207  Saint Pierre & Miquelon (/co2-emissions/saint-pierre-and-miquelon-co2-emissions/)  8,842  1.51%  5,965  1.48  0.00%   208  Faeroe Islands (/co2-emissions/faeroe-islands-co2-emissions/)  1,953  0.60%  49,500  0.04  0.00%   209  Greenland (/co2-emissions/greenland-co2-emissions/)  1,530  0.86%  55,916  0.03  0.00%   Carbon Dioxide (CO2) Emissions by Country - Worldometer  Sources   Emission Database for Global Atmospheric Research (EDGAR)  CO2 Emissions from Fuel Combustion - IEA  World Population Prospects: The 2019 Revision (https://esa.un.org/unpd/wpp/) - United Nations Population Division\", metadata={'source': 'https://www.worldometers.info/co2-emissions/co2-emissions-by-country/'})"
      ]
     },
     "execution_count": 13,
     "metadata": {},
     "output_type": "execute_result"
    }
   ],
   "source": [
    "docs_transformed1[0]"
   ]
  },
  {
   "cell_type": "code",
   "execution_count": 15,
   "metadata": {},
   "outputs": [
    {
     "data": {
      "text/plain": [
       "[\"Source ID: 0\\nArticle Title: {'source': 'https://www.worldometers.info/co2-emissions/co2-emissions-by-country/'}\\nArticle Snippet: Coronavirus (/coronavirus/)  Population (/population/)       W (/) CO2 Emissions (/co2-emissions/)  CO2 Emissions by Country  CO2 Emissions by Country   Search:   # Country CO2 Emissions (tons, 2016) 1 Year Change Population (2016) Per capita Share of world     1  China (/co2-emissions/china-co2-emissions/)  10,432,751,400  -0.28%  1,401,889,681  7.44  29.18%   2  United States (/co2-emissions/us-co2-emissions/)  5,011,686,600  -2.01%  327,210,198  15.32  14.02%   3  India (/co2-emissions/india-co2-emissions/)  2,533,638,100  4.71%  1,338,636,340  1.89  7.09%   4  Russia (/co2-emissions/russia-co2-emissions/)  1,661,899,300  -2.13%  145,109,157  11.45  4.65%   5  Japan (/co2-emissions/japan-co2-emissions/)  1,239,592,060  -1.21%  126,993,857  9.76  3.47%   6  Germany (/co2-emissions/germany-co2-emissions/)  775,752,190  1.28%  82,331,423  9.42  2.17%   7  Canada (/co2-emissions/canada-co2-emissions/)  675,918,610  -1.00%  36,113,532  18.72  1.89%   8  Iran (/co2-emissions/iran-co2-emissions/)  642,560,030  2.22%  83,306,231  7.71  1.80%   9  South Korea (/co2-emissions/south-korea-co2-emissions/)  604,043,830  0.45%  51,309,984  11.77  1.69%   10  Indonesia (/co2-emissions/indonesia-co2-emissions/)  530,035,650  6.41%  261,850,182  2.02  1.48%   11  Saudi Arabia (/co2-emissions/saudi-arabia-co2-emissions/)  517,079,407  0.92%  33,416,270  15.47  1.45%   12  Brazil (/co2-emissions/brazil-co2-emissions/)  462,994,920  -6.08%  206,859,578  2.24  1.29%   13  Mexico (/co2-emissions/mexico-co2-emissions/)  441,412,750  -2.13%  121,519,221  3.63  1.23%   14  Australia (/co2-emissions/australia-co2-emissions/)  414,988,700  -0.98%  24,195,701  17.15  1.16%   15  South Africa (/co2-emissions/south-africa-co2-emissions/)  390,557,850  -0.49%  56,422,274  6.92  1.09%   16  Turkey (/co2-emissions/turkey-co2-emissions/)  368,122,740  5.25%  81,019,394  4.54  1.03%   17  United Kingdom (/co2-emissions/uk-co2-emissions/)  367,860,350  -6.38%  65,655,203  5.60  1.03%   18  Italy (/co2-emissions/italy-co2-emissions/)  358,139,550  0.84%  60,118,626  5.96  1.00%   19  France (/co2-emissions/france-co2-emissions/)  331,533,320  2.11%  63,989,319  5.18  0.93%   20  Poland (/co2-emissions/poland-co2-emissions/)  296,659,670  2.67%  38,532,113  7.70  0.83%   21  Taiwan (/co2-emissions/taiwan-co2-emissions/)  276,724,868  1.91%  23,594,471  11.73  0.77%   22  Thailand (/co2-emissions/thailand-co2-emissions/)  271,040,160  1.55%  70,607,037  3.84  0.76%   23  Malaysia (/co2-emissions/malaysia-co2-emissions/)  266,251,542  6.54%  31,526,418  8.45  0.74%   24  Spain (/co2-emissions/spain-co2-emissions/)  251,892,320  -3.12%  46,473,315  5.42  0.70%   25  Ukraine (/co2-emissions/ukraine-co2-emissions/)  233,220,080  8.03%  44,833,569  5.20  0.65%   26  Kazakhstan (/co2-emissions/kazakhstan-co2-emissions/)  231,919,540  1.64%  18,078,553  12.83  0.65%   27  Egypt (/co2-emissions/egypt-co2-emissions/)  219,377,350  4.72%  99,784,030  2.20  0.61%   28  United Arab Emirates (/co2-emissions/united-arab-emirates-co2-emissions/)  218,788,684  4.43%  8,994,263  24.33  0.61%   29  Vietnam (/co2-emissions/vietnam-co2-emissions/)  206,042,140  0.09%  93,126,529  2.21  0.58%   30  Argentina (/co2-emissions/argentina-co2-emissions/)  200,708,270  0.16%  43,668,241  4.60  0.56%   31  Pakistan (/co2-emissions/pakistan-co2-emissions/)  178,013,820  9.13%  213,524,840  0.83  0.50%   32  Venezuela (/co2-emissions/venezuela-co2-emissions/)  175,884,256  -1.90%  30,741,464  5.72  0.49%   33  Netherlands (/co2-emissions/netherlands-co2-emissions/)  163,419,285  1.63%  17,124,505  9.54  0.46%   34  Iraq (/co2-emissions/iraq-co2-emissions/)  162,646,160  1.22%  38,697,943  4.20  0.45%   35  Algeria (/co2-emissions/algeria-co2-emissions/)  156,220,560  0.17%  40,339,329  3.87  0.44%   36  Philippines (/co2-emissions/philippines-co2-emissions/)  126,922,662  12.37%  104,875,266  1.21  0.35%   37  Czech Republic (Czechia) (/co2-emissions/czechia-co2-emissions/)  111,825,428  1.39%  10,527,591  10.62  0.31%   38  Uzbekistan (/co2-emissions/uzbekistan-co2-emissions/)  109,347,340  1.60%  31,453,574  3.48  0.31%   39  Kuwait (/co2-emissions/kuwait-co2-emissions/)  101,492,225  1.36%  4,048,085  25.07  0.28%   40  Qatar (/co2-emissions/qatar-co2-emissions/)  98,990,085  1.79%  2,595,166  38.14  0.28%   41  Belgium (/co2-emissions/belgium-co2-emissions/)  94,722,813  1.53%  11,316,836  8.37  0.26%   42  Oman (/co2-emissions/oman-co2-emissions/)  87,835,773  2.09%  4,398,070  19.97  0.25%   43  Nigeria (/co2-emissions/nigeria-co2-emissions/)  82,634,214  0.70%  188,666,931  0.44  0.23%   44  Chile (/co2-emissions/chile-co2-emissions/)  81,258,525  5.33%  18,083,879  4.49  0.23%   45  Turkmenistan (/co2-emissions/turkmenistan-co2-emissions/)  79,279,216  0.63%  5,868,561  13.51  0.22%   46  Romania (/co2-emissions/romania-co2-emissions/)  78,770,824  1.69%  19,797,820  3.98  0.22%   47  Colombia (/co2-emissions/colombia-co2-emissions/)  77,667,594  -0.84%  47,625,955  1.63  0.22%   48  Bangladesh (/co2-emissions/bangladesh-co2-emissions/)  74,476,230  4.50%  159,784,568  0.47  0.21%   49  Austria (/co2-emissions/austria-co2-emissions/)  73,764,112  1.54%  8,736,487  8.44  0.21%   50  Greece (/co2-emissions/greece-co2-emissions/)  67,840,662  -3.47%  10,749,742  6.31  0.19%   51  Israel (/co2-emissions/israel-co2-emissions/)  65,201,588  -0.38%  8,159,009  7.99  0.18%   52  Belarus (/co2-emissions/belarus-co2-emissions/)  62,655,669  4.90%  9,708,110  6.45  0.18%   53  North Korea (/co2-emissions/north-korea-co2-emissions/)  58,708,734  19.49%  25,389,611  2.31  0.16%   54  Morocco (/co2-emissions/morocco-co2-emissions/)  57,694,464  0.54%  35,107,264  1.64  0.16%   55  Peru (/co2-emissions/peru-co2-emissions/)  57,692,879  8.16%  31,132,779  1.85  0.16%   56  Libya (/co2-emissions/libya-co2-emissions/)  52,696,075  1.52%  6,282,196  8.39  0.15%   57  Finland (/co2-emissions/finland-co2-emissions/)  51,183,960  3.62%  5,495,219  9.31  0.14%   58  Hungary (/co2-emissions/hungary-co2-emissions/)  51,018,899  2.16%  9,815,104  5.20  0.14%   59  Bulgaria (/co2-emissions/bulgaria-co2-emissions/)  50,872,910  -6.00%  7,245,975  7.02  0.14%   60  Portugal (/co2-emissions/portugal-co2-emissions/)  50,142,844  -2.36%  10,332,753  4.85  0.14%   61  Singapore (/co2-emissions/singapore-co2-emissions/)  48,381,759  2.56%  5,711,933  8.47  0.14%   62  Hong Kong (/co2-emissions/china-hong-kong-sar-co2-emissions/)  47,066,386  1.23%  7,435,927  6.33  0.13%   63  Sweden (/co2-emissions/sweden-co2-emissions/)  44,694,415  4.33%  9,953,317  4.49  0.13%   64  Norway (/co2-emissions/norway-co2-emissions/)  43,456,012  0.85%  5,236,590  8.30  0.12%   65  Serbia (/co2-emissions/serbia-co2-emissions/)  41,168,059  2.27%  7,493,288  5.49  0.12%   66  Ecuador (/co2-emissions/ecuador-co2-emissions/)  40,065,690  -4.85%  16,439,585  2.44  0.11%   67  Switzerland (/co2-emissions/switzerland-co2-emissions/)  39,666,930  -2.30%  8,372,898  4.74  0.11%   68  Ireland (/co2-emissions/ireland-co2-emissions/)  39,086,565  5.09%  4,715,788  8.29  0.11%   69  Syria (/co2-emissions/syria-co2-emissions/)  38,054,696  1.78%  18,964,252  2.01  0.11%   70  Denmark (/co2-emissions/denmark-co2-emissions/)  38,007,645  5.23%  5,706,857  6.66  0.11%   71  Slovakia (/co2-emissions/slovakia-co2-emissions/)  36,817,242  1.74%  5,431,203  6.78  0.10%   72  Trinidad and Tobago (/co2-emissions/trinidad-and-tobago-co2-emissions/)  34,974,263  -5.92%  1,469,330  23.80  0.10%   73  Azerbaijan (/co2-emissions/azerbaijan-co2-emissions/)  33,614,235  -0.41%  9,976,248  3.37  0.09%   74  New Zealand (/co2-emissions/new-zealand-co2-emissions/)  33,276,202  -0.14%  4,668,081  7.13  0.09%   75  Angola (/co2-emissions/angola-co2-emissions/)  30,566,933  3.13%  29,154,746  1.05  0.09%   76  Cuba (/co2-emissions/cuba-co2-emissions/)  30,389,116  1.65%  11,342,012  2.68  0.08%   77  Tunisia (/co2-emissions/tunisia-co2-emissions/)  29,395,965  0.82%  11,685,667  2.52  0.08%   78  Bosnia and Herzegovina (/co2-emissions/bosnia-and-herzegovina-co2-emissions/)  25,674,120  0.86%  3,480,986  7.38  0.07%   79  Yemen (/co2-emissions/yemen-co2-emissions/)  25,647,990  1.62%  29,274,002  0.88  0.07%   80  Bahrain (/co2-emissions/bahrain-co2-emissions/)  24,458,384  2.50%  1,409,661  17.35  0.07%   81  Dominican Republic (/co2-emissions/dominican-republic-co2-emissions/)  23,466,740  2.88%  10,527,592  2.23  0.07%   82  Jordan (/co2-emissions/jordan-co2-emissions/)  22,772,370  1.83%  9,964,656  2.29  0.06%   83  Estonia (/co2-emissions/estonia-co2-emissions/)  22,402,414  1.01%  1,315,926  17.02  0.06%   84  Lebanon (/co2-emissions/lebanon-co2-emissions/)  21,863,288  1.95%  6,258,619  3.49  0.06%   85  Bolivia (/co2-emissions/bolivia-co2-emissions/)  19,463,728  2.03%  11,263,015  1.73  0.05%   86  Croatia (/co2-emissions/croatia-co2-emissions/)  19,408,194  3.02%  4,223,751  4.60  0.05%   87  Mongolia (/co2-emissions/mongolia-co2-emissions/)  18,574,260  18.09%  3,029,555  6.13  0.05%   88  Guatemala (/co2-emissions/guatemala-co2-emissions/)  18,539,316  2.42%  16,291,004  1.14  0.05%   89  Sri Lanka (/co2-emissions/sri-lanka-co2-emissions/)  18,454,691  8.55%  21,425,494  0.86  0.05%   90  Myanmar (/co2-emissions/myanmar-co2-emissions/)  16,701,776  5.61%  51,892,349  0.32  0.05%   91  Kenya (/co2-emissions/kenya-co2-emissions/)  16,334,919  3.60%  47,894,670  0.34  0.05%   92  Montenegro (/co2-emissions/montenegro-co2-emissions/)  16,249,039  2.27%  633,264  25.66  0.05%   93  Slovenia (/co2-emissions/slovenia-co2-emissions/)  14,722,601  2.35%  2,090,020  7.04  0.04%   94  Ghana (/co2-emissions/ghana-co2-emissions/)  14,469,986  3.54%  29,554,303  0.49  0.04%   95  Lithuania (/co2-emissions/lithuania-co2-emissions/)  13,685,264  2.66%  2,933,673  4.66  0.04%   96  Sudan (/co2-emissions/sudan-co2-emissions/)  13,294,106  4.18%  39,377,169  0.34  0.04%   97  Panama (/co2-emissions/panama-co2-emissions/)  11,599,764  2.37%  4,026,336  2.88  0.03%   98  Ethiopia (/co2-emissions/ethiopia-co2-emissions/)  10,438,855  4.03%  105,293,228  0.10  0.03%   99  Luxembourg (/co2-emissions/luxembourg-co2-emissions/)  10,144,632  3.45%  583,351  17.39  0.03%   100  Zimbabwe (/co2-emissions/zimbabwe-co2-emissions/)  10,062,628  -4.17%  14,452,704  0.70  0.03%   101  Côte d'Ivoire (/co2-emissions/cote-d-ivoire-co2-emissions/)  10,056,492  1.16%  24,213,622  0.42  0.03%   102  Afghanistan (/co2-emissions/afghanistan-co2-emissions/)  9,900,004  7.13%  34,636,207  0.29  0.03%   103  Tanzania (/co2-emissions/tanzania-co2-emissions/)  9,731,560  2.50%  54,401,802  0.18  0.03%   104  Cameroon (/co2-emissions/cameroon-co2-emissions/)  9,454,331  2.21%  23,711,630  0.40  0.03%   105  Honduras (/co2-emissions/honduras-co2-emissions/)  9,320,279  2.25%  9,460,798  0.99  0.03%   106  Papua New Guinea (/co2-emissions/papua-new-guinea-co2-emissions/)  9,086,988  7.09%  8,899,169  1.02  0.03%   107  Jamaica (/co2-emissions/jamaica-co2-emissions/)  8,946,575  1.82%  2,802,695  3.19  0.03%   108  North Macedonia (/co2-emissions/north-macedonia-co2-emissions/)  8,896,732  1.62%  2,110,196  4.22  0.02%   109  Georgia (/co2-emissions/georgia-co2-emissions/)  8,610,414  2.94%  3,771,110  2.28  0.02%   110  Costa Rica (/co2-emissions/costa-rica-co2-emissions/)  8,328,890  2.16%  4,945,205  1.68  0.02%   111  Moldova (/co2-emissions/moldova-co2-emissions/)  8,258,774  2.99%  3,225,123  2.56  0.02%   112  Senegal (/co2-emissions/senegal-co2-emissions/)  8,247,295  3.69%  14,751,356  0.56  0.02%   113  Latvia (/co2-emissions/latvia-co2-emissions/)  8,157,157  3.41%  1,973,476  4.13  0.02%   114  Nepal (/co2-emissions/nepal-co2-emissions/)  7,833,787  10.10%  27,861,186  0.28  0.02%   115  Brunei (/co2-emissions/brunei-darussalam-co2-emissions/)  7,672,127  3.54%  425,994  18.01  0.02%   116  Kyrgyzstan (/co2-emissions/kyrgyzstan-co2-emissions/)  6,941,784  2.53%  6,018,299  1.15  0.02%   117  Cyprus (/co2-emissions/cyprus-co2-emissions/)  6,872,427  3.73%  1,197,881  5.74  0.02%   118  El Salvador (/co2-emissions/el-salvador-co2-emissions/)  6,853,766  0.45%  6,250,510  1.10  0.02%   119  DR Congo (/co2-emissions/democratic-republic-of-the-congo-co2-emissions/)  6,564,773  3.77%  81,430,977  0.08  0.02%   120  Benin (/co2-emissions/benin-co2-emissions/)  6,563,709  4.13%  11,260,085  0.58  0.02%   121  Uruguay (/co2-emissions/uruguay-co2-emissions/)  6,508,013  1.91%  3,413,766  1.91  0.02%   122  Cambodia (/co2-emissions/cambodia-co2-emissions/)  6,496,958  7.68%  15,624,584  0.42  0.02%   123  Botswana (/co2-emissions/botswana-co2-emissions/)  6,438,429  -3.74%  2,352,416  2.74  0.02%   124  Tajikistan (/co2-emissions/tajikistan-co2-emissions/)  6,049,757  3.37%  8,725,318  0.69  0.02%   125  Paraguay (/co2-emissions/paraguay-co2-emissions/)  5,998,469  1.97%  6,266,615  0.96  0.02%   126  Mozambique (/co2-emissions/mozambique-co2-emissions/)  5,859,171  2.22%  27,696,493  0.21  0.02%   127  Gabon (/co2-emissions/gabon-co2-emissions/)  5,694,208  1.12%  2,086,206  2.73  0.02%   128  Nicaragua (/co2-emissions/nicaragua-co2-emissions/)  5,325,447  1.86%  6,389,235  0.83  0.01%   129  Congo (/co2-emissions/congo-co2-emissions/)  5,212,302  1.63%  5,186,824  1.00  0.01%   130  Albania (/co2-emissions/albania-co2-emissions/)  5,208,319  4.45%  2,881,063  1.81  0.01%   131  Uganda (/co2-emissions/uganda-co2-emissions/)  5,009,493  3.82%  38,748,299  0.13  0.01%   132  Armenia (/co2-emissions/armenia-co2-emissions/)  4,597,845  3.06%  2,865,835  1.60  0.01%   133  Laos (/co2-emissions/laos-co2-emissions/)  4,531,276  7.92%  6,891,363  0.66  0.01%   134  Bahamas (/co2-emissions/bahamas-co2-emissions/)  4,404,247  1.51%  395,976  11.12  0.01%   135  Zambia (/co2-emissions/zambia-co2-emissions/)  4,230,584  3.67%  16,767,761  0.25  0.01%   136  South Sudan (/co2-emissions/south-sudan-co2-emissions/)  4,038,496  4.18%  11,066,105  0.36  0.01%   137  Iceland (/co2-emissions/iceland-co2-emissions/)  3,923,884  1.62%  335,675  11.69  0.01%   138  Namibia (/co2-emissions/namibia-co2-emissions/)  3,901,830  4.42%  2,323,352  1.68  0.01%   139  Guyana (/co2-emissions/guyana-co2-emissions/)  3,253,057  1.61%  759,087  4.29  0.01%   140  Mauritius (/co2-emissions/mauritius-co2-emissions/)  3,192,307  0.00%  1,293,911  2.47  0.01%   141  Macao (/co2-emissions/china-macao-sar-co2-emissions/)  3,106,518  7.19%  626,688  4.96  0.01%   142  Haiti (/co2-emissions/haiti-co2-emissions/)  3,086,897  1.71%  10,713,849  0.29  0.01%   143  Madagascar (/co2-emissions/madagascar-co2-emissions/)  3,026,047  2.85%  25,501,941  0.12  0.01%   144  Martinique (/co2-emissions/martinique-co2-emissions/)  2,715,477  1.72%  380,345  7.14  0.01%   145  Mauritania (/co2-emissions/mauritania-co2-emissions/)  2,564,345  3.32%  4,051,890  0.63  0.01%   146  Guadeloupe (/co2-emissions/guadeloupe-co2-emissions/)  2,478,038  1.84%  397,854  6.23  0.01%   147  Burkina Faso (/co2-emissions/burkina-faso-co2-emissions/)  2,352,070  3.14%  19,275,498  0.12  0.01%   148  New Caledonia (/co2-emissions/new-caledonia-co2-emissions/)  2,338,717  7.22%  283,748  8.24  0.01%   149  Togo (/co2-emissions/togo-co2-emissions/)  2,321,546  5.47%  7,661,354  0.30  0.01%   150  Malta (/co2-emissions/malta-co2-emissions/)  2,257,870  3.48%  467,705  4.83  0.01%   151  Equatorial Guinea (/co2-emissions/equatorial-guinea-co2-emissions/)  2,156,371  0.00%  1,398,927  1.54  0.01%   152  Suriname (/co2-emissions/suriname-co2-emissions/)  2,152,933  0.32%  581,453  3.70  0.01%   153  Niger (/co2-emissions/niger-co2-emissions/)  2,088,475  0.15%  20,921,743  0.10  0.01%   154  Guinea (/co2-emissions/guinea-co2-emissions/)  2,071,798  3.20%  11,930,985  0.17  0.01%   155  Malawi (/co2-emissions/malawi-co2-emissions/)  1,815,598  3.26%  17,405,624  0.10  0.01%   156  Fiji (/co2-emissions/fiji-co2-emissions/)  1,703,193  7.28%  918,371  1.85  0.00%   157  Bhutan (/co2-emissions/bhutan-co2-emissions/)  1,682,100  6.14%  749,761  2.24  0.00%   158  Chad (/co2-emissions/chad-co2-emissions/)  1,670,941  2.14%  14,592,585  0.11  0.00%   159  Mali (/co2-emissions/mali-co2-emissions/)  1,606,421  2.57%  18,700,106  0.09  0.00%   160  Barbados (/co2-emissions/barbados-co2-emissions/)  1,541,447  1.88%  278,649  5.53  0.00%   161  Djibouti (/co2-emissions/djibouti-co2-emissions/)  1,508,851  2.97%  1,023,261  1.47  0.00%   162  French Guiana (/co2-emissions/french-guiana-co2-emissions/)  1,473,719  1.73%  262,813  5.61  0.00%   163  Rwanda (/co2-emissions/rwanda-co2-emissions/)  1,403,087  2.88%  11,930,899  0.12  0.00%   164  Sierra Leone (/co2-emissions/sierra-leone-co2-emissions/)  1,272,332  3.43%  7,493,913  0.17  0.00%   165  Somalia (/co2-emissions/somalia-co2-emissions/)  1,268,442  2.57%  14,292,847  0.09  0.00%   166  Maldives (/co2-emissions/maldives-co2-emissions/)  1,233,015  7.19%  454,252  2.71  0.00%   167  Réunion (/co2-emissions/reunion-co2-emissions/)  1,132,331  3.55%  926,628  1.22  0.00%   168  Belize (/co2-emissions/belize-co2-emissions/)  1,114,105  1.51%  367,313  3.03  0.00%   169  Burundi (/co2-emissions/burundi-co2-emissions/)  1,093,618  2.81%  10,903,327  0.10  0.00%   170  French Polynesia (/co2-emissions/french-polynesia-co2-emissions/)  1,003,249  7.18%  293,541  3.42  0.00%   171  Liberia (/co2-emissions/liberia-co2-emissions/)  846,658  3.49%  4,706,097  0.18  0.00%   172  Puerto Rico (/co2-emissions/puerto-rico-co2-emissions/)  712,758  1.71%  3,432,740  0.21  0.00%   173  Eritrea (/co2-emissions/eritrea-co2-emissions/)  684,140  4.79%  3,365,287  0.20  0.00%   174  Eswatini (/co2-emissions/swaziland-co2-emissions/)  657,572  2.61%  1,142,524  0.58  0.00%   175  Bermuda (/co2-emissions/bermuda-co2-emissions/)  639,352  1.51%  63,068  10.14  0.00%   176  Saint Lucia (/co2-emissions/saint-lucia-co2-emissions/)  608,182  1.51%  176,413  3.45  0.00%   177  Gibraltar (/co2-emissions/gibraltar-co2-emissions/)  572,708  3.53%  32,565  17.59  0.00%   178  Grenada (/co2-emissions/grenada-co2-emissions/)  554,848  1.51%  119,966  4.63  0.00%   179  Central African Republic (/co2-emissions/central-african-republic-co2-emissions/)  543,229  2.57%  4,904,177  0.11  0.00%   180  Seychelles (/co2-emissions/seychelles-co2-emissions/)  519,693  2.62%  100,508  5.17  0.00%   181  Timor-Leste (/co2-emissions/timor-leste-co2-emissions/)  495,687  4.63%  1,224,562  0.40  0.00%   182  Antigua and Barbuda (/co2-emissions/antigua-and-barbuda-co2-emissions/)  438,763  1.51%  90,564  4.84  0.00%   183  Cayman Islands (/co2-emissions/cayman-islands-co2-emissions/)  406,057  1.52%  62,255  6.52  0.00%   184  St. Vincent & Grenadines (/co2-emissions/saint-vincent-and-the-grenadines-co2-emissions/)  362,414  1.51%  105,963  3.42  0.00%   185  Solomon Islands (/co2-emissions/solomon-islands-co2-emissions/)  341,748  7.18%  628,102  0.54  0.00%   186  Guinea-Bissau (/co2-emissions/guinea-bissau-co2-emissions/)  318,706  2.59%  1,834,552  0.17  0.00%   187  Lesotho (/co2-emissions/lesotho-co2-emissions/)  318,438  2.58%  2,143,872  0.15  0.00%   188  Aruba (/co2-emissions/aruba-co2-emissions/)  286,871  1.51%  104,874  2.74  0.00%   189  Gambia (/co2-emissions/gambia-co2-emissions/)  254,127  2.59%  2,317,206  0.11  0.00%   190  Tonga (/co2-emissions/tonga-co2-emissions/)  251,375  7.19%  105,707  2.38  0.00%   191  Western Sahara (/co2-emissions/western-sahara-co2-emissions/)  207,592  2.61%  505,455  0.41  0.00%   192  Saint Kitts & Nevis (/co2-emissions/saint-kitts-and-nevis-co2-emissions/)  203,036  1.51%  47,788  4.25  0.00%   193  Dominica (/co2-emissions/dominica-co2-emissions/)  185,767  1.51%  70,075  2.65  0.00%   194  Samoa (/co2-emissions/samoa-co2-emissions/)  169,939  7.18%  205,544  0.83  0.00%   195  Vanuatu (/co2-emissions/vanuatu-co2-emissions/)  137,706  7.18%  283,218  0.49  0.00%   196  Comoros (/co2-emissions/comoros-co2-emissions/)  108,422  2.58%  746,232  0.15  0.00%   197  British Virgin Islands (/co2-emissions/british-virgin-islands-co2-emissions/)  99,762  1.51%  29,739  3.35  0.00%   198  Cabo Verde (/co2-emissions/cabo-verde-co2-emissions/)  99,687  2.59%  558,394  0.18  0.00%   199  Turks and Caicos (/co2-emissions/turks-and-caicos-islands-co2-emissions/)  65,451  1.52%  38,246  1.71  0.00%   200  Sao Tome & Principe (/co2-emissions/sao-tome-and-principe-co2-emissions/)  56,185  2.60%  204,632  0.27  0.00%   201  Kiribati (/co2-emissions/kiribati-co2-emissions/)  52,818  7.18%  118,513  0.45  0.00%   202  Falkland Islands (/co2-emissions/falkland-islands-malvinas-co2-emissions/)  48,568  1.51%  3,508  13.84  0.00%   203  Palau (/co2-emissions/palau-co2-emissions/)  41,732  7.19%  17,816  2.34  0.00%   204  Cook Islands (/co2-emissions/cook-islands-co2-emissions/)  37,354  7.19%  17,546  2.13  0.00%   205  Anguilla (/co2-emissions/anguilla-co2-emissions/)  30,262  1.52%  14,813  2.04  0.00%   206  Saint Helena (/co2-emissions/saint-helena-co2-emissions/)  13,128  2.62%  5,510  2.38  0.00%   207  Saint Pierre & Miquelon (/co2-emissions/saint-pierre-and-miquelon-co2-emissions/)  8,842  1.51%  5,965  1.48  0.00%   208  Faeroe Islands (/co2-emissions/faeroe-islands-co2-emissions/)  1,953  0.60%  49,500  0.04  0.00%   209  Greenland (/co2-emissions/greenland-co2-emissions/)  1,530  0.86%  55,916  0.03  0.00%   Carbon Dioxide (CO2) Emissions by Country - Worldometer  Sources   Emission Database for Global Atmospheric Research (EDGAR)  CO2 Emissions from Fuel Combustion - IEA  World Population Prospects: The 2019 Revision (https://esa.un.org/unpd/wpp/) - United Nations Population Division\"]"
      ]
     },
     "execution_count": 15,
     "metadata": {},
     "output_type": "execute_result"
    }
   ],
   "source": [
    "formatted = [\n",
    "        f\"Source ID: {i}\\nArticle Title: {doc.metadata}\\nArticle Snippet: {doc.page_content}\"\n",
    "        for i, doc in enumerate(docs_transformed1)\n",
    "    ]\n",
    "formatted"
   ]
  },
  {
   "cell_type": "code",
   "execution_count": 19,
   "metadata": {},
   "outputs": [
    {
     "data": {
      "text/plain": [
       "True"
      ]
     },
     "execution_count": 19,
     "metadata": {},
     "output_type": "execute_result"
    }
   ],
   "source": [
    "from langchain.chat_models import ChatOpenAI\n",
    "from langchain.chains import LLMChain, create_citation_fuzzy_match_chain\n",
    "from langchain_core.prompts import PromptTemplate\n",
    "\n",
    "import dotenv\n",
    "\n",
    "dotenv.load_dotenv()\n"
   ]
  },
  {
   "cell_type": "code",
   "execution_count": 23,
   "metadata": {},
   "outputs": [],
   "source": [
    "# Define the model\n",
    "llm = ChatOpenAI(temperature=0, model=\"gpt-3.5-turbo\")\n",
    "\n",
    "# Create the chain\n",
    "llm_chain = create_citation_fuzzy_match_chain(llm)\n",
    "\n",
    "# Use the model\n",
    "question = \"Generate a trivia question and answer from the context.\"\n",
    "result = llm_chain.run(question=question, context=formatted)"
   ]
  },
  {
   "cell_type": "code",
   "execution_count": 30,
   "metadata": {},
   "outputs": [
    {
     "data": {
      "text/plain": [
       "QuestionAnswer(question='What country had the highest CO2 emissions in 2016 according to the source?', answer=[FactWithEvidence(fact='China had the highest CO2 emissions in 2016 with 10,432,751,400 tons.', substring_quote=['1  China (/co2-emissions/china-co2-emissions/)  10,432,751,400'])])"
      ]
     },
     "execution_count": 30,
     "metadata": {},
     "output_type": "execute_result"
    }
   ],
   "source": [
    "result"
   ]
  },
  {
   "cell_type": "code",
   "execution_count": 32,
   "metadata": {},
   "outputs": [
    {
     "ename": "AttributeError",
     "evalue": "'list' object has no attribute 'get_spans'",
     "output_type": "error",
     "traceback": [
      "\u001b[0;31m---------------------------------------------------------------------------\u001b[0m",
      "\u001b[0;31mAttributeError\u001b[0m                            Traceback (most recent call last)",
      "Cell \u001b[0;32mIn[32], line 1\u001b[0m\n\u001b[0;32m----> 1\u001b[0m \u001b[43mresult\u001b[49m\u001b[38;5;241;43m.\u001b[39;49m\u001b[43manswer\u001b[49m\u001b[38;5;241;43m.\u001b[39;49m\u001b[43mget_spans\u001b[49m()\n",
      "\u001b[0;31mAttributeError\u001b[0m: 'list' object has no attribute 'get_spans'"
     ]
    }
   ],
   "source": [
    "result.answer\n"
   ]
  },
  {
   "cell_type": "code",
   "execution_count": null,
   "metadata": {},
   "outputs": [],
   "source": []
  }
 ],
 "metadata": {
  "kernelspec": {
   "display_name": "myenv",
   "language": "python",
   "name": "python3"
  },
  "language_info": {
   "codemirror_mode": {
    "name": "ipython",
    "version": 3
   },
   "file_extension": ".py",
   "mimetype": "text/x-python",
   "name": "python",
   "nbconvert_exporter": "python",
   "pygments_lexer": "ipython3",
   "version": "3.12.0"
  }
 },
 "nbformat": 4,
 "nbformat_minor": 2
}
